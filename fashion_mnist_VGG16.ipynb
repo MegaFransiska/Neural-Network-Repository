{
  "nbformat": 4,
  "nbformat_minor": 0,
  "metadata": {
    "colab": {
      "name": "fashion mnist VGG16",
      "version": "0.3.2",
      "provenance": [],
      "collapsed_sections": [],
      "toc_visible": true,
      "include_colab_link": true
    },
    "kernelspec": {
      "name": "python3",
      "display_name": "Python 3"
    },
    "accelerator": "GPU"
  },
  "cells": [
    {
      "cell_type": "markdown",
      "metadata": {
        "id": "view-in-github",
        "colab_type": "text"
      },
      "source": [
        "<a href=\"https://colab.research.google.com/github/megasiska86/Neural-Network-Repository/blob/master/fashion_mnist_VGG16.ipynb\" target=\"_parent\"><img src=\"https://colab.research.google.com/assets/colab-badge.svg\" alt=\"Open In Colab\"/></a>"
      ]
    },
    {
      "cell_type": "code",
      "metadata": {
        "id": "i32v1xCYdJiB",
        "colab_type": "code",
        "colab": {}
      },
      "source": [
        "!mkdir fashion-mnist-master.zip"
      ],
      "execution_count": 0,
      "outputs": []
    },
    {
      "cell_type": "code",
      "metadata": {
        "id": "gpJR-RhWeGX0",
        "colab_type": "code",
        "colab": {}
      },
      "source": [
        "!rm -rf fashion-mnist-master.zip"
      ],
      "execution_count": 0,
      "outputs": []
    },
    {
      "cell_type": "code",
      "metadata": {
        "id": "2v5LJ4J_eMQI",
        "colab_type": "code",
        "outputId": "ffeee5ba-6d35-4b30-8080-0b2c42092326",
        "colab": {
          "base_uri": "https://localhost:8080/",
          "height": 1154
        }
      },
      "source": [
        "!unzip fashion-mnist-master.zip"
      ],
      "execution_count": 0,
      "outputs": [
        {
          "output_type": "stream",
          "text": [
            "Archive:  fashion-mnist-master.zip\n",
            "629abc0f9a73c2897383a9178e8e38f7141be30d\n",
            "   creating: fashion-mnist-master/\n",
            "  inflating: fashion-mnist-master/.catwatch.yaml  \n",
            " extracting: fashion-mnist-master/.dockerignore  \n",
            "  inflating: fashion-mnist-master/.gitignore  \n",
            "  inflating: fashion-mnist-master/.zappr.yaml  \n",
            "  inflating: fashion-mnist-master/CONTRIBUTING.md  \n",
            "  inflating: fashion-mnist-master/Dockerfile  \n",
            "  inflating: fashion-mnist-master/LICENSE  \n",
            "  inflating: fashion-mnist-master/MAINTAINERS  \n",
            "  inflating: fashion-mnist-master/README.ja.md  \n",
            "  inflating: fashion-mnist-master/README.md  \n",
            "  inflating: fashion-mnist-master/README.zh-CN.md  \n",
            "  inflating: fashion-mnist-master/app.py  \n",
            "   creating: fashion-mnist-master/benchmark/\n",
            " extracting: fashion-mnist-master/benchmark/__init__.py  \n",
            "  inflating: fashion-mnist-master/benchmark/baselines.json  \n",
            "  inflating: fashion-mnist-master/benchmark/convnet.py  \n",
            "  inflating: fashion-mnist-master/benchmark/runner.py  \n",
            "  inflating: fashion-mnist-master/configs.py  \n",
            "   creating: fashion-mnist-master/data/\n",
            "   creating: fashion-mnist-master/data/fashion/\n",
            " extracting: fashion-mnist-master/data/fashion/t10k-images-idx3-ubyte.gz  \n",
            " extracting: fashion-mnist-master/data/fashion/t10k-labels-idx1-ubyte.gz  \n",
            " extracting: fashion-mnist-master/data/fashion/train-images-idx3-ubyte.gz  \n",
            " extracting: fashion-mnist-master/data/fashion/train-labels-idx1-ubyte.gz  \n",
            "   creating: fashion-mnist-master/data/mnist/\n",
            " extracting: fashion-mnist-master/data/mnist/README.md  \n",
            "   creating: fashion-mnist-master/doc/\n",
            "   creating: fashion-mnist-master/doc/img/\n",
            "  inflating: fashion-mnist-master/doc/img/01e0c4be.png  \n",
            "  inflating: fashion-mnist-master/doc/img/34d72c08.png  \n",
            "  inflating: fashion-mnist-master/doc/img/4433f0e1.png  \n",
            "  inflating: fashion-mnist-master/doc/img/853c717e.png  \n",
            "  inflating: fashion-mnist-master/doc/img/ae143b2d.png  \n",
            "  inflating: fashion-mnist-master/doc/img/b6e79fa2.png  \n",
            " extracting: fashion-mnist-master/doc/img/b9b8fb21.png  \n",
            "  inflating: fashion-mnist-master/doc/img/benchmark.gif  \n",
            "  inflating: fashion-mnist-master/doc/img/c60ceb17.png  \n",
            "  inflating: fashion-mnist-master/doc/img/dd83f448.png  \n",
            " extracting: fashion-mnist-master/doc/img/e9514ab1.png  \n",
            "  inflating: fashion-mnist-master/doc/img/embedding.gif  \n",
            "  inflating: fashion-mnist-master/doc/img/f04ba662.png  \n",
            "  inflating: fashion-mnist-master/doc/img/fashion-mnist-sprite.png  \n",
            "  inflating: fashion-mnist-master/doc/img/umap_example_fashion_mnist1.png  \n",
            "  inflating: fashion-mnist-master/doc/img/umap_example_mnist1.png  \n",
            " extracting: fashion-mnist-master/requirements.txt  \n",
            "   creating: fashion-mnist-master/static/\n",
            "   creating: fashion-mnist-master/static/css/\n",
            "  inflating: fashion-mnist-master/static/css/main.css  \n",
            "   creating: fashion-mnist-master/static/img/\n",
            "  inflating: fashion-mnist-master/static/img/research_logo.png  \n",
            "  inflating: fashion-mnist-master/static/index.html  \n",
            "   creating: fashion-mnist-master/static/js/\n",
            "  inflating: fashion-mnist-master/static/js/vue-binding.js  \n",
            "   creating: fashion-mnist-master/utils/\n",
            " extracting: fashion-mnist-master/utils/__init__.py  \n",
            "  inflating: fashion-mnist-master/utils/argparser.py  \n",
            "  inflating: fashion-mnist-master/utils/helper.py  \n",
            "  inflating: fashion-mnist-master/utils/mnist_reader.py  \n",
            "   creating: fashion-mnist-master/visualization/\n",
            " extracting: fashion-mnist-master/visualization/__init__.py  \n",
            "  inflating: fashion-mnist-master/visualization/project_zalando.py  \n"
          ],
          "name": "stdout"
        }
      ]
    },
    {
      "cell_type": "code",
      "metadata": {
        "id": "gZ_Z2ju6fHWm",
        "colab_type": "code",
        "colab": {}
      },
      "source": [
        "%matplotlib inline "
      ],
      "execution_count": 0,
      "outputs": []
    },
    {
      "cell_type": "code",
      "metadata": {
        "id": "2v5_OV3SeUsw",
        "colab_type": "code",
        "colab": {}
      },
      "source": [
        "from __future__ import print_function, division\n",
        "\n",
        "import torch\n",
        "import torch.nn as nn\n",
        "import torch.optim as optim\n",
        "from torch.optim import lr_scheduler\n",
        "import numpy as np\n",
        "import torchvision\n",
        "from torchvision import datasets, models, transforms\n",
        "import matplotlib.pyplot as plt\n",
        "import time\n",
        "import os\n",
        "import copy\n",
        "\n",
        "plt.ion()   # interactive mode"
      ],
      "execution_count": 0,
      "outputs": []
    },
    {
      "cell_type": "code",
      "metadata": {
        "id": "qu1EibnGgh11",
        "colab_type": "code",
        "colab": {}
      },
      "source": [
        "transform = transforms.Compose([transforms.Resize(96), transforms.RandomHorizontalFlip(), transforms.ToTensor(), transforms.Normalize([0.5], [0.5])])\n",
        "\n",
        "trainset = torchvision.datasets.FashionMNIST(root='fashion-mnist-master', train=True, transform=transform,\n",
        "                                        download=True)\n",
        "trainloader = torch.utils.data.DataLoader(trainset, batch_size=100,\n",
        "                                          shuffle=True, num_workers=0)\n",
        "\n",
        "testset = torchvision.datasets.FashionMNIST(root='fashion-mnist-master', train=False, transform=transform,\n",
        "                                       download=False)\n",
        "testloader = torch.utils.data.DataLoader(testset, batch_size=100,\n",
        "                                         shuffle=False, num_workers=0)\n",
        "trainset1,validset = torch.utils.data.random_split(trainset, [50000,10000])\n",
        "trainloader1=torch.utils.data.DataLoader(trainset1, batch_size=100,shuffle=True, num_workers=0)\n",
        "validloader=torch.utils.data.DataLoader(validset, batch_size=100,shuffle=True, num_workers=0)\n",
        "\n",
        "classes = ('T-shirt/top','Trouser','Pullover','Dress','Coat','Sandal','Shirt','Sneaker','Bag','Ankle boot')\n",
        "device = torch.device(\"cuda:0\" if torch.cuda.is_available() else \"cpu\")\n"
      ],
      "execution_count": 0,
      "outputs": []
    },
    {
      "cell_type": "code",
      "metadata": {
        "id": "mO5H_nxOoxgV",
        "colab_type": "code",
        "colab": {}
      },
      "source": [
        "#model=models.vgg16(pretrained=False, progress=False)\n",
        "#model.features[0]=nn.Conv2d(1,64,kernel_size=3, stride=1, padding=1)\n",
        "#model=model.to(device)\n",
        "#print(model)"
      ],
      "execution_count": 0,
      "outputs": []
    },
    {
      "cell_type": "code",
      "metadata": {
        "id": "1xw8ze93ypzc",
        "colab_type": "code",
        "colab": {}
      },
      "source": [
        "import torch.nn as nn\n",
        "from torch.utils.model_zoo import load_url as load_state_dict_from_url\n",
        "\n",
        "model_urls = {\n",
        "    'vgg11': 'https://download.pytorch.org/models/vgg11-bbd30ac9.pth',\n",
        "    'vgg13': 'https://download.pytorch.org/models/vgg13-c768596a.pth',\n",
        "    'vgg16': 'https://download.pytorch.org/models/vgg16-397923af.pth',\n",
        "    'vgg19': 'https://download.pytorch.org/models/vgg19-dcbb9e9d.pth',\n",
        "    'vgg11_bn': 'https://download.pytorch.org/models/vgg11_bn-6002323d.pth',\n",
        "    'vgg13_bn': 'https://download.pytorch.org/models/vgg13_bn-abd245e5.pth',\n",
        "    'vgg16_bn': 'https://download.pytorch.org/models/vgg16_bn-6c64b313.pth',\n",
        "    'vgg19_bn': 'https://download.pytorch.org/models/vgg19_bn-c79401a0.pth',\n",
        "}\n",
        "\n",
        "\n",
        "class VGG(nn.Module):\n",
        "\n",
        "    def __init__(self, features, num_classes=10, init_weights=True):\n",
        "        super(VGG, self).__init__()\n",
        "        self.features = features\n",
        "        self.avgpool = nn.AdaptiveAvgPool2d((7, 7))\n",
        "        self.classifier = nn.Sequential(\n",
        "            nn.Linear(512 * 7 * 7, 4096),\n",
        "            nn.ReLU(True),\n",
        "            nn.Dropout(),\n",
        "            nn.Linear(4096, 4096),\n",
        "            nn.ReLU(True),\n",
        "            nn.Dropout(),\n",
        "            nn.Linear(4096, num_classes),\n",
        "        )\n",
        "        if init_weights:\n",
        "            self._initialize_weights()\n",
        "\n",
        "    def forward(self, x):\n",
        "        x = self.features(x)\n",
        "        x = self.avgpool(x)\n",
        "        x = x.view(x.size(0), -1)\n",
        "        x = self.classifier(x)\n",
        "        return x\n",
        "\n",
        "    def _initialize_weights(self):\n",
        "        for m in self.modules():\n",
        "            if isinstance(m, nn.Conv2d):\n",
        "                nn.init.kaiming_normal_(m.weight, mode='fan_out', nonlinearity='relu')\n",
        "                if m.bias is not None:\n",
        "                    nn.init.constant_(m.bias, 0)\n",
        "            elif isinstance(m, nn.BatchNorm2d):\n",
        "                nn.init.constant_(m.weight, 1)\n",
        "                nn.init.constant_(m.bias, 0)\n",
        "            elif isinstance(m, nn.Linear):\n",
        "                nn.init.normal_(m.weight, 0, 0.01)\n",
        "                nn.init.constant_(m.bias, 0)\n",
        "\n",
        "\n",
        "def make_layers(cfg, batch_norm=False):\n",
        "    layers = []\n",
        "    in_channels = 1\n",
        "    for v in cfg:\n",
        "        if v == 'M':\n",
        "            layers += [nn.MaxPool2d(kernel_size=2, stride=2)]\n",
        "        else:\n",
        "            conv2d = nn.Conv2d(in_channels, v, kernel_size=3, padding=1)\n",
        "            if batch_norm:\n",
        "                layers += [conv2d, nn.BatchNorm2d(v), nn.ReLU(inplace=True)]\n",
        "            else:\n",
        "                layers += [conv2d, nn.ReLU(inplace=True)]\n",
        "            in_channels = v\n",
        "    return nn.Sequential(*layers)\n",
        "\n",
        "\n",
        "cfgs = {\n",
        "    'A': [64, 'M', 128, 'M', 256, 256, 'M', 512, 512, 'M', 512, 512, 'M'],\n",
        "    'B': [64, 64, 'M', 128, 128, 'M', 256, 256, 'M', 512, 512, 'M', 512, 512, 'M'],\n",
        "    'D': [64, 64, 'M', 128, 128, 'M', 256, 256, 256, 'M', 512, 512, 512, 'M', 512, 512, 512, 'M'],\n",
        "    'E': [64, 64, 'M', 128, 128, 'M', 256, 256, 256, 256, 'M', 512, 512, 512, 512, 'M', 512, 512, 512, 512, 'M'],\n",
        "}\n",
        "\n",
        "\n",
        "def _vgg(arch, cfg, batch_norm, pretrained, progress, **kwargs):\n",
        "    if pretrained:\n",
        "        kwargs['init_weights'] = False\n",
        "    model = VGG(make_layers(cfgs[cfg], batch_norm=batch_norm), **kwargs)\n",
        "    if pretrained:\n",
        "        state_dict = load_state_dict_from_url(model_urls[arch],\n",
        "                                              progress=progress)\n",
        "        model.load_state_dict(state_dict)\n",
        "    return model\n"
      ],
      "execution_count": 0,
      "outputs": []
    },
    {
      "cell_type": "code",
      "metadata": {
        "id": "xJV8c8MXrrR5",
        "colab_type": "code",
        "colab": {}
      },
      "source": [
        "def vgg16(pretrained=False, progress=True, **kwargs):\n",
        "    \"\"\"VGG 16-layer model (configuration \"D\")\n",
        "    Args:\n",
        "        pretrained (bool): If True, returns a model pre-trained on ImageNet\n",
        "        progress (bool): If True, displays a progress bar of the download to stderr\n",
        "    \"\"\"\n",
        "    return _vgg('vgg16', 'D', False, pretrained, progress, **kwargs)\n",
        "model=vgg16().to(device)"
      ],
      "execution_count": 0,
      "outputs": []
    },
    {
      "cell_type": "markdown",
      "metadata": {
        "id": "wrzjRV7U-qlO",
        "colab_type": "text"
      },
      "source": [
        "#optimizer SGD with lr 0.001,0.9"
      ]
    },
    {
      "cell_type": "code",
      "metadata": {
        "id": "RkhOlpk2346H",
        "colab_type": "code",
        "colab": {}
      },
      "source": [
        "optimizer=optim.SGD(model.parameters(), lr=0.001, momentum=0.9)\n",
        "#optimizer = torch.optim.Adam(model.parameters(), lr=0.001)\n",
        "#optimizer = torch.optim.Adadelta(model.parameters(), lr=1.0, rho=0.9, eps=1e-06, weight_decay=0)\n",
        "loss_fn = nn.CrossEntropyLoss()\n",
        "#loss_fn = nn.NLLLoss()\n",
        "#exp_lr_scheduler = lr_scheduler.StepLR(optimizer_ft, step_size=7, gamma=0.1)"
      ],
      "execution_count": 0,
      "outputs": []
    },
    {
      "cell_type": "code",
      "metadata": {
        "id": "0lj6StShGmwj",
        "colab_type": "code",
        "colab": {}
      },
      "source": [
        "mean_train_losses = []\n",
        "mean_valid_losses = []\n",
        "valid_acc_list = []\n",
        "train_acc_list=[]\n",
        "start_epoch=0\n",
        "e=5"
      ],
      "execution_count": 0,
      "outputs": []
    },
    {
      "cell_type": "code",
      "metadata": {
        "id": "-1Q88Kzj7iEI",
        "colab_type": "code",
        "outputId": "51917a5b-fe57-4514-e667-c71b427e6c4c",
        "colab": {
          "base_uri": "https://localhost:8080/",
          "height": 1000
        }
      },
      "source": [
        "for epoch in range(start_epoch,20):\n",
        "    #exp_lr_scheduler.step()\n",
        "    model.train()\n",
        "    \n",
        "    train_losses = []\n",
        "    valid_losses = []\n",
        "    model.eval()\n",
        "    correct_t = 0\n",
        "    total_t = 0\n",
        "    for i, data in enumerate(trainloader1):\n",
        "        images,labels=data\n",
        "        images,labels=images.to(device),labels.to(device)\n",
        "        \n",
        "        optimizer.zero_grad()\n",
        "        \n",
        "        outputs = model(images)\n",
        "        loss = loss_fn(outputs, labels)\n",
        "        loss.backward()\n",
        "        optimizer.step()\n",
        "        \n",
        "        train_losses.append(loss.item())\n",
        "        \n",
        "        _, predicted_t = torch.max(outputs.data, 1)\n",
        "        correct_t += (predicted_t == labels).sum().item()\n",
        "        total_t += labels.size(0)\n",
        "        \n",
        "        if (i * 100) % (100 * 100) == 0:\n",
        "            print(f'{i * 100} / 50000')\n",
        "            \n",
        "    model.eval()\n",
        "    correct_v = 0\n",
        "    total_v = 0\n",
        "    with torch.no_grad():\n",
        "        for i, data in enumerate(validloader):\n",
        "            images,labels=data\n",
        "            images,labels=images.to(device),labels.to(device)\n",
        "            outputs = model(images)\n",
        "            loss = loss_fn(outputs, labels)\n",
        "            \n",
        "            valid_losses.append(loss.item())\n",
        "            \n",
        "            _, predicted_v = torch.max(outputs.data, 1)\n",
        "            correct_v += (predicted_v == labels).sum().item()\n",
        "            total_v += labels.size(0)\n",
        "            \n",
        "    m_t_l=np.mean(train_losses)\n",
        "    m_v_l=np.mean(valid_losses)\n",
        "            \n",
        "    mean_train_losses.append(m_t_l)\n",
        "    mean_valid_losses.append(m_v_l)\n",
        "    \n",
        "    accuracy_v = 100*correct_v/total_v\n",
        "    accuracy_t = 100*correct_t/total_t\n",
        "    valid_acc_list.append(accuracy_v)\n",
        "    train_acc_list.append(accuracy_t)\n",
        "    \n",
        "        #save\n",
        "    torch.save({'epoch': epoch+1, 'model_state_dict': model.state_dict(),'optimizer_state_dict': optimizer.state_dict(), 'train loss': mean_train_losses,'train acc': train_acc_list, 'valid loss':mean_valid_losses, 'valid acc': valid_acc_list}, 'vgg16.pth')\n",
        "    print('epoch : {}, train loss : {:.4f}, train acc : {:.2f} valid loss : {:.4f}, valid acc : {:.2f}%'.format(epoch+1, m_t_l, accuracy_t, m_v_l, accuracy_v))\n",
        "print('best val acc: {0}, best train loss: {1}'.format(np.max(valid_acc_list),np.min( mean_train_losses)))"
      ],
      "execution_count": 0,
      "outputs": [
        {
          "output_type": "stream",
          "text": [
            "0 / 50000\n",
            "10000 / 50000\n",
            "20000 / 50000\n",
            "30000 / 50000\n",
            "40000 / 50000\n",
            "epoch : 11, train loss : 0.2083, train acc : 91.84 valid loss : 0.2700, valid acc : 90.18%\n",
            "0 / 50000\n",
            "10000 / 50000\n",
            "20000 / 50000\n",
            "30000 / 50000\n",
            "40000 / 50000\n",
            "epoch : 12, train loss : 0.1955, train acc : 92.45 valid loss : 0.2797, valid acc : 90.46%\n",
            "0 / 50000\n",
            "10000 / 50000\n",
            "20000 / 50000\n",
            "30000 / 50000\n",
            "40000 / 50000\n",
            "epoch : 13, train loss : 0.1887, train acc : 92.74 valid loss : 0.2716, valid acc : 90.15%\n",
            "0 / 50000\n",
            "10000 / 50000\n",
            "20000 / 50000\n",
            "30000 / 50000\n",
            "40000 / 50000\n",
            "epoch : 14, train loss : 0.1791, train acc : 93.22 valid loss : 0.2758, valid acc : 90.36%\n",
            "0 / 50000\n",
            "10000 / 50000\n",
            "20000 / 50000\n",
            "30000 / 50000\n",
            "40000 / 50000\n",
            "epoch : 15, train loss : 0.1695, train acc : 93.45 valid loss : 0.2764, valid acc : 90.09%\n",
            "0 / 50000\n",
            "10000 / 50000\n",
            "20000 / 50000\n",
            "30000 / 50000\n",
            "40000 / 50000\n",
            "epoch : 16, train loss : 0.1642, train acc : 93.81 valid loss : 0.2873, valid acc : 90.35%\n",
            "0 / 50000\n",
            "10000 / 50000\n",
            "20000 / 50000\n",
            "30000 / 50000\n",
            "40000 / 50000\n",
            "epoch : 17, train loss : 0.1545, train acc : 94.15 valid loss : 0.2803, valid acc : 90.82%\n",
            "0 / 50000\n",
            "10000 / 50000\n",
            "20000 / 50000\n",
            "30000 / 50000\n",
            "40000 / 50000\n",
            "epoch : 18, train loss : 0.1499, train acc : 94.29 valid loss : 0.2816, valid acc : 90.52%\n",
            "0 / 50000\n",
            "10000 / 50000\n",
            "20000 / 50000\n",
            "30000 / 50000\n",
            "40000 / 50000\n",
            "epoch : 19, train loss : 0.1434, train acc : 94.43 valid loss : 0.2659, valid acc : 91.17%\n",
            "0 / 50000\n",
            "10000 / 50000\n",
            "20000 / 50000\n",
            "30000 / 50000\n",
            "40000 / 50000\n",
            "epoch : 20, train loss : 0.1327, train acc : 94.89 valid loss : 0.2931, valid acc : 90.40%\n",
            "best val acc: 91.17, best train loss: 0.1327390962615609\n"
          ],
          "name": "stdout"
        }
      ]
    },
    {
      "cell_type": "code",
      "metadata": {
        "id": "ervTcmmnxncY",
        "colab_type": "code",
        "colab": {}
      },
      "source": [
        "checkpoint = torch.load('vgg16.pth')\n",
        "model.load_state_dict(checkpoint['model_state_dict'])\n",
        "optimizer.load_state_dict(checkpoint['optimizer_state_dict'])\n",
        "start_epoch = checkpoint['epoch']\n",
        "mean_train_losses = checkpoint['train loss']\n",
        "train_acc_list=checkpoint['train acc']\n",
        "mean_valid_losses = checkpoint['valid loss']\n",
        "valid_acc_list=checkpoint['valid acc']"
      ],
      "execution_count": 0,
      "outputs": []
    },
    {
      "cell_type": "code",
      "metadata": {
        "id": "DgEj0_3klzNB",
        "colab_type": "code",
        "outputId": "e88382b1-5fc3-4174-ccc5-7ed72efcc813",
        "colab": {
          "base_uri": "https://localhost:8080/",
          "height": 613
        }
      },
      "source": [
        "fig, (ax1, ax2) = plt.subplots(nrows=1, ncols=2, figsize=(15, 10))\n",
        "ax1.plot(mean_train_losses, label='train loss')\n",
        "ax1.plot(mean_valid_losses, label='valid loss')\n",
        "lines, labels = ax1.get_legend_handles_labels()\n",
        "ax1.legend(lines, labels, loc='best')\n",
        "ax2.plot(valid_acc_list, label='valid acc')\n",
        "ax2.plot(train_acc_list, label='train acc')\n",
        "ax2.legend(lines, labels, loc='best')"
      ],
      "execution_count": 0,
      "outputs": [
        {
          "output_type": "execute_result",
          "data": {
            "text/plain": [
              "<matplotlib.legend.Legend at 0x7f9d36e556d8>"
            ]
          },
          "metadata": {
            "tags": []
          },
          "execution_count": 53
        },
        {
          "output_type": "display_data",
          "data": {
            "image/png": "[encoded data removed]",
            "text/plain": [
              "<Figure size 1080x720 with 2 Axes>"
            ]
          },
          "metadata": {
            "tags": []
          }
        }
      ]
    },
    {
      "cell_type": "markdown",
      "metadata": {
        "id": "mh8WVRY_-9w6",
        "colab_type": "text"
      },
      "source": [
        ""
      ]
    },
    {
      "cell_type": "markdown",
      "metadata": {
        "id": "cZzDjh8m--lb",
        "colab_type": "text"
      },
      "source": [
        "# optimizer SGD with lr 0.01, weight decay 0.001"
      ]
    },
    {
      "cell_type": "code",
      "metadata": {
        "id": "fqwnLtb9-5lU",
        "colab_type": "code",
        "colab": {}
      },
      "source": [
        "optimizer1=optim.SGD(model.parameters(), lr=0.001, weight_decay=0.01)\n",
        "#optimizer = torch.optim.Adam(model.parameters(), lr=0.001)\n",
        "#optimizer = torch.optim.Adadelta(model.parameters(), lr=1.0, rho=0.9, eps=1e-06, weight_decay=0)\n",
        "loss_fn1 = nn.CrossEntropyLoss()\n",
        "#loss_fn = nn.NLLLoss()\n",
        "#exp_lr_scheduler = lr_scheduler.StepLR(optimizer_ft, step_size=7, gamma=0.1)"
      ],
      "execution_count": 0,
      "outputs": []
    },
    {
      "cell_type": "code",
      "metadata": {
        "id": "VURM9-UuGsAI",
        "colab_type": "code",
        "colab": {}
      },
      "source": [
        "mean_train_losses1 = []\n",
        "mean_valid_losses1 = []\n",
        "valid_acc_list1 = []\n",
        "train_acc_list1=[]\n",
        "start_epoch1=0\n",
        "e1=5"
      ],
      "execution_count": 0,
      "outputs": []
    },
    {
      "cell_type": "code",
      "metadata": {
        "id": "G6NaULC0GxLo",
        "colab_type": "code",
        "outputId": "fd9e4277-3bcd-4340-81d3-4abf9389c378",
        "colab": {
          "base_uri": "https://localhost:8080/",
          "height": 1000
        }
      },
      "source": [
        "for epoch in range(start_epoch1,20):\n",
        "    #exp_lr_scheduler.step()\n",
        "    model.train()\n",
        "    \n",
        "    train_losses = []\n",
        "    valid_losses = []\n",
        "    model.eval()\n",
        "    correct_t = 0\n",
        "    total_t = 0\n",
        "    for i, data in enumerate(trainloader1):\n",
        "        images,labels=data\n",
        "        images,labels=images.to(device),labels.to(device)\n",
        "        \n",
        "        optimizer1.zero_grad()\n",
        "        \n",
        "        outputs = model(images)\n",
        "        loss = loss_fn1(outputs, labels)\n",
        "        loss.backward()\n",
        "        optimizer1.step()\n",
        "        \n",
        "        train_losses.append(loss.item())\n",
        "        \n",
        "        _, predicted_t = torch.max(outputs.data, 1)\n",
        "        correct_t += (predicted_t == labels).sum().item()\n",
        "        total_t += labels.size(0)\n",
        "        \n",
        "        if (i * 100) % (100 * 100) == 0:\n",
        "            print(f'{i * 100} / 50000')\n",
        "            \n",
        "    model.eval()\n",
        "    correct_v = 0\n",
        "    total_v = 0\n",
        "    with torch.no_grad():\n",
        "        for i, data in enumerate(validloader):\n",
        "            images,labels=data\n",
        "            images,labels=images.to(device),labels.to(device)\n",
        "            outputs = model(images)\n",
        "            loss = loss_fn1(outputs, labels)\n",
        "            \n",
        "            valid_losses.append(loss.item())\n",
        "            \n",
        "            _, predicted_v = torch.max(outputs.data, 1)\n",
        "            correct_v += (predicted_v == labels).sum().item()\n",
        "            total_v += labels.size(0)\n",
        "            \n",
        "    m_t_l=np.mean(train_losses)\n",
        "    m_v_l=np.mean(valid_losses)\n",
        "            \n",
        "    mean_train_losses1.append(m_t_l)\n",
        "    mean_valid_losses1.append(m_v_l)\n",
        "    \n",
        "    accuracy_v = 100*correct_v/total_v\n",
        "    accuracy_t = 100*correct_t/total_t\n",
        "    valid_acc_list1.append(accuracy_v)\n",
        "    train_acc_list1.append(accuracy_t)\n",
        "    \n",
        "        #save\n",
        "    torch.save({'epoch': epoch+1, 'model_state_dict': model.state_dict(),'optimizer_state_dict': optimizer1.state_dict(), 'train loss': mean_train_losses1,'train acc': train_acc_list1, 'valid loss':mean_valid_losses1, 'valid acc': valid_acc_list1}, 'vgg16MSE.pth')\n",
        "    print('epoch : {}, train loss : {:.4f}, train acc : {:.2f} valid loss : {:.4f}, valid acc : {:.2f}%'.format(epoch+1, m_t_l, accuracy_t, m_v_l, accuracy_v))\n",
        "print('best val acc: {0}, best train loss: {1}'.format(np.max(valid_acc_list1),np.min( mean_train_losses1)))"
      ],
      "execution_count": 17,
      "outputs": [
        {
          "output_type": "stream",
          "text": [
            "0 / 50000\n",
            "10000 / 50000\n",
            "20000 / 50000\n",
            "30000 / 50000\n",
            "40000 / 50000\n",
            "epoch : 1, train loss : 0.3772, train acc : 86.01 valid loss : 0.3817, valid acc : 85.80%\n",
            "0 / 50000\n",
            "10000 / 50000\n",
            "20000 / 50000\n",
            "30000 / 50000\n",
            "40000 / 50000\n",
            "epoch : 2, train loss : 0.3694, train acc : 86.38 valid loss : 0.3789, valid acc : 86.01%\n",
            "0 / 50000\n",
            "10000 / 50000\n",
            "20000 / 50000\n",
            "30000 / 50000\n",
            "40000 / 50000\n",
            "epoch : 3, train loss : 0.3634, train acc : 86.47 valid loss : 0.3669, valid acc : 86.46%\n",
            "0 / 50000\n",
            "10000 / 50000\n",
            "20000 / 50000\n",
            "30000 / 50000\n",
            "40000 / 50000\n",
            "epoch : 4, train loss : 0.3583, train acc : 86.74 valid loss : 0.3652, valid acc : 86.49%\n",
            "0 / 50000\n",
            "10000 / 50000\n",
            "20000 / 50000\n",
            "30000 / 50000\n",
            "40000 / 50000\n",
            "epoch : 5, train loss : 0.3554, train acc : 86.75 valid loss : 0.3612, valid acc : 86.66%\n",
            "0 / 50000\n",
            "10000 / 50000\n",
            "20000 / 50000\n",
            "30000 / 50000\n",
            "40000 / 50000\n",
            "epoch : 6, train loss : 0.3514, train acc : 87.02 valid loss : 0.3545, valid acc : 86.68%\n",
            "0 / 50000\n",
            "10000 / 50000\n",
            "20000 / 50000\n",
            "30000 / 50000\n",
            "40000 / 50000\n",
            "epoch : 7, train loss : 0.3462, train acc : 87.05 valid loss : 0.3601, valid acc : 86.84%\n",
            "0 / 50000\n",
            "10000 / 50000\n",
            "20000 / 50000\n",
            "30000 / 50000\n",
            "40000 / 50000\n",
            "epoch : 8, train loss : 0.3408, train acc : 87.43 valid loss : 0.3589, valid acc : 86.40%\n",
            "0 / 50000\n",
            "10000 / 50000\n",
            "20000 / 50000\n",
            "30000 / 50000\n",
            "40000 / 50000\n",
            "epoch : 9, train loss : 0.3372, train acc : 87.25 valid loss : 0.3756, valid acc : 85.64%\n",
            "0 / 50000\n",
            "10000 / 50000\n",
            "20000 / 50000\n",
            "30000 / 50000\n",
            "40000 / 50000\n",
            "epoch : 10, train loss : 0.3362, train acc : 87.32 valid loss : 0.3427, valid acc : 86.99%\n",
            "0 / 50000\n",
            "10000 / 50000\n",
            "20000 / 50000\n",
            "30000 / 50000\n",
            "40000 / 50000\n",
            "epoch : 11, train loss : 0.3324, train acc : 87.40 valid loss : 0.3594, valid acc : 86.68%\n",
            "0 / 50000\n",
            "10000 / 50000\n",
            "20000 / 50000\n",
            "30000 / 50000\n",
            "40000 / 50000\n",
            "epoch : 12, train loss : 0.3278, train acc : 87.75 valid loss : 0.3599, valid acc : 86.38%\n",
            "0 / 50000\n",
            "10000 / 50000\n",
            "20000 / 50000\n",
            "30000 / 50000\n",
            "40000 / 50000\n",
            "epoch : 13, train loss : 0.3247, train acc : 87.79 valid loss : 0.3409, valid acc : 87.36%\n",
            "0 / 50000\n",
            "10000 / 50000\n",
            "20000 / 50000\n",
            "30000 / 50000\n",
            "40000 / 50000\n",
            "epoch : 14, train loss : 0.3217, train acc : 87.98 valid loss : 0.3369, valid acc : 87.46%\n",
            "0 / 50000\n",
            "10000 / 50000\n",
            "20000 / 50000\n",
            "30000 / 50000\n",
            "40000 / 50000\n",
            "epoch : 15, train loss : 0.3208, train acc : 87.96 valid loss : 0.3354, valid acc : 87.32%\n",
            "0 / 50000\n",
            "10000 / 50000\n",
            "20000 / 50000\n",
            "30000 / 50000\n",
            "40000 / 50000\n",
            "epoch : 16, train loss : 0.3167, train acc : 88.21 valid loss : 0.3414, valid acc : 87.27%\n",
            "0 / 50000\n",
            "10000 / 50000\n",
            "20000 / 50000\n",
            "30000 / 50000\n",
            "40000 / 50000\n",
            "epoch : 17, train loss : 0.3133, train acc : 88.17 valid loss : 0.3393, valid acc : 87.19%\n",
            "0 / 50000\n",
            "10000 / 50000\n",
            "20000 / 50000\n",
            "30000 / 50000\n",
            "40000 / 50000\n",
            "epoch : 18, train loss : 0.3121, train acc : 88.38 valid loss : 0.3390, valid acc : 87.19%\n",
            "0 / 50000\n",
            "10000 / 50000\n",
            "20000 / 50000\n",
            "30000 / 50000\n",
            "40000 / 50000\n",
            "epoch : 19, train loss : 0.3096, train acc : 88.36 valid loss : 0.3251, valid acc : 87.46%\n",
            "0 / 50000\n",
            "10000 / 50000\n",
            "20000 / 50000\n",
            "30000 / 50000\n",
            "40000 / 50000\n",
            "epoch : 20, train loss : 0.3079, train acc : 88.37 valid loss : 0.3311, valid acc : 87.69%\n",
            "best val acc: 87.69, best train loss: 0.3079096365123987\n"
          ],
          "name": "stdout"
        }
      ]
    },
    {
      "cell_type": "code",
      "metadata": {
        "id": "NyI7v6_FH3MV",
        "colab_type": "code",
        "colab": {}
      },
      "source": [
        "checkpoint = torch.load('vgg16MSE.pth')\n",
        "model.load_state_dict(checkpoint['model_state_dict'])\n",
        "optimizer1.load_state_dict(checkpoint['optimizer_state_dict'])\n",
        "start_epoch1 = checkpoint['epoch']\n",
        "mean_train_losses1 = checkpoint['train loss']\n",
        "train_acc_list1=checkpoint['train acc']\n",
        "mean_valid_losses1 = checkpoint['valid loss']\n",
        "valid_acc_list1=checkpoint['valid acc']"
      ],
      "execution_count": 0,
      "outputs": []
    },
    {
      "cell_type": "code",
      "metadata": {
        "id": "-IGLd3rFJaEW",
        "colab_type": "code",
        "outputId": "89ee608a-bccd-47c1-859a-dc272174993f",
        "colab": {
          "base_uri": "https://localhost:8080/",
          "height": 612
        }
      },
      "source": [
        "fig, (ax1, ax2) = plt.subplots(nrows=1, ncols=2, figsize=(15, 10))\n",
        "ax1.plot(mean_train_losses1, label='train loss')\n",
        "ax1.plot(mean_valid_losses1, label='valid loss')\n",
        "lines, labels = ax1.get_legend_handles_labels()\n",
        "ax1.legend(lines, labels, loc='best')\n",
        "ax2.plot(valid_acc_list1, label='valid acc')\n",
        "ax2.plot(train_acc_list1, label='train acc')\n",
        "lines, labels = ax2.get_legend_handles_labels()\n",
        "ax2.legend(lines, labels, loc='best')"
      ],
      "execution_count": 19,
      "outputs": [
        {
          "output_type": "execute_result",
          "data": {
            "text/plain": [
              "<matplotlib.legend.Legend at 0x7f5651728eb8>"
            ]
          },
          "metadata": {
            "tags": []
          },
          "execution_count": 19
        },
        {
          "output_type": "display_data",
          "data": {
            "image/png": "[encoded data removed]",
            "text/plain": [
              "<Figure size 1080x720 with 2 Axes>"
            ]
          },
          "metadata": {
            "tags": []
          }
        }
      ]
    },
    {
      "cell_type": "markdown",
      "metadata": {
        "id": "-yf83_2GEyjZ",
        "colab_type": "text"
      },
      "source": [
        "# optimizer SGD with lr 0.002, weight decay 0.02"
      ]
    },
    {
      "cell_type": "code",
      "metadata": {
        "id": "gd6Y28ffExMk",
        "colab_type": "code",
        "colab": {}
      },
      "source": [
        "optimizer1a=optim.SGD(model.parameters(), lr=0.002, weight_decay=0.02)\n",
        "#optimizer = torch.optim.Adam(model.parameters(), lr=0.001)\n",
        "#optimizer = torch.optim.Adadelta(model.parameters(), lr=1.0, rho=0.9, eps=1e-06, weight_decay=0)\n",
        "loss_fn1a = nn.CrossEntropyLoss()\n",
        "#loss_fn = nn.NLLLoss()\n",
        "#exp_lr_scheduler = lr_scheduler.StepLR(optimizer_ft, step_size=7, gamma=0.1)"
      ],
      "execution_count": 0,
      "outputs": []
    },
    {
      "cell_type": "code",
      "metadata": {
        "id": "lif0GYlYFH8M",
        "colab_type": "code",
        "colab": {}
      },
      "source": [
        "mean_train_losses1a = []\n",
        "mean_valid_losses1a = []\n",
        "valid_acc_list1a = []\n",
        "train_acc_list1a=[]\n",
        "start_epoch1a=0\n",
        "e1a=5"
      ],
      "execution_count": 0,
      "outputs": []
    },
    {
      "cell_type": "code",
      "metadata": {
        "id": "42IGh06iFTip",
        "colab_type": "code",
        "colab": {
          "base_uri": "https://localhost:8080/",
          "height": 567
        },
        "outputId": "f66f353a-77ff-4f8a-9333-ac0b4f59cadf"
      },
      "source": [
        "for epoch in range(start_epoch1a,10):\n",
        "    #exp_lr_scheduler.step()\n",
        "    model.train()\n",
        "    \n",
        "    train_losses = []\n",
        "    valid_losses = []\n",
        "    model.eval()\n",
        "    correct_t = 0\n",
        "    total_t = 0\n",
        "    for i, data in enumerate(trainloader1):\n",
        "        images,labels=data\n",
        "        images,labels=images.to(device),labels.to(device)\n",
        "        \n",
        "        optimizer1a.zero_grad()\n",
        "        \n",
        "        outputs = model(images)\n",
        "        loss = loss_fn1a(outputs, labels)\n",
        "        loss.backward()\n",
        "        optimizer1a.step()\n",
        "        \n",
        "        train_losses.append(loss.item())\n",
        "        \n",
        "        _, predicted_t = torch.max(outputs.data, 1)\n",
        "        correct_t += (predicted_t == labels).sum().item()\n",
        "        total_t += labels.size(0)\n",
        "        \n",
        "        if (i * 100) % (100 * 100) == 0:\n",
        "            print(f'{i * 100} / 50000')\n",
        "            \n",
        "    model.eval()\n",
        "    correct_v = 0\n",
        "    total_v = 0\n",
        "    with torch.no_grad():\n",
        "        for i, data in enumerate(validloader):\n",
        "            images,labels=data\n",
        "            images,labels=images.to(device),labels.to(device)\n",
        "            outputs = model(images)\n",
        "            loss = loss_fn1a(outputs, labels)\n",
        "            \n",
        "            valid_losses.append(loss.item())\n",
        "            \n",
        "            _, predicted_v = torch.max(outputs.data, 1)\n",
        "            correct_v += (predicted_v == labels).sum().item()\n",
        "            total_v += labels.size(0)\n",
        "            \n",
        "    m_t_l=np.mean(train_losses)\n",
        "    m_v_l=np.mean(valid_losses)\n",
        "            \n",
        "    mean_train_losses1a.append(m_t_l)\n",
        "    mean_valid_losses1a.append(m_v_l)\n",
        "    \n",
        "    accuracy_v = 100*correct_v/total_v\n",
        "    accuracy_t = 100*correct_t/total_t\n",
        "    valid_acc_list1a.append(accuracy_v)\n",
        "    train_acc_list1a.append(accuracy_t)\n",
        "    \n",
        "        #save\n",
        "    torch.save({'epoch': epoch+1, 'model_state_dict': model.state_dict(),'optimizer_state_dict': optimizer1a.state_dict(), 'train loss': mean_train_losses1a,'train acc': train_acc_list1a, 'valid loss':mean_valid_losses1a, 'valid acc': valid_acc_list1a}, 'vgg16wd0.002.pth')\n",
        "    print('epoch : {}, train loss : {:.4f}, train acc : {:.2f} valid loss : {:.4f}, valid acc : {:.2f}%'.format(epoch+1, m_t_l, accuracy_t, m_v_l, accuracy_v))\n",
        "print('best val acc: {0}, best train loss: {1}'.format(np.max(valid_acc_list1a),np.min( mean_train_losses1a)))"
      ],
      "execution_count": 12,
      "outputs": [
        {
          "output_type": "stream",
          "text": [
            "0 / 50000\n",
            "10000 / 50000\n",
            "20000 / 50000\n",
            "30000 / 50000\n",
            "40000 / 50000\n",
            "epoch : 6, train loss : 0.4887, train acc : 81.63 valid loss : 0.4630, valid acc : 83.18%\n",
            "0 / 50000\n",
            "10000 / 50000\n",
            "20000 / 50000\n",
            "30000 / 50000\n",
            "40000 / 50000\n",
            "epoch : 7, train loss : 0.4649, train acc : 82.48 valid loss : 0.4821, valid acc : 81.80%\n",
            "0 / 50000\n",
            "10000 / 50000\n",
            "20000 / 50000\n",
            "30000 / 50000\n",
            "40000 / 50000\n",
            "epoch : 8, train loss : 0.4453, train acc : 83.26 valid loss : 0.4426, valid acc : 84.02%\n",
            "0 / 50000\n",
            "10000 / 50000\n",
            "20000 / 50000\n",
            "30000 / 50000\n",
            "40000 / 50000\n",
            "epoch : 9, train loss : 0.4267, train acc : 83.94 valid loss : 0.4355, valid acc : 83.74%\n",
            "0 / 50000\n",
            "10000 / 50000\n",
            "20000 / 50000\n",
            "30000 / 50000\n",
            "40000 / 50000\n",
            "epoch : 10, train loss : 0.4144, train acc : 84.49 valid loss : 0.4314, valid acc : 84.01%\n",
            "best val acc: 84.02, best train loss: 0.4144325537085533\n"
          ],
          "name": "stdout"
        }
      ]
    },
    {
      "cell_type": "code",
      "metadata": {
        "id": "V10afkShGINC",
        "colab_type": "code",
        "colab": {}
      },
      "source": [
        "checkpoint = torch.load('vgg16wd0.002.pth')\n",
        "model.load_state_dict(checkpoint['model_state_dict'])\n",
        "optimizer1a.load_state_dict(checkpoint['optimizer_state_dict'])\n",
        "start_epoch1a = checkpoint['epoch']\n",
        "mean_train_losses1a = checkpoint['train loss']\n",
        "train_acc_list1a=checkpoint['train acc']\n",
        "mean_valid_losses1a = checkpoint['valid loss']\n",
        "valid_acc_list1a=checkpoint['valid acc']"
      ],
      "execution_count": 0,
      "outputs": []
    },
    {
      "cell_type": "code",
      "metadata": {
        "id": "e_tmZNWuGaHK",
        "colab_type": "code",
        "colab": {
          "base_uri": "https://localhost:8080/",
          "height": 612
        },
        "outputId": "084e52c5-34ad-4e40-fc22-a56cc1775c81"
      },
      "source": [
        "fig, (ax1, ax2) = plt.subplots(nrows=1, ncols=2, figsize=(15, 10))\n",
        "ax1.plot(mean_train_losses1a, label='train loss')\n",
        "ax1.plot(mean_valid_losses1a, label='valid loss')\n",
        "lines, labels = ax1.get_legend_handles_labels()\n",
        "ax1.legend(lines, labels, loc='best')\n",
        "ax2.plot(valid_acc_list1a, label='valid acc')\n",
        "ax2.plot(train_acc_list1a, label='train acc')\n",
        "lines, labels = ax2.get_legend_handles_labels()\n",
        "ax2.legend(lines, labels, loc='best')"
      ],
      "execution_count": 14,
      "outputs": [
        {
          "output_type": "execute_result",
          "data": {
            "text/plain": [
              "<matplotlib.legend.Legend at 0x7f56516cef60>"
            ]
          },
          "metadata": {
            "tags": []
          },
          "execution_count": 14
        },
        {
          "output_type": "display_data",
          "data": {
            "image/png": "[encoded data removed]",
            "text/plain": [
              "<Figure size 1080x720 with 2 Axes>"
            ]
          },
          "metadata": {
            "tags": []
          }
        }
      ]
    },
    {
      "cell_type": "markdown",
      "metadata": {
        "id": "VR-o4J_kioeY",
        "colab_type": "text"
      },
      "source": [
        "#optimizer sgd lr 0.001, momentum 0.5, weight decay 0.05"
      ]
    },
    {
      "cell_type": "markdown",
      "metadata": {
        "id": "1LrE4-K9in3W",
        "colab_type": "text"
      },
      "source": [
        ""
      ]
    },
    {
      "cell_type": "code",
      "metadata": {
        "id": "q5tn_l07PSyU",
        "colab_type": "code",
        "colab": {}
      },
      "source": [
        "optimizer2=optim.SGD(model.parameters(), lr=0.001, momentum=0.5, weight_decay=0.05)\n",
        "#optimizer = torch.optim.Adam(model.parameters(), lr=0.001)\n",
        "#optimizer = torch.optim.Adadelta(model.parameters(), lr=1.0, rho=0.9, eps=1e-06, weight_decay=0)\n",
        "loss_fn2 = nn.CrossEntropyLoss()\n",
        "#loss_fn = nn.NLLLoss()\n",
        "#exp_lr_scheduler = lr_scheduler.StepLR(optimizer_ft, step_size=7, gamma=0.1)"
      ],
      "execution_count": 0,
      "outputs": []
    },
    {
      "cell_type": "code",
      "metadata": {
        "id": "gPrcqUaOjMjH",
        "colab_type": "code",
        "colab": {}
      },
      "source": [
        "mean_train_losses2 = []\n",
        "mean_valid_losses2 = []\n",
        "valid_acc_list2 = []\n",
        "train_acc_list2=[]\n",
        "start_epoch2=0\n",
        "e2=5"
      ],
      "execution_count": 0,
      "outputs": []
    },
    {
      "cell_type": "code",
      "metadata": {
        "id": "VdxGfXDvjXJM",
        "colab_type": "code",
        "outputId": "46826eef-7a67-4249-9b8f-2ebfa252a307",
        "colab": {
          "base_uri": "https://localhost:8080/",
          "height": 567
        }
      },
      "source": [
        "for epoch in range(start_epoch2,10):\n",
        "    #exp_lr_scheduler.step()\n",
        "    model.train()\n",
        "    \n",
        "    train_losses = []\n",
        "    valid_losses = []\n",
        "    model.eval()\n",
        "    correct_t = 0\n",
        "    total_t = 0\n",
        "    for i, data in enumerate(trainloader1):\n",
        "        images,labels=data\n",
        "        images,labels=images.to(device),labels.to(device)\n",
        "        \n",
        "        optimizer2.zero_grad()\n",
        "        \n",
        "        outputs = model(images)\n",
        "        loss = loss_fn2(outputs, labels)\n",
        "        loss.backward()\n",
        "        optimizer2.step()\n",
        "        \n",
        "        train_losses.append(loss.item())\n",
        "        \n",
        "        _, predicted_t = torch.max(outputs.data, 1)\n",
        "        correct_t += (predicted_t == labels).sum().item()\n",
        "        total_t += labels.size(0)\n",
        "        \n",
        "        if (i * 100) % (100 * 100) == 0:\n",
        "            print(f'{i * 100} / 50000')\n",
        "            \n",
        "    model.eval()\n",
        "    correct_v = 0\n",
        "    total_v = 0\n",
        "    with torch.no_grad():\n",
        "        for i, data in enumerate(validloader):\n",
        "            images,labels=data\n",
        "            images,labels=images.to(device),labels.to(device)\n",
        "            outputs = model(images)\n",
        "            loss = loss_fn2(outputs, labels)\n",
        "            \n",
        "            valid_losses.append(loss.item())\n",
        "            \n",
        "            _, predicted_v = torch.max(outputs.data, 1)\n",
        "            correct_v += (predicted_v == labels).sum().item()\n",
        "            total_v += labels.size(0)\n",
        "            \n",
        "    m_t_l=np.mean(train_losses)\n",
        "    m_v_l=np.mean(valid_losses)\n",
        "            \n",
        "    mean_train_losses2.append(m_t_l)\n",
        "    mean_valid_losses2.append(m_v_l)\n",
        "    \n",
        "    accuracy_v = 100*correct_v/total_v\n",
        "    accuracy_t = 100*correct_t/total_t\n",
        "    valid_acc_list2.append(accuracy_v)\n",
        "    train_acc_list2.append(accuracy_t)\n",
        "    \n",
        "        #save\n",
        "    torch.save({'epoch': epoch+1, 'model_state_dict': model.state_dict(),'optimizer_state_dict': optimizer2.state_dict(), 'train loss': mean_train_losses2,'train acc': train_acc_list2, 'valid loss':mean_valid_losses2, 'valid acc': valid_acc_list2}, 'vgg16wd0.1.pth')\n",
        "    print('epoch : {}, train loss : {:.4f}, train acc : {:.2f} valid loss : {:.4f}, valid acc : {:.2f}%'.format(epoch+1, m_t_l, accuracy_t, m_v_l, accuracy_v))\n",
        "print('best val acc: {0}, best train loss: {1}'.format(np.max(valid_acc_list2),np.min( mean_train_losses2)))"
      ],
      "execution_count": 0,
      "outputs": [
        {
          "output_type": "stream",
          "text": [
            "0 / 50000\n",
            "10000 / 50000\n",
            "20000 / 50000\n",
            "30000 / 50000\n",
            "40000 / 50000\n",
            "epoch : 6, train loss : 0.4171, train acc : 84.58 valid loss : 0.4212, valid acc : 84.60%\n",
            "0 / 50000\n",
            "10000 / 50000\n",
            "20000 / 50000\n",
            "30000 / 50000\n",
            "40000 / 50000\n",
            "epoch : 7, train loss : 0.4174, train acc : 84.58 valid loss : 0.4192, valid acc : 84.61%\n",
            "0 / 50000\n",
            "10000 / 50000\n",
            "20000 / 50000\n",
            "30000 / 50000\n",
            "40000 / 50000\n",
            "epoch : 8, train loss : 0.4161, train acc : 84.60 valid loss : 0.4245, valid acc : 84.56%\n",
            "0 / 50000\n",
            "10000 / 50000\n",
            "20000 / 50000\n",
            "30000 / 50000\n",
            "40000 / 50000\n",
            "epoch : 9, train loss : 0.4141, train acc : 84.70 valid loss : 0.4205, valid acc : 84.61%\n",
            "0 / 50000\n",
            "10000 / 50000\n",
            "20000 / 50000\n",
            "30000 / 50000\n",
            "40000 / 50000\n",
            "epoch : 10, train loss : 0.4158, train acc : 84.78 valid loss : 0.4155, valid acc : 84.90%\n",
            "best val acc: 84.9, best train loss: 0.41411498856544493\n"
          ],
          "name": "stdout"
        }
      ]
    },
    {
      "cell_type": "code",
      "metadata": {
        "id": "3ZXH9mSHkI2X",
        "colab_type": "code",
        "colab": {}
      },
      "source": [
        "checkpoint = torch.load('vgg16wd0.1.pth')\n",
        "model.load_state_dict(checkpoint['model_state_dict'])\n",
        "optimizer2.load_state_dict(checkpoint['optimizer_state_dict'])\n",
        "start_epoch2 = checkpoint['epoch']\n",
        "mean_train_losses2 = checkpoint['train loss']\n",
        "train_acc_list2=checkpoint['train acc']\n",
        "mean_valid_losses2 = checkpoint['valid loss']\n",
        "valid_acc_list2=checkpoint['valid acc']"
      ],
      "execution_count": 0,
      "outputs": []
    },
    {
      "cell_type": "code",
      "metadata": {
        "id": "L6YxFUzpkcco",
        "colab_type": "code",
        "outputId": "cab75aad-7a39-4cd4-afe7-d146a280b978",
        "colab": {
          "base_uri": "https://localhost:8080/",
          "height": 612
        }
      },
      "source": [
        "fig, (ax1, ax2) = plt.subplots(nrows=1, ncols=2, figsize=(15, 10))\n",
        "ax1.plot(mean_train_losses2, label='train loss')\n",
        "ax1.plot(mean_valid_losses2, label='valid loss')\n",
        "lines, labels = ax1.get_legend_handles_labels()\n",
        "ax1.legend(lines, labels, loc='best')\n",
        "ax2.plot(valid_acc_list2, label='valid acc')\n",
        "ax2.plot(train_acc_list2, label='train acc')\n",
        "lines, labels = ax2.get_legend_handles_labels()\n",
        "ax2.legend(lines, labels, loc='best')"
      ],
      "execution_count": 0,
      "outputs": [
        {
          "output_type": "execute_result",
          "data": {
            "text/plain": [
              "<matplotlib.legend.Legend at 0x7f9bee689d68>"
            ]
          },
          "metadata": {
            "tags": []
          },
          "execution_count": 79
        },
        {
          "output_type": "display_data",
          "data": {
            "image/png": "[encoded data removed]",
            "text/plain": [
              "<Figure size 1080x720 with 2 Axes>"
            ]
          },
          "metadata": {
            "tags": []
          }
        }
      ]
    },
    {
      "cell_type": "code",
      "metadata": {
        "id": "GgipyhNLui3n",
        "colab_type": "code",
        "colab": {}
      },
      "source": [
        ""
      ],
      "execution_count": 0,
      "outputs": []
    },
    {
      "cell_type": "markdown",
      "metadata": {
        "id": "dPzcp-sC8wWH",
        "colab_type": "text"
      },
      "source": [
        "#sgd,lr 0.001,momentum 0.8,weight decay 0.003"
      ]
    },
    {
      "cell_type": "code",
      "metadata": {
        "id": "cRkPI3Wc9I_A",
        "colab_type": "code",
        "colab": {}
      },
      "source": [
        "optimizer3=optim.SGD(model.parameters(), lr=0.001, momentum=0.8, weight_decay=0.004)\n",
        "#optimizer = torch.optim.Adam(model.parameters(), lr=0.001)\n",
        "#optimizer = torch.optim.Adadelta(model.parameters(), lr=1.0, rho=0.9, eps=1e-06, weight_decay=0)\n",
        "loss_fn3 = nn.CrossEntropyLoss()\n",
        "#loss_fn = nn.NLLLoss()\n",
        "#exp_lr_scheduler = lr_scheduler.StepLR(optimizer_ft, step_size=7, gamma=0.1)"
      ],
      "execution_count": 0,
      "outputs": []
    },
    {
      "cell_type": "code",
      "metadata": {
        "id": "prcCsp2k9yv8",
        "colab_type": "code",
        "colab": {}
      },
      "source": [
        "mean_train_losses3 = []\n",
        "mean_valid_losses3 = []\n",
        "valid_acc_list3 = []\n",
        "train_acc_list3=[]\n",
        "start_epoch3=0\n",
        "e3=5"
      ],
      "execution_count": 0,
      "outputs": []
    },
    {
      "cell_type": "code",
      "metadata": {
        "id": "vCtntEaA99XO",
        "colab_type": "code",
        "outputId": "70c3f551-4a95-4783-de1b-9813f4b47d92",
        "colab": {
          "base_uri": "https://localhost:8080/",
          "height": 1000
        }
      },
      "source": [
        "for epoch in range(start_epoch3,40):\n",
        "    #exp_lr_scheduler.step()\n",
        "    model.train()\n",
        "    \n",
        "    train_losses = []\n",
        "    valid_losses = []\n",
        "    model.eval()\n",
        "    correct_t = 0\n",
        "    total_t = 0\n",
        "    for i, data in enumerate(trainloader1):\n",
        "        images,labels=data\n",
        "        images,labels=images.to(device),labels.to(device)\n",
        "        \n",
        "        optimizer3.zero_grad()\n",
        "        \n",
        "        outputs = model(images)\n",
        "        loss = loss_fn3(outputs, labels)\n",
        "        loss.backward()\n",
        "        optimizer3.step()\n",
        "        \n",
        "        train_losses.append(loss.item())\n",
        "        \n",
        "        _, predicted_t = torch.max(outputs.data, 1)\n",
        "        correct_t += (predicted_t == labels).sum().item()\n",
        "        total_t += labels.size(0)\n",
        "        \n",
        "        if (i * 100) % (100 * 100) == 0:\n",
        "            print(f'{i * 100} / 50000')\n",
        "            \n",
        "    model.eval()\n",
        "    correct_v = 0\n",
        "    total_v = 0\n",
        "    with torch.no_grad():\n",
        "        for i, data in enumerate(validloader):\n",
        "            images,labels=data\n",
        "            images,labels=images.to(device),labels.to(device)\n",
        "            outputs = model(images)\n",
        "            loss = loss_fn3(outputs, labels)\n",
        "            \n",
        "            valid_losses.append(loss.item())\n",
        "            \n",
        "            _, predicted_v = torch.max(outputs.data, 1)\n",
        "            correct_v += (predicted_v == labels).sum().item()\n",
        "            total_v += labels.size(0)\n",
        "            \n",
        "    m_t_l=np.mean(train_losses)\n",
        "    m_v_l=np.mean(valid_losses)\n",
        "            \n",
        "    mean_train_losses3.append(m_t_l)\n",
        "    mean_valid_losses3.append(m_v_l)\n",
        "    \n",
        "    accuracy_v = 100*correct_v/total_v\n",
        "    accuracy_t = 100*correct_t/total_t\n",
        "    valid_acc_list3.append(accuracy_v)\n",
        "    train_acc_list3.append(accuracy_t)\n",
        "    \n",
        "        #save\n",
        "    torch.save({'epoch': epoch+1, 'model_state_dict': model.state_dict(),'optimizer_state_dict': optimizer3.state_dict(), 'train loss': mean_train_losses3,'train acc': train_acc_list3, 'valid loss':mean_valid_losses3, 'valid acc': valid_acc_list3}, 'vgg16m0.9w0.8.pth')\n",
        "    print('epoch : {}, train loss : {:.4f}, train acc : {:.2f} valid loss : {:.4f}, valid acc : {:.2f}%'.format(epoch+1, m_t_l, accuracy_t, m_v_l, accuracy_v))\n",
        "print('best val acc: {0}, best train loss: {1}'.format(np.max(valid_acc_list3),np.min( mean_train_losses3)))"
      ],
      "execution_count": 34,
      "outputs": [
        {
          "output_type": "stream",
          "text": [
            "0 / 50000\n",
            "10000 / 50000\n",
            "20000 / 50000\n",
            "30000 / 50000\n",
            "40000 / 50000\n",
            "epoch : 21, train loss : 0.2225, train acc : 91.65 valid loss : 0.2798, valid acc : 89.74%\n",
            "0 / 50000\n",
            "10000 / 50000\n",
            "20000 / 50000\n",
            "30000 / 50000\n",
            "40000 / 50000\n",
            "epoch : 22, train loss : 0.2209, train acc : 91.76 valid loss : 0.2913, valid acc : 89.08%\n",
            "0 / 50000\n",
            "10000 / 50000\n",
            "20000 / 50000\n",
            "30000 / 50000\n",
            "40000 / 50000\n",
            "epoch : 23, train loss : 0.2140, train acc : 92.00 valid loss : 0.2757, valid acc : 89.95%\n",
            "0 / 50000\n",
            "10000 / 50000\n",
            "20000 / 50000\n",
            "30000 / 50000\n",
            "40000 / 50000\n",
            "epoch : 24, train loss : 0.2095, train acc : 92.13 valid loss : 0.2772, valid acc : 89.61%\n",
            "0 / 50000\n",
            "10000 / 50000\n",
            "20000 / 50000\n",
            "30000 / 50000\n",
            "40000 / 50000\n",
            "epoch : 25, train loss : 0.2046, train acc : 92.27 valid loss : 0.2766, valid acc : 89.67%\n",
            "0 / 50000\n",
            "10000 / 50000\n",
            "20000 / 50000\n",
            "30000 / 50000\n",
            "40000 / 50000\n",
            "epoch : 26, train loss : 0.1987, train acc : 92.54 valid loss : 0.2696, valid acc : 89.94%\n",
            "0 / 50000\n",
            "10000 / 50000\n",
            "20000 / 50000\n",
            "30000 / 50000\n",
            "40000 / 50000\n",
            "epoch : 27, train loss : 0.1949, train acc : 92.69 valid loss : 0.2765, valid acc : 90.00%\n",
            "0 / 50000\n",
            "10000 / 50000\n",
            "20000 / 50000\n",
            "30000 / 50000\n",
            "40000 / 50000\n",
            "epoch : 28, train loss : 0.1905, train acc : 92.85 valid loss : 0.2709, valid acc : 89.93%\n",
            "0 / 50000\n",
            "10000 / 50000\n",
            "20000 / 50000\n",
            "30000 / 50000\n",
            "40000 / 50000\n",
            "epoch : 29, train loss : 0.1845, train acc : 93.10 valid loss : 0.2660, valid acc : 90.24%\n",
            "0 / 50000\n",
            "10000 / 50000\n",
            "20000 / 50000\n",
            "30000 / 50000\n",
            "40000 / 50000\n",
            "epoch : 30, train loss : 0.1808, train acc : 93.17 valid loss : 0.2684, valid acc : 90.05%\n",
            "0 / 50000\n",
            "10000 / 50000\n",
            "20000 / 50000\n",
            "30000 / 50000\n",
            "40000 / 50000\n",
            "epoch : 31, train loss : 0.1750, train acc : 93.40 valid loss : 0.2666, valid acc : 90.23%\n",
            "0 / 50000\n",
            "10000 / 50000\n",
            "20000 / 50000\n",
            "30000 / 50000\n",
            "40000 / 50000\n",
            "epoch : 32, train loss : 0.1707, train acc : 93.63 valid loss : 0.2576, valid acc : 90.56%\n",
            "0 / 50000\n",
            "10000 / 50000\n",
            "20000 / 50000\n",
            "30000 / 50000\n",
            "40000 / 50000\n",
            "epoch : 33, train loss : 0.1655, train acc : 93.90 valid loss : 0.2793, valid acc : 89.94%\n",
            "0 / 50000\n",
            "10000 / 50000\n",
            "20000 / 50000\n",
            "30000 / 50000\n",
            "40000 / 50000\n",
            "epoch : 34, train loss : 0.1618, train acc : 93.93 valid loss : 0.2895, valid acc : 89.88%\n",
            "0 / 50000\n",
            "10000 / 50000\n",
            "20000 / 50000\n",
            "30000 / 50000\n",
            "40000 / 50000\n",
            "epoch : 35, train loss : 0.1559, train acc : 94.14 valid loss : 0.2791, valid acc : 90.21%\n",
            "0 / 50000\n",
            "10000 / 50000\n",
            "20000 / 50000\n",
            "30000 / 50000\n",
            "40000 / 50000\n",
            "epoch : 36, train loss : 0.1540, train acc : 94.15 valid loss : 0.2748, valid acc : 90.53%\n",
            "0 / 50000\n",
            "10000 / 50000\n",
            "20000 / 50000\n",
            "30000 / 50000\n",
            "40000 / 50000\n",
            "epoch : 37, train loss : 0.1497, train acc : 94.48 valid loss : 0.2856, valid acc : 90.30%\n",
            "0 / 50000\n",
            "10000 / 50000\n",
            "20000 / 50000\n",
            "30000 / 50000\n",
            "40000 / 50000\n",
            "epoch : 38, train loss : 0.1436, train acc : 94.67 valid loss : 0.2718, valid acc : 90.18%\n",
            "0 / 50000\n",
            "10000 / 50000\n",
            "20000 / 50000\n",
            "30000 / 50000\n",
            "40000 / 50000\n",
            "epoch : 39, train loss : 0.1418, train acc : 94.68 valid loss : 0.2917, valid acc : 90.20%\n",
            "0 / 50000\n",
            "10000 / 50000\n",
            "20000 / 50000\n",
            "30000 / 50000\n",
            "40000 / 50000\n",
            "epoch : 40, train loss : 0.1360, train acc : 94.93 valid loss : 0.2822, valid acc : 90.34%\n",
            "best val acc: 90.56, best train loss: 0.13598202813416718\n"
          ],
          "name": "stdout"
        }
      ]
    },
    {
      "cell_type": "code",
      "metadata": {
        "id": "Kf50z79f-kLD",
        "colab_type": "code",
        "colab": {}
      },
      "source": [
        "checkpoint = torch.load('vgg16m0.9w0.8.pth')\n",
        "model.load_state_dict(checkpoint['model_state_dict'])\n",
        "optimizer3.load_state_dict(checkpoint['optimizer_state_dict'])\n",
        "start_epoch3 = checkpoint['epoch']\n",
        "mean_train_losses3 = checkpoint['train loss']\n",
        "train_acc_list3=checkpoint['train acc']\n",
        "mean_valid_losses3 = checkpoint['valid loss']\n",
        "valid_acc_list3=checkpoint['valid acc']"
      ],
      "execution_count": 0,
      "outputs": []
    },
    {
      "cell_type": "code",
      "metadata": {
        "id": "woXWEMgCqK9S",
        "colab_type": "code",
        "colab": {
          "base_uri": "https://localhost:8080/",
          "height": 125
        },
        "outputId": "617534c7-354c-447c-d52d-a0d68e5de95f"
      },
      "source": [
        "# Run this cell to mount your Google Drive.\n",
        "from google.colab import drive\n",
        "drive.mount('/content/drive')"
      ],
      "execution_count": 39,
      "outputs": [
        {
          "output_type": "stream",
          "text": [
            "Go to this URL in a browser: https://accounts.google.com/o/oauth2/auth?client_id=947318989803-6bn6qk8qdgf4n4g3pfee6491hc0brc4i.apps.googleusercontent.com&redirect_uri=urn%3Aietf%3Awg%3Aoauth%3A2.0%3Aoob&scope=email%20https%3A%2F%2Fwww.googleapis.com%2Fauth%2Fdocs.test%20https%3A%2F%2Fwww.googleapis.com%2Fauth%2Fdrive%20https%3A%2F%2Fwww.googleapis.com%2Fauth%2Fdrive.photos.readonly%20https%3A%2F%2Fwww.googleapis.com%2Fauth%2Fpeopleapi.readonly&response_type=code\n",
            "\n",
            "Enter your authorization code:\n",
            "··········\n",
            "Mounted at /content/drive\n"
          ],
          "name": "stdout"
        }
      ]
    },
    {
      "cell_type": "code",
      "metadata": {
        "id": "hiN_C8rxk1kj",
        "colab_type": "code",
        "colab": {}
      },
      "source": [
        "!cp '/content/vgg16m0.9w0.8.pth' '/content/drive/My Drive/Colab Notebooks'"
      ],
      "execution_count": 0,
      "outputs": []
    },
    {
      "cell_type": "code",
      "metadata": {
        "id": "r5iWgfqYk09M",
        "colab_type": "code",
        "colab": {}
      },
      "source": [
        ""
      ],
      "execution_count": 0,
      "outputs": []
    },
    {
      "cell_type": "code",
      "metadata": {
        "id": "pzIZVAJz-4zK",
        "colab_type": "code",
        "outputId": "44f3e61f-16b4-4741-a225-453477b5a278",
        "colab": {
          "base_uri": "https://localhost:8080/",
          "height": 612
        }
      },
      "source": [
        "fig, (ax1, ax2) = plt.subplots(nrows=1, ncols=2, figsize=(15, 10))\n",
        "ax1.plot(mean_train_losses3, label='train loss')\n",
        "ax1.plot(mean_valid_losses3, label='valid loss')\n",
        "lines, labels = ax1.get_legend_handles_labels()\n",
        "ax1.legend(lines, labels, loc='best')\n",
        "ax2.plot(valid_acc_list3, label='valid acc')\n",
        "ax2.plot(train_acc_list3, label='train acc')\n",
        "lines, labels = ax2.get_legend_handles_labels()\n",
        "ax2.legend(lines, labels, loc='best')"
      ],
      "execution_count": 37,
      "outputs": [
        {
          "output_type": "execute_result",
          "data": {
            "text/plain": [
              "<matplotlib.legend.Legend at 0x7f5650395ef0>"
            ]
          },
          "metadata": {
            "tags": []
          },
          "execution_count": 37
        },
        {
          "output_type": "display_data",
          "data": {
            "image/png": "[encoded data removed]",
            "text/plain": [
              "<Figure size 1080x720 with 2 Axes>"
            ]
          },
          "metadata": {
            "tags": []
          }
        }
      ]
    },
    {
      "cell_type": "code",
      "metadata": {
        "id": "3yx9p_tRZFNI",
        "colab_type": "code",
        "colab": {}
      },
      "source": [
        ""
      ],
      "execution_count": 0,
      "outputs": []
    }
  ]
}