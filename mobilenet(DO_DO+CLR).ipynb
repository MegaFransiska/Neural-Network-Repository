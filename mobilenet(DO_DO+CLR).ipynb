{
  "nbformat": 4,
  "nbformat_minor": 0,
  "metadata": {
    "colab": {
      "name": "mobilenet(DO-DO+CLR).ipynb",
      "version": "0.3.2",
      "provenance": [],
      "collapsed_sections": [],
      "toc_visible": true,
      "include_colab_link": true
    },
    "kernelspec": {
      "name": "python3",
      "display_name": "Python 3"
    },
    "accelerator": "GPU"
  },
  "cells": [
    {
      "cell_type": "markdown",
      "metadata": {
        "id": "view-in-github",
        "colab_type": "text"
      },
      "source": [
        "<a href=\"https://colab.research.google.com/github/megasiska86/Neural-Network-Repository/blob/master/mobilenet(DO_DO%2BCLR).ipynb\" target=\"_parent\"><img src=\"https://colab.research.google.com/assets/colab-badge.svg\" alt=\"Open In Colab\"/></a>"
      ]
    },
    {
      "cell_type": "code",
      "metadata": {
        "id": "aJ4RhgKpmQ-5",
        "colab_type": "code",
        "colab": {}
      },
      "source": [
        "%matplotlib inline"
      ],
      "execution_count": 0,
      "outputs": []
    },
    {
      "cell_type": "code",
      "metadata": {
        "id": "Lv2sS298m1PQ",
        "colab_type": "code",
        "colab": {}
      },
      "source": [
        "from __future__ import print_function, division\n",
        "\n",
        "import torch\n",
        "import torch.nn as nn\n",
        "import torch.optim as optim\n",
        "from torch.optim import lr_scheduler\n",
        "import numpy as np\n",
        "import torchvision\n",
        "from torchvision import datasets, models, transforms\n",
        "import matplotlib.pyplot as plt\n",
        "import time\n",
        "import os\n",
        "import copy\n",
        "\n",
        "plt.ion()   # interactive mode"
      ],
      "execution_count": 0,
      "outputs": []
    },
    {
      "cell_type": "code",
      "metadata": {
        "id": "7l4KCjttK94l",
        "colab_type": "code",
        "colab": {}
      },
      "source": [
        "checkpoint = torch.load('dataset.pth')\n",
        "trainset1 = checkpoint['trainset1']\n",
        "validset = checkpoint['validset']\n",
        "trainloader1 = checkpoint['trainloader1']\n",
        "validloader =checkpoint['validloader']\n",
        "testset = checkpoint['testset']\n",
        "testloader =checkpoint['testloader']\n",
        "device = torch.device(\"cuda:0\" if torch.cuda.is_available() else \"cpu\")"
      ],
      "execution_count": 0,
      "outputs": []
    },
    {
      "cell_type": "code",
      "metadata": {
        "id": "uLfvSvhrm__Z",
        "colab_type": "code",
        "colab": {}
      },
      "source": [
        "model=models.mobilenet_v2(pretrained=True)\n",
        "model.classifier[1]=nn.Linear(1280,10)\n",
        "model=model.to(device)"
      ],
      "execution_count": 0,
      "outputs": []
    },
    {
      "cell_type": "markdown",
      "metadata": {
        "id": "_oFp_L1dE5nY",
        "colab_type": "text"
      },
      "source": [
        "#dropout classifier diubahdari 0.2-> 0.25"
      ]
    },
    {
      "cell_type": "code",
      "metadata": {
        "id": "-c1EUq5gqG2o",
        "colab_type": "code",
        "colab": {}
      },
      "source": [
        "model.classifier[0]=nn.Dropout(p=0.25)"
      ],
      "execution_count": 0,
      "outputs": []
    },
    {
      "cell_type": "code",
      "metadata": {
        "id": "iJii7eMM7eU5",
        "colab_type": "code",
        "outputId": "78769edc-fe31-496f-9852-41c9fa95e0d0",
        "colab": {
          "base_uri": "https://localhost:8080/",
          "height": 1000
        }
      },
      "source": [
        "print(model)"
      ],
      "execution_count": 0,
      "outputs": [
        {
          "output_type": "stream",
          "text": [
            "MobileNetV2(\n",
            "  (features): Sequential(\n",
            "    (0): ConvBNReLU(\n",
            "      (0): Conv2d(3, 32, kernel_size=(3, 3), stride=(2, 2), padding=(1, 1), bias=False)\n",
            "      (1): BatchNorm2d(32, eps=1e-05, momentum=0.1, affine=True, track_running_stats=True)\n",
            "      (2): ReLU6(inplace)\n",
            "    )\n",
            "    (1): InvertedResidual(\n",
            "      (conv): Sequential(\n",
            "        (0): ConvBNReLU(\n",
            "          (0): Conv2d(32, 32, kernel_size=(3, 3), stride=(1, 1), padding=(1, 1), groups=32, bias=False)\n",
            "          (1): BatchNorm2d(32, eps=1e-05, momentum=0.1, affine=True, track_running_stats=True)\n",
            "          (2): ReLU6(inplace)\n",
            "        )\n",
            "        (1): Conv2d(32, 16, kernel_size=(1, 1), stride=(1, 1), bias=False)\n",
            "        (2): BatchNorm2d(16, eps=1e-05, momentum=0.1, affine=True, track_running_stats=True)\n",
            "      )\n",
            "    )\n",
            "    (2): InvertedResidual(\n",
            "      (conv): Sequential(\n",
            "        (0): ConvBNReLU(\n",
            "          (0): Conv2d(16, 96, kernel_size=(1, 1), stride=(1, 1), bias=False)\n",
            "          (1): BatchNorm2d(96, eps=1e-05, momentum=0.1, affine=True, track_running_stats=True)\n",
            "          (2): ReLU6(inplace)\n",
            "        )\n",
            "        (1): ConvBNReLU(\n",
            "          (0): Conv2d(96, 96, kernel_size=(3, 3), stride=(2, 2), padding=(1, 1), groups=96, bias=False)\n",
            "          (1): BatchNorm2d(96, eps=1e-05, momentum=0.1, affine=True, track_running_stats=True)\n",
            "          (2): ReLU6(inplace)\n",
            "        )\n",
            "        (2): Conv2d(96, 24, kernel_size=(1, 1), stride=(1, 1), bias=False)\n",
            "        (3): BatchNorm2d(24, eps=1e-05, momentum=0.1, affine=True, track_running_stats=True)\n",
            "      )\n",
            "    )\n",
            "    (3): InvertedResidual(\n",
            "      (conv): Sequential(\n",
            "        (0): ConvBNReLU(\n",
            "          (0): Conv2d(24, 144, kernel_size=(1, 1), stride=(1, 1), bias=False)\n",
            "          (1): BatchNorm2d(144, eps=1e-05, momentum=0.1, affine=True, track_running_stats=True)\n",
            "          (2): ReLU6(inplace)\n",
            "        )\n",
            "        (1): ConvBNReLU(\n",
            "          (0): Conv2d(144, 144, kernel_size=(3, 3), stride=(1, 1), padding=(1, 1), groups=144, bias=False)\n",
            "          (1): BatchNorm2d(144, eps=1e-05, momentum=0.1, affine=True, track_running_stats=True)\n",
            "          (2): ReLU6(inplace)\n",
            "        )\n",
            "        (2): Conv2d(144, 24, kernel_size=(1, 1), stride=(1, 1), bias=False)\n",
            "        (3): BatchNorm2d(24, eps=1e-05, momentum=0.1, affine=True, track_running_stats=True)\n",
            "      )\n",
            "    )\n",
            "    (4): InvertedResidual(\n",
            "      (conv): Sequential(\n",
            "        (0): ConvBNReLU(\n",
            "          (0): Conv2d(24, 144, kernel_size=(1, 1), stride=(1, 1), bias=False)\n",
            "          (1): BatchNorm2d(144, eps=1e-05, momentum=0.1, affine=True, track_running_stats=True)\n",
            "          (2): ReLU6(inplace)\n",
            "        )\n",
            "        (1): ConvBNReLU(\n",
            "          (0): Conv2d(144, 144, kernel_size=(3, 3), stride=(2, 2), padding=(1, 1), groups=144, bias=False)\n",
            "          (1): BatchNorm2d(144, eps=1e-05, momentum=0.1, affine=True, track_running_stats=True)\n",
            "          (2): ReLU6(inplace)\n",
            "        )\n",
            "        (2): Conv2d(144, 32, kernel_size=(1, 1), stride=(1, 1), bias=False)\n",
            "        (3): BatchNorm2d(32, eps=1e-05, momentum=0.1, affine=True, track_running_stats=True)\n",
            "      )\n",
            "    )\n",
            "    (5): InvertedResidual(\n",
            "      (conv): Sequential(\n",
            "        (0): ConvBNReLU(\n",
            "          (0): Conv2d(32, 192, kernel_size=(1, 1), stride=(1, 1), bias=False)\n",
            "          (1): BatchNorm2d(192, eps=1e-05, momentum=0.1, affine=True, track_running_stats=True)\n",
            "          (2): ReLU6(inplace)\n",
            "        )\n",
            "        (1): ConvBNReLU(\n",
            "          (0): Conv2d(192, 192, kernel_size=(3, 3), stride=(1, 1), padding=(1, 1), groups=192, bias=False)\n",
            "          (1): BatchNorm2d(192, eps=1e-05, momentum=0.1, affine=True, track_running_stats=True)\n",
            "          (2): ReLU6(inplace)\n",
            "        )\n",
            "        (2): Conv2d(192, 32, kernel_size=(1, 1), stride=(1, 1), bias=False)\n",
            "        (3): BatchNorm2d(32, eps=1e-05, momentum=0.1, affine=True, track_running_stats=True)\n",
            "      )\n",
            "    )\n",
            "    (6): InvertedResidual(\n",
            "      (conv): Sequential(\n",
            "        (0): ConvBNReLU(\n",
            "          (0): Conv2d(32, 192, kernel_size=(1, 1), stride=(1, 1), bias=False)\n",
            "          (1): BatchNorm2d(192, eps=1e-05, momentum=0.1, affine=True, track_running_stats=True)\n",
            "          (2): ReLU6(inplace)\n",
            "        )\n",
            "        (1): ConvBNReLU(\n",
            "          (0): Conv2d(192, 192, kernel_size=(3, 3), stride=(1, 1), padding=(1, 1), groups=192, bias=False)\n",
            "          (1): BatchNorm2d(192, eps=1e-05, momentum=0.1, affine=True, track_running_stats=True)\n",
            "          (2): ReLU6(inplace)\n",
            "        )\n",
            "        (2): Conv2d(192, 32, kernel_size=(1, 1), stride=(1, 1), bias=False)\n",
            "        (3): BatchNorm2d(32, eps=1e-05, momentum=0.1, affine=True, track_running_stats=True)\n",
            "      )\n",
            "    )\n",
            "    (7): InvertedResidual(\n",
            "      (conv): Sequential(\n",
            "        (0): ConvBNReLU(\n",
            "          (0): Conv2d(32, 192, kernel_size=(1, 1), stride=(1, 1), bias=False)\n",
            "          (1): BatchNorm2d(192, eps=1e-05, momentum=0.1, affine=True, track_running_stats=True)\n",
            "          (2): ReLU6(inplace)\n",
            "        )\n",
            "        (1): ConvBNReLU(\n",
            "          (0): Conv2d(192, 192, kernel_size=(3, 3), stride=(2, 2), padding=(1, 1), groups=192, bias=False)\n",
            "          (1): BatchNorm2d(192, eps=1e-05, momentum=0.1, affine=True, track_running_stats=True)\n",
            "          (2): ReLU6(inplace)\n",
            "        )\n",
            "        (2): Conv2d(192, 64, kernel_size=(1, 1), stride=(1, 1), bias=False)\n",
            "        (3): BatchNorm2d(64, eps=1e-05, momentum=0.1, affine=True, track_running_stats=True)\n",
            "      )\n",
            "    )\n",
            "    (8): InvertedResidual(\n",
            "      (conv): Sequential(\n",
            "        (0): ConvBNReLU(\n",
            "          (0): Conv2d(64, 384, kernel_size=(1, 1), stride=(1, 1), bias=False)\n",
            "          (1): BatchNorm2d(384, eps=1e-05, momentum=0.1, affine=True, track_running_stats=True)\n",
            "          (2): ReLU6(inplace)\n",
            "        )\n",
            "        (1): ConvBNReLU(\n",
            "          (0): Conv2d(384, 384, kernel_size=(3, 3), stride=(1, 1), padding=(1, 1), groups=384, bias=False)\n",
            "          (1): BatchNorm2d(384, eps=1e-05, momentum=0.1, affine=True, track_running_stats=True)\n",
            "          (2): ReLU6(inplace)\n",
            "        )\n",
            "        (2): Conv2d(384, 64, kernel_size=(1, 1), stride=(1, 1), bias=False)\n",
            "        (3): BatchNorm2d(64, eps=1e-05, momentum=0.1, affine=True, track_running_stats=True)\n",
            "      )\n",
            "    )\n",
            "    (9): InvertedResidual(\n",
            "      (conv): Sequential(\n",
            "        (0): ConvBNReLU(\n",
            "          (0): Conv2d(64, 384, kernel_size=(1, 1), stride=(1, 1), bias=False)\n",
            "          (1): BatchNorm2d(384, eps=1e-05, momentum=0.1, affine=True, track_running_stats=True)\n",
            "          (2): ReLU6(inplace)\n",
            "        )\n",
            "        (1): ConvBNReLU(\n",
            "          (0): Conv2d(384, 384, kernel_size=(3, 3), stride=(1, 1), padding=(1, 1), groups=384, bias=False)\n",
            "          (1): BatchNorm2d(384, eps=1e-05, momentum=0.1, affine=True, track_running_stats=True)\n",
            "          (2): ReLU6(inplace)\n",
            "        )\n",
            "        (2): Conv2d(384, 64, kernel_size=(1, 1), stride=(1, 1), bias=False)\n",
            "        (3): BatchNorm2d(64, eps=1e-05, momentum=0.1, affine=True, track_running_stats=True)\n",
            "      )\n",
            "    )\n",
            "    (10): InvertedResidual(\n",
            "      (conv): Sequential(\n",
            "        (0): ConvBNReLU(\n",
            "          (0): Conv2d(64, 384, kernel_size=(1, 1), stride=(1, 1), bias=False)\n",
            "          (1): BatchNorm2d(384, eps=1e-05, momentum=0.1, affine=True, track_running_stats=True)\n",
            "          (2): ReLU6(inplace)\n",
            "        )\n",
            "        (1): ConvBNReLU(\n",
            "          (0): Conv2d(384, 384, kernel_size=(3, 3), stride=(1, 1), padding=(1, 1), groups=384, bias=False)\n",
            "          (1): BatchNorm2d(384, eps=1e-05, momentum=0.1, affine=True, track_running_stats=True)\n",
            "          (2): ReLU6(inplace)\n",
            "        )\n",
            "        (2): Conv2d(384, 64, kernel_size=(1, 1), stride=(1, 1), bias=False)\n",
            "        (3): BatchNorm2d(64, eps=1e-05, momentum=0.1, affine=True, track_running_stats=True)\n",
            "      )\n",
            "    )\n",
            "    (11): InvertedResidual(\n",
            "      (conv): Sequential(\n",
            "        (0): ConvBNReLU(\n",
            "          (0): Conv2d(64, 384, kernel_size=(1, 1), stride=(1, 1), bias=False)\n",
            "          (1): BatchNorm2d(384, eps=1e-05, momentum=0.1, affine=True, track_running_stats=True)\n",
            "          (2): ReLU6(inplace)\n",
            "        )\n",
            "        (1): ConvBNReLU(\n",
            "          (0): Conv2d(384, 384, kernel_size=(3, 3), stride=(1, 1), padding=(1, 1), groups=384, bias=False)\n",
            "          (1): BatchNorm2d(384, eps=1e-05, momentum=0.1, affine=True, track_running_stats=True)\n",
            "          (2): ReLU6(inplace)\n",
            "        )\n",
            "        (2): Conv2d(384, 96, kernel_size=(1, 1), stride=(1, 1), bias=False)\n",
            "        (3): BatchNorm2d(96, eps=1e-05, momentum=0.1, affine=True, track_running_stats=True)\n",
            "      )\n",
            "    )\n",
            "    (12): InvertedResidual(\n",
            "      (conv): Sequential(\n",
            "        (0): ConvBNReLU(\n",
            "          (0): Conv2d(96, 576, kernel_size=(1, 1), stride=(1, 1), bias=False)\n",
            "          (1): BatchNorm2d(576, eps=1e-05, momentum=0.1, affine=True, track_running_stats=True)\n",
            "          (2): ReLU6(inplace)\n",
            "        )\n",
            "        (1): ConvBNReLU(\n",
            "          (0): Conv2d(576, 576, kernel_size=(3, 3), stride=(1, 1), padding=(1, 1), groups=576, bias=False)\n",
            "          (1): BatchNorm2d(576, eps=1e-05, momentum=0.1, affine=True, track_running_stats=True)\n",
            "          (2): ReLU6(inplace)\n",
            "        )\n",
            "        (2): Conv2d(576, 96, kernel_size=(1, 1), stride=(1, 1), bias=False)\n",
            "        (3): BatchNorm2d(96, eps=1e-05, momentum=0.1, affine=True, track_running_stats=True)\n",
            "      )\n",
            "    )\n",
            "    (13): InvertedResidual(\n",
            "      (conv): Sequential(\n",
            "        (0): ConvBNReLU(\n",
            "          (0): Conv2d(96, 576, kernel_size=(1, 1), stride=(1, 1), bias=False)\n",
            "          (1): BatchNorm2d(576, eps=1e-05, momentum=0.1, affine=True, track_running_stats=True)\n",
            "          (2): ReLU6(inplace)\n",
            "        )\n",
            "        (1): ConvBNReLU(\n",
            "          (0): Conv2d(576, 576, kernel_size=(3, 3), stride=(1, 1), padding=(1, 1), groups=576, bias=False)\n",
            "          (1): BatchNorm2d(576, eps=1e-05, momentum=0.1, affine=True, track_running_stats=True)\n",
            "          (2): ReLU6(inplace)\n",
            "        )\n",
            "        (2): Conv2d(576, 96, kernel_size=(1, 1), stride=(1, 1), bias=False)\n",
            "        (3): BatchNorm2d(96, eps=1e-05, momentum=0.1, affine=True, track_running_stats=True)\n",
            "      )\n",
            "    )\n",
            "    (14): InvertedResidual(\n",
            "      (conv): Sequential(\n",
            "        (0): ConvBNReLU(\n",
            "          (0): Conv2d(96, 576, kernel_size=(1, 1), stride=(1, 1), bias=False)\n",
            "          (1): BatchNorm2d(576, eps=1e-05, momentum=0.1, affine=True, track_running_stats=True)\n",
            "          (2): ReLU6(inplace)\n",
            "        )\n",
            "        (1): ConvBNReLU(\n",
            "          (0): Conv2d(576, 576, kernel_size=(3, 3), stride=(2, 2), padding=(1, 1), groups=576, bias=False)\n",
            "          (1): BatchNorm2d(576, eps=1e-05, momentum=0.1, affine=True, track_running_stats=True)\n",
            "          (2): ReLU6(inplace)\n",
            "        )\n",
            "        (2): Conv2d(576, 160, kernel_size=(1, 1), stride=(1, 1), bias=False)\n",
            "        (3): BatchNorm2d(160, eps=1e-05, momentum=0.1, affine=True, track_running_stats=True)\n",
            "      )\n",
            "    )\n",
            "    (15): InvertedResidual(\n",
            "      (conv): Sequential(\n",
            "        (0): ConvBNReLU(\n",
            "          (0): Conv2d(160, 960, kernel_size=(1, 1), stride=(1, 1), bias=False)\n",
            "          (1): BatchNorm2d(960, eps=1e-05, momentum=0.1, affine=True, track_running_stats=True)\n",
            "          (2): ReLU6(inplace)\n",
            "        )\n",
            "        (1): ConvBNReLU(\n",
            "          (0): Conv2d(960, 960, kernel_size=(3, 3), stride=(1, 1), padding=(1, 1), groups=960, bias=False)\n",
            "          (1): BatchNorm2d(960, eps=1e-05, momentum=0.1, affine=True, track_running_stats=True)\n",
            "          (2): ReLU6(inplace)\n",
            "        )\n",
            "        (2): Conv2d(960, 160, kernel_size=(1, 1), stride=(1, 1), bias=False)\n",
            "        (3): BatchNorm2d(160, eps=1e-05, momentum=0.1, affine=True, track_running_stats=True)\n",
            "      )\n",
            "    )\n",
            "    (16): InvertedResidual(\n",
            "      (conv): Sequential(\n",
            "        (0): ConvBNReLU(\n",
            "          (0): Conv2d(160, 960, kernel_size=(1, 1), stride=(1, 1), bias=False)\n",
            "          (1): BatchNorm2d(960, eps=1e-05, momentum=0.1, affine=True, track_running_stats=True)\n",
            "          (2): ReLU6(inplace)\n",
            "        )\n",
            "        (1): ConvBNReLU(\n",
            "          (0): Conv2d(960, 960, kernel_size=(3, 3), stride=(1, 1), padding=(1, 1), groups=960, bias=False)\n",
            "          (1): BatchNorm2d(960, eps=1e-05, momentum=0.1, affine=True, track_running_stats=True)\n",
            "          (2): ReLU6(inplace)\n",
            "        )\n",
            "        (2): Conv2d(960, 160, kernel_size=(1, 1), stride=(1, 1), bias=False)\n",
            "        (3): BatchNorm2d(160, eps=1e-05, momentum=0.1, affine=True, track_running_stats=True)\n",
            "      )\n",
            "    )\n",
            "    (17): InvertedResidual(\n",
            "      (conv): Sequential(\n",
            "        (0): ConvBNReLU(\n",
            "          (0): Conv2d(160, 960, kernel_size=(1, 1), stride=(1, 1), bias=False)\n",
            "          (1): BatchNorm2d(960, eps=1e-05, momentum=0.1, affine=True, track_running_stats=True)\n",
            "          (2): ReLU6(inplace)\n",
            "        )\n",
            "        (1): ConvBNReLU(\n",
            "          (0): Conv2d(960, 960, kernel_size=(3, 3), stride=(1, 1), padding=(1, 1), groups=960, bias=False)\n",
            "          (1): BatchNorm2d(960, eps=1e-05, momentum=0.1, affine=True, track_running_stats=True)\n",
            "          (2): ReLU6(inplace)\n",
            "        )\n",
            "        (2): Conv2d(960, 320, kernel_size=(1, 1), stride=(1, 1), bias=False)\n",
            "        (3): BatchNorm2d(320, eps=1e-05, momentum=0.1, affine=True, track_running_stats=True)\n",
            "      )\n",
            "    )\n",
            "    (18): ConvBNReLU(\n",
            "      (0): Conv2d(320, 1280, kernel_size=(1, 1), stride=(1, 1), bias=False)\n",
            "      (1): BatchNorm2d(1280, eps=1e-05, momentum=0.1, affine=True, track_running_stats=True)\n",
            "      (2): ReLU6(inplace)\n",
            "    )\n",
            "  )\n",
            "  (classifier): Sequential(\n",
            "    (0): Dropout(p=0.25)\n",
            "    (1): Linear(in_features=1280, out_features=10, bias=True)\n",
            "  )\n",
            ")\n"
          ],
          "name": "stdout"
        }
      ]
    },
    {
      "cell_type": "code",
      "metadata": {
        "id": "KIAhFDh4nq9N",
        "colab_type": "code",
        "colab": {}
      },
      "source": [
        "optimizer=optim.SGD(model.parameters(), lr=0.01)\n",
        "#optimizer = torch.optim.Adam(model.parameters(), lr=0.001)\n",
        "loss_fn = nn.CrossEntropyLoss()\n",
        "#loss_fn = nn.NLLLoss()\n",
        "#exp_lr_scheduler = lr_scheduler.StepLR(optimizer, step_size=5, gamma=0.1)"
      ],
      "execution_count": 0,
      "outputs": []
    },
    {
      "cell_type": "code",
      "metadata": {
        "id": "6cODA4Wvo7vK",
        "colab_type": "code",
        "colab": {}
      },
      "source": [
        "mean_train_losses = []\n",
        "mean_valid_losses = []\n",
        "valid_acc_list = []\n",
        "train_acc_list=[]\n",
        "test_acc_list=[]\n",
        "start_epoch=0\n",
        "e=5"
      ],
      "execution_count": 0,
      "outputs": []
    },
    {
      "cell_type": "code",
      "metadata": {
        "colab_type": "code",
        "outputId": "3b90cd5f-f186-41af-b168-4013b7200273",
        "id": "RuySIE6Gp5Ln",
        "colab": {
          "base_uri": "https://localhost:8080/",
          "height": 514
        }
      },
      "source": [
        "for epoch in range(start_epoch,20):\n",
        "    #exp_lr_scheduler.step()\n",
        "    model.train()\n",
        "    \n",
        "    train_losses = []\n",
        "    valid_losses = []\n",
        "    model.eval()\n",
        "    correct_t = 0\n",
        "    total_t = 0\n",
        "    for i, data in enumerate(trainloader1):\n",
        "        images,labels=data\n",
        "        images,labels=images.to(device),labels.to(device)\n",
        "        \n",
        "        optimizer.zero_grad()\n",
        "        \n",
        "        outputs = model(images)\n",
        "        loss = loss_fn(outputs, labels)\n",
        "        loss.backward()\n",
        "        optimizer.step()\n",
        "        \n",
        "        train_losses.append(loss.item())\n",
        "        \n",
        "        _, predicted_t = torch.max(outputs.data, 1)\n",
        "        correct_t += (predicted_t == labels).sum().item()\n",
        "        total_t += labels.size(0)\n",
        "        \n",
        "        if (i * 200) % (200 * 200) == 0:\n",
        "            print(i*10, '/ 50000')\n",
        "            \n",
        "    model.eval()\n",
        "    correct_v = 0\n",
        "    total_v = 0\n",
        "    with torch.no_grad():\n",
        "        for i, data in enumerate(validloader):\n",
        "            images,labels=data\n",
        "            images,labels=images.to(device),labels.to(device)\n",
        "            outputs = model(images)\n",
        "            loss = loss_fn(outputs, labels)\n",
        "            \n",
        "            valid_losses.append(loss.item())\n",
        "            \n",
        "            _, predicted_v = torch.max(outputs.data, 1)\n",
        "            correct_v += (predicted_v == labels).sum().item()\n",
        "            total_v += labels.size(0)\n",
        "    correct_te = 0\n",
        "    total_te = 0\n",
        "    with torch.no_grad():\n",
        "        for i, data in enumerate(testloader):\n",
        "            images,labels=data\n",
        "            images,labels=images.to(device),labels.to(device)\n",
        "            outputs = model(images)\n",
        "            _, predicted_v = torch.max(outputs.data, 1)\n",
        "            correct_te += (predicted_v == labels).sum().item()\n",
        "            total_te += labels.size(0)\n",
        "    accuracy_te = 100*correct_te/total_te\n",
        "    test_acc_list.append(accuracy_te)\n",
        "                \n",
        "    m_t_l=np.mean(train_losses)\n",
        "    m_v_l=np.mean(valid_losses)\n",
        "            \n",
        "    mean_train_losses.append(m_t_l)\n",
        "    mean_valid_losses.append(m_v_l)\n",
        "    \n",
        "    accuracy_v = 100*correct_v/total_v\n",
        "    accuracy_t = 100*correct_t/total_t\n",
        "    valid_acc_list.append(accuracy_v)\n",
        "    train_acc_list.append(accuracy_t)\n",
        "    \n",
        "    \n",
        "        #save\n",
        "    torch.save({'epoch': epoch+1, 'model_state_dict': model.state_dict(),'optimizer_state_dict': optimizer.state_dict(), 'train loss': mean_train_losses,'train acc': train_acc_list, 'valid loss':mean_valid_losses, 'valid acc': valid_acc_list}, 'mo2.pth')\n",
        "    print('epoch : {}, train loss : {:.4f}, train acc : {:.2f}% valid loss : {:.4f}, valid acc : {:.2f}%, test acc : {:.2f}%'.format(epoch+1, m_t_l, accuracy_t, m_v_l, accuracy_v, accuracy_te))\n",
        "print('best val acc: {0}, best train loss: {1}, test acc max: {2}'.format(np.max(valid_acc_list),np.min(mean_train_losses),np.max(test_acc_list)))"
      ],
      "execution_count": 0,
      "outputs": [
        {
          "output_type": "stream",
          "text": [
            "0 / 50000\n",
            "2000 / 50000\n",
            "epoch : 12, train loss : 0.0504, train acc : 98.26% valid loss : 0.1477, valid acc : 95.12%, test acc : 93.77%\n",
            "0 / 50000\n",
            "2000 / 50000\n",
            "epoch : 13, train loss : 0.0447, train acc : 98.42% valid loss : 0.1608, valid acc : 94.66%, test acc : 93.84%\n",
            "0 / 50000\n",
            "2000 / 50000\n",
            "epoch : 14, train loss : 0.0400, train acc : 98.63% valid loss : 0.1725, valid acc : 94.69%, test acc : 93.83%\n",
            "0 / 50000\n",
            "2000 / 50000\n",
            "epoch : 15, train loss : 0.0360, train acc : 98.73% valid loss : 0.1550, valid acc : 95.21%, test acc : 94.33%\n",
            "0 / 50000\n",
            "2000 / 50000\n",
            "epoch : 16, train loss : 0.0314, train acc : 98.95% valid loss : 0.1763, valid acc : 94.55%, test acc : 93.66%\n",
            "0 / 50000\n",
            "2000 / 50000\n",
            "epoch : 17, train loss : 0.0267, train acc : 99.16% valid loss : 0.1768, valid acc : 94.96%, test acc : 93.98%\n",
            "0 / 50000\n",
            "2000 / 50000\n",
            "epoch : 18, train loss : 0.0235, train acc : 99.27% valid loss : 0.1831, valid acc : 94.98%, test acc : 93.98%\n",
            "0 / 50000\n",
            "2000 / 50000\n",
            "epoch : 19, train loss : 0.0170, train acc : 99.53% valid loss : 0.1834, valid acc : 94.84%, test acc : 94.07%\n",
            "0 / 50000\n",
            "2000 / 50000\n",
            "epoch : 20, train loss : 0.0175, train acc : 99.48% valid loss : 0.1894, valid acc : 94.94%, test acc : 93.97%\n",
            "best val acc: 95.47, best train loss: 0.01697686110573161, test acc max: 94.33\n"
          ],
          "name": "stdout"
        }
      ]
    },
    {
      "cell_type": "code",
      "metadata": {
        "id": "Xvl8SWRwpMiw",
        "colab_type": "code",
        "colab": {}
      },
      "source": [
        "checkpoint = torch.load('mo2.pth')\n",
        "model.load_state_dict(checkpoint['model_state_dict'])\n",
        "optimizer.load_state_dict(checkpoint['optimizer_state_dict'])\n",
        "start_epoch = checkpoint['epoch']\n",
        "mean_train_losses = checkpoint['train loss']\n",
        "train_acc_list=checkpoint['train acc']\n",
        "mean_valid_losses = checkpoint['valid loss']\n",
        "valid_acc_list=checkpoint['valid acc']"
      ],
      "execution_count": 0,
      "outputs": []
    },
    {
      "cell_type": "code",
      "metadata": {
        "id": "I5oE_mjc20kq",
        "colab_type": "code",
        "outputId": "8a42571c-2383-499d-875a-1ebd50593db3",
        "colab": {
          "base_uri": "https://localhost:8080/",
          "height": 612
        }
      },
      "source": [
        "fig, (ax1, ax2) = plt.subplots(nrows=1, ncols=2, figsize=(15, 10))\n",
        "ax1.plot(mean_train_losses, label='train loss')\n",
        "ax1.plot(mean_valid_losses, label='valid loss')\n",
        "lines, labels = ax1.get_legend_handles_labels()\n",
        "ax1.legend(lines, labels, loc='best')\n",
        "ax2.plot(train_acc_list, label='train acc')\n",
        "ax2.plot(valid_acc_list, label='valid acc')\n",
        "lines, labels = ax2.get_legend_handles_labels()\n",
        "ax2.legend(lines, labels, loc='best')"
      ],
      "execution_count": 0,
      "outputs": [
        {
          "output_type": "execute_result",
          "data": {
            "text/plain": [
              "<matplotlib.legend.Legend at 0x7f528cf9ef98>"
            ]
          },
          "metadata": {
            "tags": []
          },
          "execution_count": 53
        },
        {
          "output_type": "display_data",
          "data": {
            "image/png": "[encoded data removed]",
            "text/plain": [
              "<Figure size 1080x720 with 2 Axes>"
            ]
          },
          "metadata": {
            "tags": []
          }
        }
      ]
    },
    {
      "cell_type": "code",
      "metadata": {
        "id": "5BvVl7shKSfw",
        "colab_type": "code",
        "outputId": "052f1893-6ddf-4e47-881f-fbe24c392a8d",
        "colab": {
          "base_uri": "https://localhost:8080/",
          "height": 125
        }
      },
      "source": [
        "# Run this cell to mount your Google Drive.\n",
        "from google.colab import drive\n",
        "drive.mount('/content/drive')"
      ],
      "execution_count": 0,
      "outputs": [
        {
          "output_type": "stream",
          "text": [
            "Go to this URL in a browser: https://accounts.google.com/o/oauth2/auth?client_id=947318989803-6bn6qk8qdgf4n4g3pfee6491hc0brc4i.apps.googleusercontent.com&redirect_uri=urn%3Aietf%3Awg%3Aoauth%3A2.0%3Aoob&scope=email%20https%3A%2F%2Fwww.googleapis.com%2Fauth%2Fdocs.test%20https%3A%2F%2Fwww.googleapis.com%2Fauth%2Fdrive%20https%3A%2F%2Fwww.googleapis.com%2Fauth%2Fdrive.photos.readonly%20https%3A%2F%2Fwww.googleapis.com%2Fauth%2Fpeopleapi.readonly&response_type=code\n",
            "\n",
            "Enter your authorization code:\n",
            "··········\n",
            "Mounted at /content/drive\n"
          ],
          "name": "stdout"
        }
      ]
    },
    {
      "cell_type": "code",
      "metadata": {
        "id": "cKW8P4DNKTQb",
        "colab_type": "code",
        "colab": {}
      },
      "source": [
        "!cp '/content/drive/My Drive/dataset.pth' '/content/dataset.pth'"
      ],
      "execution_count": 0,
      "outputs": []
    },
    {
      "cell_type": "markdown",
      "metadata": {
        "id": "qMEF42c4YQO6",
        "colab_type": "text"
      },
      "source": [
        "#DO+CLR base_lr=0.001, max_lr=0.015,step_size_up=60, step_size_down=100"
      ]
    },
    {
      "cell_type": "code",
      "metadata": {
        "id": "cjlCao5eZ6fV",
        "colab_type": "code",
        "colab": {}
      },
      "source": [
        "optimizer2=optim.SGD(model.parameters(), lr=0.1, momentum=0.99)\n",
        "#optimizer1 = torch.optim.Adam(model.parameters(), lr=0.001)\n",
        "loss_fn2 = nn.CrossEntropyLoss()\n",
        "scheduler2 = lr_scheduler.CyclicLR(optimizer2, base_lr=0.001, max_lr=0.015,step_size_up=60, step_size_down=100)\n",
        "#loss_fn1 = nn.NLLLoss()\n",
        "#exp_lr_scheduler = lr_scheduler.StepLR(optimizer1, step_size=10, gamma=0.1)"
      ],
      "execution_count": 0,
      "outputs": []
    },
    {
      "cell_type": "code",
      "metadata": {
        "id": "r_mkJNYmZ_NG",
        "colab_type": "code",
        "colab": {}
      },
      "source": [
        "mean_train_losses2 = []\n",
        "mean_valid_losses2 = []\n",
        "valid_acc_list2 = []\n",
        "train_acc_list2=[]\n",
        "test_acc_list2=[]\n",
        "start_epoch2=0\n",
        "e2=5"
      ],
      "execution_count": 0,
      "outputs": []
    },
    {
      "cell_type": "code",
      "metadata": {
        "id": "wb_RkBfzb2qX",
        "colab_type": "code",
        "outputId": "ded0d632-743b-44d3-c5dd-06484d78d02e",
        "colab": {
          "base_uri": "https://localhost:8080/",
          "height": 301
        }
      },
      "source": [
        "for epoch in range(start_epoch2,10):\n",
        "    scheduler2.step()\n",
        "    model.train()\n",
        "    \n",
        "    train_losses = []\n",
        "    valid_losses = []\n",
        "    model.eval()\n",
        "    correct_t = 0\n",
        "    total_t = 0\n",
        "    for i, data in enumerate(trainloader1):\n",
        "        images,labels=data\n",
        "        images,labels=images.to(device),labels.to(device)\n",
        "        \n",
        "        optimizer2.zero_grad()\n",
        "        \n",
        "        outputs = model(images)\n",
        "        loss = loss_fn2(outputs, labels)\n",
        "        loss.backward()\n",
        "        optimizer2.step()\n",
        "        \n",
        "        train_losses.append(loss.item())\n",
        "        \n",
        "        _, predicted_t = torch.max(outputs.data, 1)\n",
        "        correct_t += (predicted_t == labels).sum().item()\n",
        "        total_t += labels.size(0)\n",
        "        \n",
        "        if (i * 200) % (200 * 200) == 0:\n",
        "            print(i*10, '/ 50000')\n",
        "            \n",
        "    model.eval()\n",
        "    correct_v = 0\n",
        "    total_v = 0\n",
        "    with torch.no_grad():\n",
        "        for i, data in enumerate(validloader):\n",
        "            images,labels=data\n",
        "            images,labels=images.to(device),labels.to(device)\n",
        "            outputs = model(images)\n",
        "            loss = loss_fn2(outputs, labels)\n",
        "            \n",
        "            valid_losses.append(loss.item())\n",
        "            \n",
        "            _, predicted_v = torch.max(outputs.data, 1)\n",
        "            correct_v += (predicted_v == labels).sum().item()\n",
        "            total_v += labels.size(0)\n",
        "    correct_te = 0\n",
        "    total_te = 0\n",
        "    with torch.no_grad():\n",
        "        for i, data in enumerate(testloader):\n",
        "            images,labels=data\n",
        "            images,labels=images.to(device),labels.to(device)\n",
        "            outputs = model(images)\n",
        "            _, predicted_v = torch.max(outputs.data, 1)\n",
        "            correct_te += (predicted_v == labels).sum().item()\n",
        "            total_te += labels.size(0)\n",
        "    accuracy_te = 100*correct_te/total_te\n",
        "    test_acc_list2.append(accuracy_te)\n",
        "                \n",
        "    m_t_l=np.mean(train_losses)\n",
        "    m_v_l=np.mean(valid_losses)\n",
        "            \n",
        "    mean_train_losses2.append(m_t_l)\n",
        "    mean_valid_losses2.append(m_v_l)\n",
        "    \n",
        "    accuracy_v = 100*correct_v/total_v\n",
        "    accuracy_t = 100*correct_t/total_t\n",
        "    valid_acc_list2.append(accuracy_v)\n",
        "    train_acc_list2.append(accuracy_t)\n",
        "    \n",
        "    \n",
        "        #save\n",
        "    torch.save({'epoch': epoch+1, 'model_state_dict': model.state_dict(),'optimizer_state_dict': optimizer2.state_dict(), 'train loss': mean_train_losses2,'train acc': train_acc_list2, 'valid loss':mean_valid_losses2, 'valid acc': valid_acc_list2}, 'modoc.pth')\n",
        "    print('epoch : {}, train loss : {:.4f}, train acc : {:.2f}% valid loss : {:.4f}, valid acc : {:.2f}%, test acc : {:.2f}%'.format(epoch+1, m_t_l, accuracy_t, m_v_l, accuracy_v, accuracy_te))\n",
        "print('best val acc: {0}, best train loss: {1}, test acc max: {2}'.format(np.max(valid_acc_list2),np.min(mean_train_losses2),np.max(test_acc_list2)))"
      ],
      "execution_count": 0,
      "outputs": [
        {
          "output_type": "stream",
          "text": [
            "0 / 50000\n",
            "2000 / 50000\n",
            "epoch : 6, train loss : 0.0031, train acc : 99.94% valid loss : 0.2804, valid acc : 94.76%, test acc : 94.76%\n",
            "0 / 50000\n",
            "2000 / 50000\n",
            "epoch : 7, train loss : 0.0020, train acc : 99.97% valid loss : 0.2887, valid acc : 94.85%, test acc : 94.70%\n",
            "0 / 50000\n",
            "2000 / 50000\n",
            "epoch : 8, train loss : 0.0020, train acc : 99.95% valid loss : 0.3041, valid acc : 94.64%, test acc : 94.60%\n",
            "0 / 50000\n",
            "2000 / 50000\n",
            "epoch : 9, train loss : 0.0198, train acc : 99.30% valid loss : 0.2594, valid acc : 94.86%, test acc : 94.58%\n",
            "0 / 50000\n",
            "2000 / 50000\n",
            "epoch : 10, train loss : 0.0160, train acc : 99.39% valid loss : 0.2545, valid acc : 94.73%, test acc : 94.46%\n",
            "best val acc: 95.0, best train loss: 0.0019687214185057393, test acc max: 94.97\n"
          ],
          "name": "stdout"
        }
      ]
    },
    {
      "cell_type": "code",
      "metadata": {
        "id": "iMCS6oWBb-cX",
        "colab_type": "code",
        "colab": {}
      },
      "source": [
        "checkpoint = torch.load('modoc.pth')\n",
        "model.load_state_dict(checkpoint['model_state_dict'])\n",
        "optimizer2.load_state_dict(checkpoint['optimizer_state_dict'])\n",
        "start_epoch2 = checkpoint['epoch']\n",
        "mean_train_losses2 = checkpoint['train loss']\n",
        "train_acc_list2=checkpoint['train acc']\n",
        "mean_valid_losses2 = checkpoint['valid loss']\n",
        "valid_acc_list2=checkpoint['valid acc']"
      ],
      "execution_count": 0,
      "outputs": []
    },
    {
      "cell_type": "code",
      "metadata": {
        "id": "m7tNSAoUcOh7",
        "colab_type": "code",
        "outputId": "209e5096-32a7-4d46-ecae-b3c47fe8cb29",
        "colab": {
          "base_uri": "https://localhost:8080/",
          "height": 612
        }
      },
      "source": [
        "fig, (ax1, ax2) = plt.subplots(nrows=1, ncols=2, figsize=(15, 10))\n",
        "ax1.plot(mean_train_losses2, label='train loss')\n",
        "ax1.plot(mean_valid_losses2, label='valid loss')\n",
        "lines, labels = ax1.get_legend_handles_labels()\n",
        "ax1.legend(lines, labels, loc='best')\n",
        "ax2.plot(train_acc_list2, label='train acc')\n",
        "ax2.plot(valid_acc_list2, label='valid acc')\n",
        "lines, labels = ax2.get_legend_handles_labels()\n",
        "ax2.legend(lines, labels, loc='best')"
      ],
      "execution_count": 0,
      "outputs": [
        {
          "output_type": "execute_result",
          "data": {
            "text/plain": [
              "<matplotlib.legend.Legend at 0x7f528cdd0978>"
            ]
          },
          "metadata": {
            "tags": []
          },
          "execution_count": 79
        },
        {
          "output_type": "display_data",
          "data": {
            "image/png": "[encoded data removed]",
            "text/plain": [
              "<Figure size 1080x720 with 2 Axes>"
            ]
          },
          "metadata": {
            "tags": []
          }
        }
      ]
    },
    {
      "cell_type": "code",
      "metadata": {
        "id": "X1GEciapTtMl",
        "colab_type": "code",
        "colab": {}
      },
      "source": [
        "!cp '/content/dataset.pth' '/content/drive/My Drive/dataset.pth'"
      ],
      "execution_count": 0,
      "outputs": []
    },
    {
      "cell_type": "code",
      "metadata": {
        "id": "pZBTgF06UAtj",
        "colab_type": "code",
        "colab": {}
      },
      "source": [
        "!cp '/content/mo2.pth' '/content/drive/My Drive/mo.pth'"
      ],
      "execution_count": 0,
      "outputs": []
    },
    {
      "cell_type": "code",
      "metadata": {
        "id": "GS1-eLJJUHiM",
        "colab_type": "code",
        "colab": {}
      },
      "source": [
        "!cp '/content/modoc.pth' '/content/drive/My Drive/modoc.pth'"
      ],
      "execution_count": 0,
      "outputs": []
    },
    {
      "cell_type": "code",
      "metadata": {
        "id": "EddjUAGAUNUq",
        "colab_type": "code",
        "colab": {}
      },
      "source": [
        ""
      ],
      "execution_count": 0,
      "outputs": []
    }
  ]
}