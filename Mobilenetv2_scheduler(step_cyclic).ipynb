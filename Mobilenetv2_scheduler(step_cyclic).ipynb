{
  "nbformat": 4,
  "nbformat_minor": 0,
  "metadata": {
    "colab": {
      "name": "Mobilenetv2 scheduler(step-cyclic).ipynb",
      "version": "0.3.2",
      "provenance": [],
      "collapsed_sections": [],
      "toc_visible": true,
      "include_colab_link": true
    },
    "kernelspec": {
      "name": "python3",
      "display_name": "Python 3"
    },
    "accelerator": "GPU"
  },
  "cells": [
    {
      "cell_type": "markdown",
      "metadata": {
        "id": "view-in-github",
        "colab_type": "text"
      },
      "source": [
        "<a href=\"https://colab.research.google.com/github/megasiska86/Neural-Network-Repository/blob/master/Mobilenetv2_scheduler(step_cyclic).ipynb\" target=\"_parent\"><img src=\"https://colab.research.google.com/assets/colab-badge.svg\" alt=\"Open In Colab\"/></a>"
      ]
    },
    {
      "cell_type": "code",
      "metadata": {
        "id": "Q6MlDsN6jUZq",
        "colab_type": "code",
        "outputId": "f306b9f1-0df9-4a0b-e6d6-6ed331cd5e03",
        "colab": {
          "base_uri": "https://localhost:8080/",
          "height": 1000
        }
      },
      "source": [
        "!unzip fashion-mnist-master.zip"
      ],
      "execution_count": 0,
      "outputs": [
        {
          "output_type": "stream",
          "text": [
            "Archive:  fashion-mnist-master.zip\n",
            "629abc0f9a73c2897383a9178e8e38f7141be30d\n",
            "   creating: fashion-mnist-master/\n",
            "  inflating: fashion-mnist-master/.catwatch.yaml  \n",
            " extracting: fashion-mnist-master/.dockerignore  \n",
            "  inflating: fashion-mnist-master/.gitignore  \n",
            "  inflating: fashion-mnist-master/.zappr.yaml  \n",
            "  inflating: fashion-mnist-master/CONTRIBUTING.md  \n",
            "  inflating: fashion-mnist-master/Dockerfile  \n",
            "  inflating: fashion-mnist-master/LICENSE  \n",
            "  inflating: fashion-mnist-master/MAINTAINERS  \n",
            "  inflating: fashion-mnist-master/README.ja.md  \n",
            "  inflating: fashion-mnist-master/README.md  \n",
            "  inflating: fashion-mnist-master/README.zh-CN.md  \n",
            "  inflating: fashion-mnist-master/app.py  \n",
            "   creating: fashion-mnist-master/benchmark/\n",
            " extracting: fashion-mnist-master/benchmark/__init__.py  \n",
            "  inflating: fashion-mnist-master/benchmark/baselines.json  \n",
            "  inflating: fashion-mnist-master/benchmark/convnet.py  \n",
            "  inflating: fashion-mnist-master/benchmark/runner.py  \n",
            "  inflating: fashion-mnist-master/configs.py  \n",
            "   creating: fashion-mnist-master/data/\n",
            "   creating: fashion-mnist-master/data/fashion/\n",
            " extracting: fashion-mnist-master/data/fashion/t10k-images-idx3-ubyte.gz  \n",
            " extracting: fashion-mnist-master/data/fashion/t10k-labels-idx1-ubyte.gz  \n",
            " extracting: fashion-mnist-master/data/fashion/train-images-idx3-ubyte.gz  \n",
            " extracting: fashion-mnist-master/data/fashion/train-labels-idx1-ubyte.gz  \n",
            "   creating: fashion-mnist-master/data/mnist/\n",
            " extracting: fashion-mnist-master/data/mnist/README.md  \n",
            "   creating: fashion-mnist-master/doc/\n",
            "   creating: fashion-mnist-master/doc/img/\n",
            "  inflating: fashion-mnist-master/doc/img/01e0c4be.png  \n",
            "  inflating: fashion-mnist-master/doc/img/34d72c08.png  \n",
            "  inflating: fashion-mnist-master/doc/img/4433f0e1.png  \n",
            "  inflating: fashion-mnist-master/doc/img/853c717e.png  \n",
            "  inflating: fashion-mnist-master/doc/img/ae143b2d.png  \n",
            "  inflating: fashion-mnist-master/doc/img/b6e79fa2.png  \n",
            " extracting: fashion-mnist-master/doc/img/b9b8fb21.png  \n",
            "  inflating: fashion-mnist-master/doc/img/benchmark.gif  \n",
            "  inflating: fashion-mnist-master/doc/img/c60ceb17.png  \n",
            "  inflating: fashion-mnist-master/doc/img/dd83f448.png  \n",
            " extracting: fashion-mnist-master/doc/img/e9514ab1.png  \n",
            "  inflating: fashion-mnist-master/doc/img/embedding.gif  \n",
            "  inflating: fashion-mnist-master/doc/img/f04ba662.png  \n",
            "  inflating: fashion-mnist-master/doc/img/fashion-mnist-sprite.png  \n",
            "  inflating: fashion-mnist-master/doc/img/umap_example_fashion_mnist1.png  \n",
            "  inflating: fashion-mnist-master/doc/img/umap_example_mnist1.png  \n",
            " extracting: fashion-mnist-master/requirements.txt  \n",
            "   creating: fashion-mnist-master/static/\n",
            "   creating: fashion-mnist-master/static/css/\n",
            "  inflating: fashion-mnist-master/static/css/main.css  \n",
            "   creating: fashion-mnist-master/static/img/\n",
            "  inflating: fashion-mnist-master/static/img/research_logo.png  \n",
            "  inflating: fashion-mnist-master/static/index.html  \n",
            "   creating: fashion-mnist-master/static/js/\n",
            "  inflating: fashion-mnist-master/static/js/vue-binding.js  \n",
            "   creating: fashion-mnist-master/utils/\n",
            " extracting: fashion-mnist-master/utils/__init__.py  \n",
            "  inflating: fashion-mnist-master/utils/argparser.py  \n",
            "  inflating: fashion-mnist-master/utils/helper.py  \n",
            "  inflating: fashion-mnist-master/utils/mnist_reader.py  \n",
            "   creating: fashion-mnist-master/visualization/\n",
            " extracting: fashion-mnist-master/visualization/__init__.py  \n",
            "  inflating: fashion-mnist-master/visualization/project_zalando.py  \n"
          ],
          "name": "stdout"
        }
      ]
    },
    {
      "cell_type": "code",
      "metadata": {
        "id": "BykdfvAijbwD",
        "colab_type": "code",
        "colab": {}
      },
      "source": [
        "!rm -rf fashion-mnist-master.zip"
      ],
      "execution_count": 0,
      "outputs": []
    },
    {
      "cell_type": "code",
      "metadata": {
        "id": "Lr98Nv4-jvDI",
        "colab_type": "code",
        "colab": {}
      },
      "source": [
        "%matplotlib inline"
      ],
      "execution_count": 0,
      "outputs": []
    },
    {
      "cell_type": "code",
      "metadata": {
        "id": "vy_MvIECl5Cb",
        "colab_type": "code",
        "colab": {}
      },
      "source": [
        "from __future__ import print_function, division\n",
        "\n",
        "import torch\n",
        "import torch.nn as nn\n",
        "import torch.optim as optim\n",
        "from torch.optim import lr_scheduler\n",
        "import numpy as np\n",
        "import torchvision\n",
        "from torchvision import datasets, models, transforms\n",
        "import matplotlib.pyplot as plt\n",
        "\n",
        "\n",
        "plt.ion()   # interactive mode"
      ],
      "execution_count": 0,
      "outputs": []
    },
    {
      "cell_type": "code",
      "metadata": {
        "id": "_bplfIp4l9TA",
        "colab_type": "code",
        "colab": {}
      },
      "source": [
        "transform = transforms.Compose([transforms.RandomHorizontalFlip(), transforms.ColorJitter(), transforms.Grayscale(num_output_channels=3),transforms.ToTensor(),transforms.Normalize((0.5, 0.5, 0.5), (0.5, 0.5, 0.5))]) \n",
        "\n",
        "trainset = torchvision.datasets.FashionMNIST(root='fashion-mnist-master', train=True, transform=transform,\n",
        "                                        download=True)\n",
        "trainloader = torch.utils.data.DataLoader(trainset, batch_size=8,\n",
        "                                          shuffle=True, num_workers=0)\n",
        "\n",
        "testset = torchvision.datasets.FashionMNIST(root='fashion-mnist-master', train=False, transform=transform,\n",
        "                                       download=False)\n",
        "testloader = torch.utils.data.DataLoader(testset, batch_size=8,\n",
        "                                         shuffle=False, num_workers=0)\n",
        "trainset1,validset = torch.utils.data.random_split(trainset, [50000,10000])\n",
        "trainloader1=torch.utils.data.DataLoader(trainset1, batch_size=8,shuffle=True, num_workers=0)\n",
        "validloader=torch.utils.data.DataLoader(validset, batch_size=8,shuffle=True, num_workers=0)\n",
        "\n",
        "classes = ('T-shirt/top','Trouser','Pullover','Dress','Coat','Sandal','Shirt','Sneaker','Bag','Ankle boot')\n",
        "device = torch.device(\"cuda:0\" if torch.cuda.is_available() else \"cpu\")\n"
      ],
      "execution_count": 0,
      "outputs": []
    },
    {
      "cell_type": "code",
      "metadata": {
        "id": "aIhiWtfzFvn6",
        "colab_type": "code",
        "colab": {}
      },
      "source": [
        "torch.save({'trainset1': trainset1, 'validset': validset,'trainloader1': trainloader1, 'validloader': validloader,'testset': testset, 'testloader':testloader}, 'dataset.pth')"
      ],
      "execution_count": 0,
      "outputs": []
    },
    {
      "cell_type": "code",
      "metadata": {
        "id": "Cl_YXPofHPfE",
        "colab_type": "code",
        "colab": {}
      },
      "source": [
        "checkpoint = torch.load('dataset.pth')\n",
        "trainset1 = checkpoint['trainset1']\n",
        "validset = checkpoint['validset']\n",
        "trainloader1 = checkpoint['trainloader1']\n",
        "validloader =checkpoint['validloader']\n",
        "testset = checkpoint['testset']\n",
        "testloader =checkpoint['testloader']"
      ],
      "execution_count": 0,
      "outputs": []
    },
    {
      "cell_type": "code",
      "metadata": {
        "id": "z4yN9eJcI2Vw",
        "colab_type": "code",
        "colab": {}
      },
      "source": [
        "#!cp '/content/dataset.pth' '/content/drive/My Drive/dataset.pth'"
      ],
      "execution_count": 0,
      "outputs": []
    },
    {
      "cell_type": "code",
      "metadata": {
        "id": "z5_QgRLGBgKm",
        "colab_type": "code",
        "colab": {}
      },
      "source": [
        "device = torch.device(\"cuda:0\" if torch.cuda.is_available() else \"cpu\")"
      ],
      "execution_count": 0,
      "outputs": []
    },
    {
      "cell_type": "code",
      "metadata": {
        "id": "AiUD8r1mA-K0",
        "colab_type": "code",
        "outputId": "66607035-074f-40ba-bffc-050a9902a6d3",
        "colab": {
          "base_uri": "https://localhost:8080/",
          "height": 1000
        }
      },
      "source": [
        "model=models.mobilenet_v2(pretrained=True)\n",
        "model.classifier[1]=nn.Linear(1280,10)\n",
        "model=model.to(device)\n",
        "print(model)"
      ],
      "execution_count": 0,
      "outputs": [
        {
          "output_type": "stream",
          "text": [
            "MobileNetV2(\n",
            "  (features): Sequential(\n",
            "    (0): ConvBNReLU(\n",
            "      (0): Conv2d(3, 32, kernel_size=(3, 3), stride=(2, 2), padding=(1, 1), bias=False)\n",
            "      (1): BatchNorm2d(32, eps=1e-05, momentum=0.1, affine=True, track_running_stats=True)\n",
            "      (2): ReLU6(inplace)\n",
            "    )\n",
            "    (1): InvertedResidual(\n",
            "      (conv): Sequential(\n",
            "        (0): ConvBNReLU(\n",
            "          (0): Conv2d(32, 32, kernel_size=(3, 3), stride=(1, 1), padding=(1, 1), groups=32, bias=False)\n",
            "          (1): BatchNorm2d(32, eps=1e-05, momentum=0.1, affine=True, track_running_stats=True)\n",
            "          (2): ReLU6(inplace)\n",
            "        )\n",
            "        (1): Conv2d(32, 16, kernel_size=(1, 1), stride=(1, 1), bias=False)\n",
            "        (2): BatchNorm2d(16, eps=1e-05, momentum=0.1, affine=True, track_running_stats=True)\n",
            "      )\n",
            "    )\n",
            "    (2): InvertedResidual(\n",
            "      (conv): Sequential(\n",
            "        (0): ConvBNReLU(\n",
            "          (0): Conv2d(16, 96, kernel_size=(1, 1), stride=(1, 1), bias=False)\n",
            "          (1): BatchNorm2d(96, eps=1e-05, momentum=0.1, affine=True, track_running_stats=True)\n",
            "          (2): ReLU6(inplace)\n",
            "        )\n",
            "        (1): ConvBNReLU(\n",
            "          (0): Conv2d(96, 96, kernel_size=(3, 3), stride=(2, 2), padding=(1, 1), groups=96, bias=False)\n",
            "          (1): BatchNorm2d(96, eps=1e-05, momentum=0.1, affine=True, track_running_stats=True)\n",
            "          (2): ReLU6(inplace)\n",
            "        )\n",
            "        (2): Conv2d(96, 24, kernel_size=(1, 1), stride=(1, 1), bias=False)\n",
            "        (3): BatchNorm2d(24, eps=1e-05, momentum=0.1, affine=True, track_running_stats=True)\n",
            "      )\n",
            "    )\n",
            "    (3): InvertedResidual(\n",
            "      (conv): Sequential(\n",
            "        (0): ConvBNReLU(\n",
            "          (0): Conv2d(24, 144, kernel_size=(1, 1), stride=(1, 1), bias=False)\n",
            "          (1): BatchNorm2d(144, eps=1e-05, momentum=0.1, affine=True, track_running_stats=True)\n",
            "          (2): ReLU6(inplace)\n",
            "        )\n",
            "        (1): ConvBNReLU(\n",
            "          (0): Conv2d(144, 144, kernel_size=(3, 3), stride=(1, 1), padding=(1, 1), groups=144, bias=False)\n",
            "          (1): BatchNorm2d(144, eps=1e-05, momentum=0.1, affine=True, track_running_stats=True)\n",
            "          (2): ReLU6(inplace)\n",
            "        )\n",
            "        (2): Conv2d(144, 24, kernel_size=(1, 1), stride=(1, 1), bias=False)\n",
            "        (3): BatchNorm2d(24, eps=1e-05, momentum=0.1, affine=True, track_running_stats=True)\n",
            "      )\n",
            "    )\n",
            "    (4): InvertedResidual(\n",
            "      (conv): Sequential(\n",
            "        (0): ConvBNReLU(\n",
            "          (0): Conv2d(24, 144, kernel_size=(1, 1), stride=(1, 1), bias=False)\n",
            "          (1): BatchNorm2d(144, eps=1e-05, momentum=0.1, affine=True, track_running_stats=True)\n",
            "          (2): ReLU6(inplace)\n",
            "        )\n",
            "        (1): ConvBNReLU(\n",
            "          (0): Conv2d(144, 144, kernel_size=(3, 3), stride=(2, 2), padding=(1, 1), groups=144, bias=False)\n",
            "          (1): BatchNorm2d(144, eps=1e-05, momentum=0.1, affine=True, track_running_stats=True)\n",
            "          (2): ReLU6(inplace)\n",
            "        )\n",
            "        (2): Conv2d(144, 32, kernel_size=(1, 1), stride=(1, 1), bias=False)\n",
            "        (3): BatchNorm2d(32, eps=1e-05, momentum=0.1, affine=True, track_running_stats=True)\n",
            "      )\n",
            "    )\n",
            "    (5): InvertedResidual(\n",
            "      (conv): Sequential(\n",
            "        (0): ConvBNReLU(\n",
            "          (0): Conv2d(32, 192, kernel_size=(1, 1), stride=(1, 1), bias=False)\n",
            "          (1): BatchNorm2d(192, eps=1e-05, momentum=0.1, affine=True, track_running_stats=True)\n",
            "          (2): ReLU6(inplace)\n",
            "        )\n",
            "        (1): ConvBNReLU(\n",
            "          (0): Conv2d(192, 192, kernel_size=(3, 3), stride=(1, 1), padding=(1, 1), groups=192, bias=False)\n",
            "          (1): BatchNorm2d(192, eps=1e-05, momentum=0.1, affine=True, track_running_stats=True)\n",
            "          (2): ReLU6(inplace)\n",
            "        )\n",
            "        (2): Conv2d(192, 32, kernel_size=(1, 1), stride=(1, 1), bias=False)\n",
            "        (3): BatchNorm2d(32, eps=1e-05, momentum=0.1, affine=True, track_running_stats=True)\n",
            "      )\n",
            "    )\n",
            "    (6): InvertedResidual(\n",
            "      (conv): Sequential(\n",
            "        (0): ConvBNReLU(\n",
            "          (0): Conv2d(32, 192, kernel_size=(1, 1), stride=(1, 1), bias=False)\n",
            "          (1): BatchNorm2d(192, eps=1e-05, momentum=0.1, affine=True, track_running_stats=True)\n",
            "          (2): ReLU6(inplace)\n",
            "        )\n",
            "        (1): ConvBNReLU(\n",
            "          (0): Conv2d(192, 192, kernel_size=(3, 3), stride=(1, 1), padding=(1, 1), groups=192, bias=False)\n",
            "          (1): BatchNorm2d(192, eps=1e-05, momentum=0.1, affine=True, track_running_stats=True)\n",
            "          (2): ReLU6(inplace)\n",
            "        )\n",
            "        (2): Conv2d(192, 32, kernel_size=(1, 1), stride=(1, 1), bias=False)\n",
            "        (3): BatchNorm2d(32, eps=1e-05, momentum=0.1, affine=True, track_running_stats=True)\n",
            "      )\n",
            "    )\n",
            "    (7): InvertedResidual(\n",
            "      (conv): Sequential(\n",
            "        (0): ConvBNReLU(\n",
            "          (0): Conv2d(32, 192, kernel_size=(1, 1), stride=(1, 1), bias=False)\n",
            "          (1): BatchNorm2d(192, eps=1e-05, momentum=0.1, affine=True, track_running_stats=True)\n",
            "          (2): ReLU6(inplace)\n",
            "        )\n",
            "        (1): ConvBNReLU(\n",
            "          (0): Conv2d(192, 192, kernel_size=(3, 3), stride=(2, 2), padding=(1, 1), groups=192, bias=False)\n",
            "          (1): BatchNorm2d(192, eps=1e-05, momentum=0.1, affine=True, track_running_stats=True)\n",
            "          (2): ReLU6(inplace)\n",
            "        )\n",
            "        (2): Conv2d(192, 64, kernel_size=(1, 1), stride=(1, 1), bias=False)\n",
            "        (3): BatchNorm2d(64, eps=1e-05, momentum=0.1, affine=True, track_running_stats=True)\n",
            "      )\n",
            "    )\n",
            "    (8): InvertedResidual(\n",
            "      (conv): Sequential(\n",
            "        (0): ConvBNReLU(\n",
            "          (0): Conv2d(64, 384, kernel_size=(1, 1), stride=(1, 1), bias=False)\n",
            "          (1): BatchNorm2d(384, eps=1e-05, momentum=0.1, affine=True, track_running_stats=True)\n",
            "          (2): ReLU6(inplace)\n",
            "        )\n",
            "        (1): ConvBNReLU(\n",
            "          (0): Conv2d(384, 384, kernel_size=(3, 3), stride=(1, 1), padding=(1, 1), groups=384, bias=False)\n",
            "          (1): BatchNorm2d(384, eps=1e-05, momentum=0.1, affine=True, track_running_stats=True)\n",
            "          (2): ReLU6(inplace)\n",
            "        )\n",
            "        (2): Conv2d(384, 64, kernel_size=(1, 1), stride=(1, 1), bias=False)\n",
            "        (3): BatchNorm2d(64, eps=1e-05, momentum=0.1, affine=True, track_running_stats=True)\n",
            "      )\n",
            "    )\n",
            "    (9): InvertedResidual(\n",
            "      (conv): Sequential(\n",
            "        (0): ConvBNReLU(\n",
            "          (0): Conv2d(64, 384, kernel_size=(1, 1), stride=(1, 1), bias=False)\n",
            "          (1): BatchNorm2d(384, eps=1e-05, momentum=0.1, affine=True, track_running_stats=True)\n",
            "          (2): ReLU6(inplace)\n",
            "        )\n",
            "        (1): ConvBNReLU(\n",
            "          (0): Conv2d(384, 384, kernel_size=(3, 3), stride=(1, 1), padding=(1, 1), groups=384, bias=False)\n",
            "          (1): BatchNorm2d(384, eps=1e-05, momentum=0.1, affine=True, track_running_stats=True)\n",
            "          (2): ReLU6(inplace)\n",
            "        )\n",
            "        (2): Conv2d(384, 64, kernel_size=(1, 1), stride=(1, 1), bias=False)\n",
            "        (3): BatchNorm2d(64, eps=1e-05, momentum=0.1, affine=True, track_running_stats=True)\n",
            "      )\n",
            "    )\n",
            "    (10): InvertedResidual(\n",
            "      (conv): Sequential(\n",
            "        (0): ConvBNReLU(\n",
            "          (0): Conv2d(64, 384, kernel_size=(1, 1), stride=(1, 1), bias=False)\n",
            "          (1): BatchNorm2d(384, eps=1e-05, momentum=0.1, affine=True, track_running_stats=True)\n",
            "          (2): ReLU6(inplace)\n",
            "        )\n",
            "        (1): ConvBNReLU(\n",
            "          (0): Conv2d(384, 384, kernel_size=(3, 3), stride=(1, 1), padding=(1, 1), groups=384, bias=False)\n",
            "          (1): BatchNorm2d(384, eps=1e-05, momentum=0.1, affine=True, track_running_stats=True)\n",
            "          (2): ReLU6(inplace)\n",
            "        )\n",
            "        (2): Conv2d(384, 64, kernel_size=(1, 1), stride=(1, 1), bias=False)\n",
            "        (3): BatchNorm2d(64, eps=1e-05, momentum=0.1, affine=True, track_running_stats=True)\n",
            "      )\n",
            "    )\n",
            "    (11): InvertedResidual(\n",
            "      (conv): Sequential(\n",
            "        (0): ConvBNReLU(\n",
            "          (0): Conv2d(64, 384, kernel_size=(1, 1), stride=(1, 1), bias=False)\n",
            "          (1): BatchNorm2d(384, eps=1e-05, momentum=0.1, affine=True, track_running_stats=True)\n",
            "          (2): ReLU6(inplace)\n",
            "        )\n",
            "        (1): ConvBNReLU(\n",
            "          (0): Conv2d(384, 384, kernel_size=(3, 3), stride=(1, 1), padding=(1, 1), groups=384, bias=False)\n",
            "          (1): BatchNorm2d(384, eps=1e-05, momentum=0.1, affine=True, track_running_stats=True)\n",
            "          (2): ReLU6(inplace)\n",
            "        )\n",
            "        (2): Conv2d(384, 96, kernel_size=(1, 1), stride=(1, 1), bias=False)\n",
            "        (3): BatchNorm2d(96, eps=1e-05, momentum=0.1, affine=True, track_running_stats=True)\n",
            "      )\n",
            "    )\n",
            "    (12): InvertedResidual(\n",
            "      (conv): Sequential(\n",
            "        (0): ConvBNReLU(\n",
            "          (0): Conv2d(96, 576, kernel_size=(1, 1), stride=(1, 1), bias=False)\n",
            "          (1): BatchNorm2d(576, eps=1e-05, momentum=0.1, affine=True, track_running_stats=True)\n",
            "          (2): ReLU6(inplace)\n",
            "        )\n",
            "        (1): ConvBNReLU(\n",
            "          (0): Conv2d(576, 576, kernel_size=(3, 3), stride=(1, 1), padding=(1, 1), groups=576, bias=False)\n",
            "          (1): BatchNorm2d(576, eps=1e-05, momentum=0.1, affine=True, track_running_stats=True)\n",
            "          (2): ReLU6(inplace)\n",
            "        )\n",
            "        (2): Conv2d(576, 96, kernel_size=(1, 1), stride=(1, 1), bias=False)\n",
            "        (3): BatchNorm2d(96, eps=1e-05, momentum=0.1, affine=True, track_running_stats=True)\n",
            "      )\n",
            "    )\n",
            "    (13): InvertedResidual(\n",
            "      (conv): Sequential(\n",
            "        (0): ConvBNReLU(\n",
            "          (0): Conv2d(96, 576, kernel_size=(1, 1), stride=(1, 1), bias=False)\n",
            "          (1): BatchNorm2d(576, eps=1e-05, momentum=0.1, affine=True, track_running_stats=True)\n",
            "          (2): ReLU6(inplace)\n",
            "        )\n",
            "        (1): ConvBNReLU(\n",
            "          (0): Conv2d(576, 576, kernel_size=(3, 3), stride=(1, 1), padding=(1, 1), groups=576, bias=False)\n",
            "          (1): BatchNorm2d(576, eps=1e-05, momentum=0.1, affine=True, track_running_stats=True)\n",
            "          (2): ReLU6(inplace)\n",
            "        )\n",
            "        (2): Conv2d(576, 96, kernel_size=(1, 1), stride=(1, 1), bias=False)\n",
            "        (3): BatchNorm2d(96, eps=1e-05, momentum=0.1, affine=True, track_running_stats=True)\n",
            "      )\n",
            "    )\n",
            "    (14): InvertedResidual(\n",
            "      (conv): Sequential(\n",
            "        (0): ConvBNReLU(\n",
            "          (0): Conv2d(96, 576, kernel_size=(1, 1), stride=(1, 1), bias=False)\n",
            "          (1): BatchNorm2d(576, eps=1e-05, momentum=0.1, affine=True, track_running_stats=True)\n",
            "          (2): ReLU6(inplace)\n",
            "        )\n",
            "        (1): ConvBNReLU(\n",
            "          (0): Conv2d(576, 576, kernel_size=(3, 3), stride=(2, 2), padding=(1, 1), groups=576, bias=False)\n",
            "          (1): BatchNorm2d(576, eps=1e-05, momentum=0.1, affine=True, track_running_stats=True)\n",
            "          (2): ReLU6(inplace)\n",
            "        )\n",
            "        (2): Conv2d(576, 160, kernel_size=(1, 1), stride=(1, 1), bias=False)\n",
            "        (3): BatchNorm2d(160, eps=1e-05, momentum=0.1, affine=True, track_running_stats=True)\n",
            "      )\n",
            "    )\n",
            "    (15): InvertedResidual(\n",
            "      (conv): Sequential(\n",
            "        (0): ConvBNReLU(\n",
            "          (0): Conv2d(160, 960, kernel_size=(1, 1), stride=(1, 1), bias=False)\n",
            "          (1): BatchNorm2d(960, eps=1e-05, momentum=0.1, affine=True, track_running_stats=True)\n",
            "          (2): ReLU6(inplace)\n",
            "        )\n",
            "        (1): ConvBNReLU(\n",
            "          (0): Conv2d(960, 960, kernel_size=(3, 3), stride=(1, 1), padding=(1, 1), groups=960, bias=False)\n",
            "          (1): BatchNorm2d(960, eps=1e-05, momentum=0.1, affine=True, track_running_stats=True)\n",
            "          (2): ReLU6(inplace)\n",
            "        )\n",
            "        (2): Conv2d(960, 160, kernel_size=(1, 1), stride=(1, 1), bias=False)\n",
            "        (3): BatchNorm2d(160, eps=1e-05, momentum=0.1, affine=True, track_running_stats=True)\n",
            "      )\n",
            "    )\n",
            "    (16): InvertedResidual(\n",
            "      (conv): Sequential(\n",
            "        (0): ConvBNReLU(\n",
            "          (0): Conv2d(160, 960, kernel_size=(1, 1), stride=(1, 1), bias=False)\n",
            "          (1): BatchNorm2d(960, eps=1e-05, momentum=0.1, affine=True, track_running_stats=True)\n",
            "          (2): ReLU6(inplace)\n",
            "        )\n",
            "        (1): ConvBNReLU(\n",
            "          (0): Conv2d(960, 960, kernel_size=(3, 3), stride=(1, 1), padding=(1, 1), groups=960, bias=False)\n",
            "          (1): BatchNorm2d(960, eps=1e-05, momentum=0.1, affine=True, track_running_stats=True)\n",
            "          (2): ReLU6(inplace)\n",
            "        )\n",
            "        (2): Conv2d(960, 160, kernel_size=(1, 1), stride=(1, 1), bias=False)\n",
            "        (3): BatchNorm2d(160, eps=1e-05, momentum=0.1, affine=True, track_running_stats=True)\n",
            "      )\n",
            "    )\n",
            "    (17): InvertedResidual(\n",
            "      (conv): Sequential(\n",
            "        (0): ConvBNReLU(\n",
            "          (0): Conv2d(160, 960, kernel_size=(1, 1), stride=(1, 1), bias=False)\n",
            "          (1): BatchNorm2d(960, eps=1e-05, momentum=0.1, affine=True, track_running_stats=True)\n",
            "          (2): ReLU6(inplace)\n",
            "        )\n",
            "        (1): ConvBNReLU(\n",
            "          (0): Conv2d(960, 960, kernel_size=(3, 3), stride=(1, 1), padding=(1, 1), groups=960, bias=False)\n",
            "          (1): BatchNorm2d(960, eps=1e-05, momentum=0.1, affine=True, track_running_stats=True)\n",
            "          (2): ReLU6(inplace)\n",
            "        )\n",
            "        (2): Conv2d(960, 320, kernel_size=(1, 1), stride=(1, 1), bias=False)\n",
            "        (3): BatchNorm2d(320, eps=1e-05, momentum=0.1, affine=True, track_running_stats=True)\n",
            "      )\n",
            "    )\n",
            "    (18): ConvBNReLU(\n",
            "      (0): Conv2d(320, 1280, kernel_size=(1, 1), stride=(1, 1), bias=False)\n",
            "      (1): BatchNorm2d(1280, eps=1e-05, momentum=0.1, affine=True, track_running_stats=True)\n",
            "      (2): ReLU6(inplace)\n",
            "    )\n",
            "  )\n",
            "  (classifier): Sequential(\n",
            "    (0): Dropout(p=0.2)\n",
            "    (1): Linear(in_features=1280, out_features=10, bias=True)\n",
            "  )\n",
            ")\n"
          ],
          "name": "stdout"
        }
      ]
    },
    {
      "cell_type": "markdown",
      "metadata": {
        "id": "roMRJJroDGoL",
        "colab_type": "text"
      },
      "source": [
        "#scheduler stepLR stepsize=5, gamma=0.1"
      ]
    },
    {
      "cell_type": "code",
      "metadata": {
        "id": "o8eNEwTTmwpa",
        "colab_type": "code",
        "colab": {}
      },
      "source": [
        "optimizer=optim.SGD(model.parameters(), lr=0.01)\n",
        "#optimizer = torch.optim.Adam(model.parameters(), lr=0.001)\n",
        "loss_fn = nn.CrossEntropyLoss()\n",
        "#loss_fn = nn.NLLLoss()\n",
        "exp_lr_scheduler = lr_scheduler.StepLR(optimizer, step_size=5, gamma=0.1)"
      ],
      "execution_count": 0,
      "outputs": []
    },
    {
      "cell_type": "code",
      "metadata": {
        "id": "Jab2VEfspF2M",
        "colab_type": "code",
        "colab": {}
      },
      "source": [
        "mean_train_losses = []\n",
        "mean_valid_losses = []\n",
        "valid_acc_list = []\n",
        "train_acc_list=[]\n",
        "test_acc_list=[]\n",
        "start_epoch=0\n",
        "e=5"
      ],
      "execution_count": 0,
      "outputs": []
    },
    {
      "cell_type": "code",
      "metadata": {
        "id": "8RLDuyi8pMw2",
        "colab_type": "code",
        "outputId": "c21328e4-0bbc-4999-ccdf-69bbba39af22",
        "colab": {
          "base_uri": "https://localhost:8080/",
          "height": 1000
        }
      },
      "source": [
        "for epoch in range(start_epoch,25):\n",
        "    #exp_lr_scheduler.step()\n",
        "    model.train()\n",
        "    \n",
        "    train_losses = []\n",
        "    valid_losses = []\n",
        "    model.eval()\n",
        "    correct_t = 0\n",
        "    total_t = 0\n",
        "    for i, data in enumerate(trainloader1):\n",
        "        images,labels=data\n",
        "        images,labels=images.to(device),labels.to(device)\n",
        "        \n",
        "        optimizer.zero_grad()\n",
        "        \n",
        "        outputs = model(images)\n",
        "        loss = loss_fn(outputs, labels)\n",
        "        loss.backward()\n",
        "        optimizer.step()\n",
        "        \n",
        "        train_losses.append(loss.item())\n",
        "        \n",
        "        _, predicted_t = torch.max(outputs.data, 1)\n",
        "        correct_t += (predicted_t == labels).sum().item()\n",
        "        total_t += labels.size(0)\n",
        "        \n",
        "        if (i * 200) % (200 * 200) == 0:\n",
        "            print(i*10, '/ 50000')\n",
        "            \n",
        "    model.eval()\n",
        "    correct_v = 0\n",
        "    total_v = 0\n",
        "    with torch.no_grad():\n",
        "        for i, data in enumerate(validloader):\n",
        "            images,labels=data\n",
        "            images,labels=images.to(device),labels.to(device)\n",
        "            outputs = model(images)\n",
        "            loss = loss_fn(outputs, labels)\n",
        "            \n",
        "            valid_losses.append(loss.item())\n",
        "            \n",
        "            _, predicted_v = torch.max(outputs.data, 1)\n",
        "            correct_v += (predicted_v == labels).sum().item()\n",
        "            total_v += labels.size(0)\n",
        "    correct_te = 0\n",
        "    total_te = 0\n",
        "    with torch.no_grad():\n",
        "        for i, data in enumerate(testloader):\n",
        "            images,labels=data\n",
        "            images,labels=images.to(device),labels.to(device)\n",
        "            outputs = model(images)\n",
        "            _, predicted_v = torch.max(outputs.data, 1)\n",
        "            correct_te += (predicted_v == labels).sum().item()\n",
        "            total_te += labels.size(0)\n",
        "    accuracy_te = 100*correct_te/total_te\n",
        "    test_acc_list.append(accuracy_te)\n",
        "                \n",
        "    m_t_l=np.mean(train_losses)\n",
        "    m_v_l=np.mean(valid_losses)\n",
        "            \n",
        "    mean_train_losses.append(m_t_l)\n",
        "    mean_valid_losses.append(m_v_l)\n",
        "    \n",
        "    accuracy_v = 100*correct_v/total_v\n",
        "    accuracy_t = 100*correct_t/total_t\n",
        "    valid_acc_list.append(accuracy_v)\n",
        "    train_acc_list.append(accuracy_t)\n",
        "    \n",
        "    \n",
        "        #save\n",
        "    torch.save({'epoch': epoch+1, 'model_state_dict': model.state_dict(),'optimizer_state_dict': optimizer.state_dict(), 'train loss': mean_train_losses,'train acc': train_acc_list, 'valid loss':mean_valid_losses, 'valid acc': valid_acc_list}, 'mo.pth')\n",
        "    print('epoch : {}, train loss : {:.4f}, train acc : {:.2f}% valid loss : {:.4f}, valid acc : {:.2f}%, test acc : {:.2f}%'.format(epoch+1, m_t_l, accuracy_t, m_v_l, accuracy_v, accuracy_te))\n",
        "print('best val acc: {0}, best train loss: {1}, test acc mean: {2}'.format(np.max(valid_acc_list),np.min(mean_train_losses),np.mean(test_acc_list)))"
      ],
      "execution_count": 0,
      "outputs": [
        {
          "output_type": "stream",
          "text": [
            "0 / 50000\n",
            "2000 / 50000\n",
            "epoch : 1, train loss : 0.8859, train acc : 67.52% valid loss : 0.3481, valid acc : 87.09%, test acc : 87.21%\n",
            "0 / 50000\n",
            "2000 / 50000\n",
            "epoch : 2, train loss : 0.2872, train acc : 89.45% valid loss : 0.3371, valid acc : 87.71%, test acc : 87.65%\n",
            "0 / 50000\n",
            "2000 / 50000\n",
            "epoch : 3, train loss : 0.2338, train acc : 91.40% valid loss : 0.2442, valid acc : 91.20%, test acc : 91.22%\n",
            "0 / 50000\n",
            "2000 / 50000\n",
            "epoch : 4, train loss : 0.2056, train acc : 92.45% valid loss : 0.2382, valid acc : 91.24%, test acc : 91.20%\n",
            "0 / 50000\n",
            "2000 / 50000\n",
            "epoch : 5, train loss : 0.1903, train acc : 92.95% valid loss : 0.2385, valid acc : 91.13%, test acc : 91.31%\n",
            "0 / 50000\n",
            "2000 / 50000\n",
            "epoch : 6, train loss : 0.1719, train acc : 93.64% valid loss : 0.2184, valid acc : 92.22%, test acc : 92.27%\n",
            "0 / 50000\n",
            "2000 / 50000\n",
            "epoch : 7, train loss : 0.1588, train acc : 94.20% valid loss : 0.2317, valid acc : 91.44%, test acc : 91.65%\n",
            "0 / 50000\n",
            "2000 / 50000\n",
            "epoch : 8, train loss : 0.1506, train acc : 94.41% valid loss : 0.1915, valid acc : 93.02%, test acc : 92.90%\n",
            "0 / 50000\n",
            "2000 / 50000\n",
            "epoch : 9, train loss : 0.1355, train acc : 95.03% valid loss : 0.2006, valid acc : 92.89%, test acc : 93.21%\n",
            "0 / 50000\n",
            "2000 / 50000\n",
            "epoch : 10, train loss : 0.1311, train acc : 95.19% valid loss : 0.2215, valid acc : 92.72%, test acc : 92.60%\n",
            "0 / 50000\n",
            "2000 / 50000\n",
            "epoch : 11, train loss : 0.1201, train acc : 95.60% valid loss : 0.1906, valid acc : 93.12%, test acc : 93.00%\n",
            "0 / 50000\n",
            "2000 / 50000\n",
            "epoch : 12, train loss : 0.1133, train acc : 95.80% valid loss : 0.1942, valid acc : 93.55%, test acc : 93.32%\n",
            "0 / 50000\n",
            "2000 / 50000\n",
            "epoch : 13, train loss : 0.1050, train acc : 96.13% valid loss : 0.1979, valid acc : 93.53%, test acc : 93.45%\n",
            "0 / 50000\n",
            "2000 / 50000\n",
            "epoch : 14, train loss : 0.0984, train acc : 96.38% valid loss : 0.2819, valid acc : 91.17%, test acc : 91.26%\n",
            "0 / 50000\n",
            "2000 / 50000\n",
            "epoch : 15, train loss : 0.0935, train acc : 96.52% valid loss : 0.2019, valid acc : 93.12%, test acc : 93.01%\n",
            "0 / 50000\n",
            "2000 / 50000\n",
            "epoch : 16, train loss : 0.0842, train acc : 96.91% valid loss : 0.2075, valid acc : 93.15%, test acc : 92.73%\n",
            "0 / 50000\n",
            "2000 / 50000\n",
            "epoch : 17, train loss : 0.0778, train acc : 97.12% valid loss : 0.2285, valid acc : 93.05%, test acc : 93.07%\n",
            "0 / 50000\n",
            "2000 / 50000\n",
            "epoch : 18, train loss : 0.0713, train acc : 97.37% valid loss : 0.2219, valid acc : 93.16%, test acc : 93.38%\n",
            "0 / 50000\n",
            "2000 / 50000\n",
            "epoch : 19, train loss : 0.0673, train acc : 97.49% valid loss : 0.2091, valid acc : 93.48%, test acc : 93.53%\n",
            "0 / 50000\n",
            "2000 / 50000\n",
            "epoch : 20, train loss : 0.0645, train acc : 97.63% valid loss : 0.2199, valid acc : 93.28%, test acc : 93.16%\n",
            "0 / 50000\n",
            "2000 / 50000\n",
            "epoch : 21, train loss : 0.0600, train acc : 97.89% valid loss : 0.2457, valid acc : 91.91%, test acc : 91.84%\n",
            "0 / 50000\n",
            "2000 / 50000\n",
            "epoch : 22, train loss : 0.0539, train acc : 98.07% valid loss : 0.2625, valid acc : 92.41%, test acc : 92.24%\n",
            "0 / 50000\n",
            "2000 / 50000\n",
            "epoch : 23, train loss : 0.0490, train acc : 98.27% valid loss : 0.2216, valid acc : 93.71%, test acc : 93.75%\n",
            "0 / 50000\n",
            "2000 / 50000\n",
            "epoch : 24, train loss : 0.0429, train acc : 98.51% valid loss : 0.2288, valid acc : 93.18%, test acc : 93.18%\n",
            "0 / 50000\n",
            "2000 / 50000\n",
            "epoch : 25, train loss : 0.0375, train acc : 98.69% valid loss : 0.2547, valid acc : 93.08%, test acc : 93.21%\n",
            "best val acc: 93.71, best train loss: 0.03745462129945341, test acc mean: 92.21400000000001\n"
          ],
          "name": "stdout"
        }
      ]
    },
    {
      "cell_type": "code",
      "metadata": {
        "id": "FrSmIHmjqzKP",
        "colab_type": "code",
        "colab": {}
      },
      "source": [
        "checkpoint = torch.load('mo.pth')\n",
        "model.load_state_dict(checkpoint['model_state_dict'])\n",
        "optimizer.load_state_dict(checkpoint['optimizer_state_dict'])\n",
        "start_epoch = checkpoint['epoch']\n",
        "mean_train_losses = checkpoint['train loss']\n",
        "train_acc_list=checkpoint['train acc']\n",
        "mean_valid_losses = checkpoint['valid loss']\n",
        "valid_acc_list=checkpoint['valid acc']"
      ],
      "execution_count": 0,
      "outputs": []
    },
    {
      "cell_type": "code",
      "metadata": {
        "id": "k73blnLoztup",
        "colab_type": "code",
        "outputId": "2fc7e493-f0a3-4284-f2f7-45c029ea0bd9",
        "colab": {
          "base_uri": "https://localhost:8080/",
          "height": 612
        }
      },
      "source": [
        "fig, (ax1, ax2) = plt.subplots(nrows=1, ncols=2, figsize=(15, 10))\n",
        "ax1.plot(mean_train_losses, label='train')\n",
        "ax1.plot(mean_valid_losses, label='valid')\n",
        "lines, labels = ax1.get_legend_handles_labels()\n",
        "ax1.legend(lines, labels, loc='best')\n",
        "ax2.plot(valid_acc_list, label='valid acc')\n",
        "ax2.plot(train_acc_list, label='train acc')\n",
        "lines, labels = ax2.get_legend_handles_labels()\n",
        "ax2.legend(lines, labels, loc='best')"
      ],
      "execution_count": 0,
      "outputs": [
        {
          "output_type": "execute_result",
          "data": {
            "text/plain": [
              "<matplotlib.legend.Legend at 0x7f57611e5ef0>"
            ]
          },
          "metadata": {
            "tags": []
          },
          "execution_count": 35
        },
        {
          "output_type": "display_data",
          "data": {
            "image/png": "[encoded data removed]",
            "text/plain": [
              "<Figure size 1080x720 with 2 Axes>"
            ]
          },
          "metadata": {
            "tags": []
          }
        }
      ]
    },
    {
      "cell_type": "code",
      "metadata": {
        "id": "Dp_XH6OupZUg",
        "colab_type": "code",
        "outputId": "13dd307d-073b-4fb9-c369-77e497e1f357",
        "colab": {
          "base_uri": "https://localhost:8080/",
          "height": 125
        }
      },
      "source": [
        "# Run this cell to mount your Google Drive.\n",
        "from google.colab import drive\n",
        "drive.mount('/content/drive')"
      ],
      "execution_count": 0,
      "outputs": [
        {
          "output_type": "stream",
          "text": [
            "Go to this URL in a browser: https://accounts.google.com/o/oauth2/auth?client_id=947318989803-6bn6qk8qdgf4n4g3pfee6491hc0brc4i.apps.googleusercontent.com&redirect_uri=urn%3Aietf%3Awg%3Aoauth%3A2.0%3Aoob&scope=email%20https%3A%2F%2Fwww.googleapis.com%2Fauth%2Fdocs.test%20https%3A%2F%2Fwww.googleapis.com%2Fauth%2Fdrive%20https%3A%2F%2Fwww.googleapis.com%2Fauth%2Fdrive.photos.readonly%20https%3A%2F%2Fwww.googleapis.com%2Fauth%2Fpeopleapi.readonly&response_type=code\n",
            "\n",
            "Enter your authorization code:\n",
            "··········\n",
            "Mounted at /content/drive\n"
          ],
          "name": "stdout"
        }
      ]
    },
    {
      "cell_type": "code",
      "metadata": {
        "id": "DbrAZDyYtAjS",
        "colab_type": "code",
        "colab": {}
      },
      "source": [
        "!cp '/content/mo.pth' '/content/drive/My Drive/Colab Notebooks/mo.pth'"
      ],
      "execution_count": 0,
      "outputs": []
    },
    {
      "cell_type": "code",
      "metadata": {
        "id": "3032KSDstN0d",
        "colab_type": "code",
        "colab": {}
      },
      "source": [
        "!cp '/content/mo1.pth' '/content/drive/My Drive/Colab Notebooks/mo1.pth'"
      ],
      "execution_count": 0,
      "outputs": []
    },
    {
      "cell_type": "code",
      "metadata": {
        "id": "jhQR7gBWtjef",
        "colab_type": "code",
        "colab": {}
      },
      "source": [
        "!cp '/content/mo2.pth' '/content/drive/My Drive/Colab Notebooks/mo2.pth'"
      ],
      "execution_count": 0,
      "outputs": []
    },
    {
      "cell_type": "markdown",
      "metadata": {
        "id": "4FNuYrMO1Rnp",
        "colab_type": "text"
      },
      "source": [
        "#scheduler mulai dari epoch ke-6"
      ]
    },
    {
      "cell_type": "code",
      "metadata": {
        "id": "OWBPN7nmGEaW",
        "colab_type": "code",
        "colab": {}
      },
      "source": [
        "optimizer1=optim.SGD(model.parameters(), lr=0.0001)\n",
        "#optimizer1 = torch.optim.Adam(model.parameters(), lr=0.001)\n",
        "loss_fn1 = nn.CrossEntropyLoss()\n",
        "#loss_fn1 = nn.NLLLoss()\n",
        "#exp_lr_scheduler = lr_scheduler.StepLR(optimizer1, step_size=10, gamma=0.1)"
      ],
      "execution_count": 0,
      "outputs": []
    },
    {
      "cell_type": "code",
      "metadata": {
        "id": "WRFwqVreLzu7",
        "colab_type": "code",
        "colab": {}
      },
      "source": [
        "mean_train_losses1 = []\n",
        "mean_valid_losses1 = []\n",
        "valid_acc_list1 = []\n",
        "train_acc_list1=[]\n",
        "test_acc_list1=[]\n",
        "start_epoch1=0\n",
        "e1=5\n",
        "val_acc_i=[]\n",
        "train_acc_i=[]"
      ],
      "execution_count": 0,
      "outputs": []
    },
    {
      "cell_type": "code",
      "metadata": {
        "id": "_k6gwTyCHBqo",
        "colab_type": "code",
        "outputId": "149ac9b8-6e88-4a54-e0c1-0c13c2eec3a1",
        "colab": {
          "base_uri": "https://localhost:8080/",
          "height": 923
        }
      },
      "source": [
        "for epoch in range(start_epoch1,40):\n",
        "    if epoch>5:\n",
        "        scheduler = lr_scheduler.CyclicLR(optimizer1, base_lr=0.0001, max_lr=0.0006, step_size_up=9000)\n",
        "        scheduler.step()\n",
        "    model.train()\n",
        "    \n",
        "    train_losses = []\n",
        "    valid_losses = []\n",
        "    model.eval()\n",
        "    correct_t = 0\n",
        "    total_t = 0\n",
        "    for i, data in enumerate(trainloader1):\n",
        "        images,labels=data\n",
        "        images,labels=images.to(device),labels.to(device)\n",
        "        \n",
        "        optimizer1.zero_grad()\n",
        "        \n",
        "        outputs = model(images)\n",
        "        loss = loss_fn1(outputs, labels)\n",
        "        loss.backward()\n",
        "        optimizer1.step()\n",
        "        \n",
        "        train_losses.append(loss.item())\n",
        "        \n",
        "        _, predicted_t = torch.max(outputs.data, 1)\n",
        "        correct_t += (predicted_t == labels).sum().item()\n",
        "        total_t += labels.size(0)\n",
        "        train_acc_i.append(correct_t/total_t)\n",
        "        if (i * 2000) % (2000 * 2000) == 0:\n",
        "            print(i*10, '/ 50000')\n",
        "            \n",
        "    model.eval()\n",
        "    correct_v = 0\n",
        "    total_v = 0\n",
        "    with torch.no_grad():\n",
        "        for i, data in enumerate(validloader):\n",
        "            images,labels=data\n",
        "            images,labels=images.to(device),labels.to(device)\n",
        "            outputs = model(images)\n",
        "            loss = loss_fn1(outputs, labels)\n",
        "            \n",
        "            valid_losses.append(loss.item())\n",
        "            \n",
        "            _, predicted_v = torch.max(outputs.data, 1)\n",
        "            correct_v += (predicted_v == labels).sum().item()\n",
        "            total_v += labels.size(0)\n",
        "            val_acc_i.append(correct_v/total_v)\n",
        "                \n",
        "    m_t_l=np.mean(train_losses)\n",
        "    m_v_l=np.mean(valid_losses)\n",
        "            \n",
        "    mean_train_losses1.append(m_t_l)\n",
        "    mean_valid_losses1.append(m_v_l)\n",
        "    \n",
        "    accuracy_v = 100*correct_v/total_v\n",
        "    accuracy_t = 100*correct_t/total_t\n",
        "    valid_acc_list1.append(accuracy_v)\n",
        "    train_acc_list1.append(accuracy_t)\n",
        "    \n",
        "    \n",
        "        #save\n",
        "    torch.save({'epoch': epoch+1, 'model_state_dict': model.state_dict(),'optimizer_state_dict': optimizer1.state_dict(), 'train loss': mean_train_losses1,'train acc': train_acc_list1, 'valid loss':mean_valid_losses1, 'valid acc': valid_acc_list1}, 'mo1.pth')\n",
        "    print('epoch : {}, train loss : {:.4f}, train acc : {:.2f}% valid loss : {:.4f}, valid acc : {:.2f}%'.format(epoch+1, m_t_l, accuracy_t, m_v_l, accuracy_v))\n",
        "b_val_acc1=np.max(valid_acc_list1)\n",
        "b_val_loss1=np.min(mean_valid_losses1)\n",
        "b_train_acc1=np.max(train_acc_list1)\n",
        "b_train_loss1=np.min(mean_train_losses1)\n",
        "torch.save({'best val acc':b_val_acc1,'best val loss':b_val_loss1,'best train acc':b_train_acc1,'best train loss':b_train_loss1},'bestm.pth')\n",
        "print('best val acc: {0}, best train loss: {1}'.format(np.max(valid_acc_list1),np.min(mean_train_losses1)))"
      ],
      "execution_count": 0,
      "outputs": [
        {
          "output_type": "stream",
          "text": [
            "0 / 50000\n",
            "20000 / 50000\n",
            "40000 / 50000\n",
            "60000 / 50000\n",
            "epoch : 31, train loss : 0.1054, train acc : 96.10% valid loss : 0.2443, valid acc : 92.21%\n",
            "0 / 50000\n",
            "20000 / 50000\n",
            "40000 / 50000\n",
            "60000 / 50000\n",
            "epoch : 32, train loss : 0.1058, train acc : 95.95% valid loss : 0.2701, valid acc : 91.91%\n",
            "0 / 50000\n",
            "20000 / 50000\n",
            "40000 / 50000\n",
            "60000 / 50000\n",
            "epoch : 33, train loss : 0.0993, train acc : 96.33% valid loss : 0.2698, valid acc : 91.65%\n",
            "0 / 50000\n",
            "20000 / 50000\n",
            "40000 / 50000\n",
            "60000 / 50000\n",
            "epoch : 34, train loss : 0.0980, train acc : 96.20% valid loss : 0.2736, valid acc : 91.91%\n",
            "0 / 50000\n",
            "20000 / 50000\n",
            "40000 / 50000\n",
            "60000 / 50000\n",
            "epoch : 35, train loss : 0.0946, train acc : 96.39% valid loss : 0.2501, valid acc : 92.32%\n",
            "0 / 50000\n",
            "20000 / 50000\n",
            "40000 / 50000\n",
            "60000 / 50000\n",
            "epoch : 36, train loss : 0.0905, train acc : 96.64% valid loss : 0.2610, valid acc : 92.27%\n",
            "0 / 50000\n",
            "20000 / 50000\n",
            "40000 / 50000\n",
            "60000 / 50000\n",
            "epoch : 37, train loss : 0.0888, train acc : 96.73% valid loss : 0.2754, valid acc : 92.14%\n",
            "0 / 50000\n",
            "20000 / 50000\n",
            "40000 / 50000\n",
            "60000 / 50000\n",
            "epoch : 38, train loss : 0.0881, train acc : 96.70% valid loss : 0.2512, valid acc : 92.47%\n",
            "0 / 50000\n",
            "20000 / 50000\n",
            "40000 / 50000\n",
            "60000 / 50000\n",
            "epoch : 39, train loss : 0.0831, train acc : 96.90% valid loss : 0.2601, valid acc : 92.94%\n",
            "0 / 50000\n",
            "20000 / 50000\n",
            "40000 / 50000\n",
            "60000 / 50000\n",
            "epoch : 40, train loss : 0.0823, train acc : 96.95% valid loss : 0.2713, valid acc : 92.23%\n",
            "best val acc: 92.94, best train loss: 0.08230501614809037\n"
          ],
          "name": "stdout"
        }
      ]
    },
    {
      "cell_type": "code",
      "metadata": {
        "id": "rvWUMVpxGSF5",
        "colab_type": "code",
        "outputId": "4bf1b3c8-2a75-47ac-c4dd-13ef7c19ad94",
        "colab": {
          "base_uri": "https://localhost:8080/",
          "height": 612
        }
      },
      "source": [
        "fig, (ax1, ax2) = plt.subplots(nrows=1, ncols=2, figsize=(15, 10))\n",
        "ax1.plot(train_losses, label='train loss')\n",
        "ax1.plot(valid_losses, label='valid loss')\n",
        "lines, labels = ax1.get_legend_handles_labels()\n",
        "ax1.legend(lines, labels, loc='best')\n",
        "ax2.plot(train_acc_i, label='train acc')\n",
        "ax2.plot(val_acc_i, label='valid acc')\n",
        "lines, labels = ax2.get_legend_handles_labels()\n",
        "ax2.legend(lines, labels, loc='best')"
      ],
      "execution_count": 0,
      "outputs": [
        {
          "output_type": "execute_result",
          "data": {
            "text/plain": [
              "<matplotlib.legend.Legend at 0x7f5b9bd2cc50>"
            ]
          },
          "metadata": {
            "tags": []
          },
          "execution_count": 83
        },
        {
          "output_type": "display_data",
          "data": {
            "image/png": "[encoded data removed]",
            "text/plain": [
              "<Figure size 1080x720 with 2 Axes>"
            ]
          },
          "metadata": {
            "tags": []
          }
        }
      ]
    },
    {
      "cell_type": "code",
      "metadata": {
        "id": "Om6KZslzWc8c",
        "colab_type": "code",
        "colab": {}
      },
      "source": [
        "checkpoint = torch.load('mo1.pth')\n",
        "model.load_state_dict(checkpoint['model_state_dict'])\n",
        "optimizer1.load_state_dict(checkpoint['optimizer_state_dict'])\n",
        "start_epoch1 = checkpoint['epoch']\n",
        "mean_train_losses1 = checkpoint['train loss']\n",
        "train_acc_list1=checkpoint['train acc']\n",
        "mean_valid_losses1 = checkpoint['valid loss']\n",
        "valid_acc_list1=checkpoint['valid acc']"
      ],
      "execution_count": 0,
      "outputs": []
    },
    {
      "cell_type": "code",
      "metadata": {
        "id": "gupO2MJRB7R2",
        "colab_type": "code",
        "colab": {}
      },
      "source": [
        "#!cp '/content/drive/My Drive/mo1.pth' '/content/mo1.pth'"
      ],
      "execution_count": 0,
      "outputs": []
    },
    {
      "cell_type": "code",
      "metadata": {
        "id": "GkBj3F6Hpwyc",
        "colab_type": "code",
        "colab": {}
      },
      "source": [
        "checkpoint = torch.load('bestm.pth')\n",
        "b_val_acc1=checkpoint['best val acc']\n",
        "b_val_loss1=checkpoint['best val loss']\n",
        "b_train_acc1=checkpoint['best train acc']\n",
        "b_train_loss1=checkpoint['best train loss']"
      ],
      "execution_count": 0,
      "outputs": []
    },
    {
      "cell_type": "code",
      "metadata": {
        "id": "WfX6hzj3NrI0",
        "colab_type": "code",
        "outputId": "0987b7e4-48fe-4002-c201-2484b5d731a7",
        "colab": {
          "base_uri": "https://localhost:8080/",
          "height": 612
        }
      },
      "source": [
        "fig, (ax1, ax2) = plt.subplots(nrows=1, ncols=2, figsize=(15, 10))\n",
        "ax1.plot(mean_train_losses1, label='train loss')\n",
        "ax1.plot(mean_valid_losses1, label='valid loss')\n",
        "lines, labels = ax1.get_legend_handles_labels()\n",
        "ax1.legend(lines, labels, loc='best')\n",
        "ax2.plot(train_acc_list1, label='train acc')\n",
        "ax2.plot(valid_acc_list1, label='valid acc')\n",
        "lines, labels = ax2.get_legend_handles_labels()\n",
        "ax2.legend(lines, labels, loc='best')"
      ],
      "execution_count": 0,
      "outputs": [
        {
          "output_type": "execute_result",
          "data": {
            "text/plain": [
              "<matplotlib.legend.Legend at 0x7f5b96f89780>"
            ]
          },
          "metadata": {
            "tags": []
          },
          "execution_count": 86
        },
        {
          "output_type": "display_data",
          "data": {
            "image/png": "[encoded data removed]",
            "text/plain": [
              "<Figure size 1080x720 with 2 Axes>"
            ]
          },
          "metadata": {
            "tags": []
          }
        }
      ]
    },
    {
      "cell_type": "code",
      "metadata": {
        "id": "h1kGULAanrfK",
        "colab_type": "code",
        "outputId": "c2948051-10e7-478c-fff3-d2a6054b7c35",
        "colab": {
          "base_uri": "https://localhost:8080/",
          "height": 34
        }
      },
      "source": [
        "correct_te = 0\n",
        "total_te = 0\n",
        "with torch.no_grad():\n",
        "    for i, data in enumerate(testloader):\n",
        "        images,labels=data\n",
        "        images,labels=images.to(device),labels.to(device)\n",
        "        outputs = model(images)\n",
        "        _, predicted_v = torch.max(outputs.data, 1)\n",
        "        correct_te += (predicted_v == labels).sum().item()\n",
        "        total_te += labels.size(0)\n",
        "accuracy_te = 100*correct_te/total_te\n",
        "print(accuracy_te)"
      ],
      "execution_count": 0,
      "outputs": [
        {
          "output_type": "stream",
          "text": [
            "92.16\n"
          ],
          "name": "stdout"
        }
      ]
    },
    {
      "cell_type": "markdown",
      "metadata": {
        "id": "xOPsLldmciSh",
        "colab_type": "text"
      },
      "source": [
        "#scheduler di depan"
      ]
    },
    {
      "cell_type": "code",
      "metadata": {
        "id": "vWGIWZgCv_bo",
        "colab_type": "code",
        "colab": {}
      },
      "source": [
        "!cp '/content/drive/My Drive/mo2.pth' '/content/mo2.pth'"
      ],
      "execution_count": 0,
      "outputs": []
    },
    {
      "cell_type": "code",
      "metadata": {
        "id": "faU-Z2BMclBz",
        "colab_type": "code",
        "colab": {}
      },
      "source": [
        "optimizer2=optim.SGD(model.parameters(), lr=0.001)\n",
        "#optimizer1 = torch.optim.Adam(model.parameters(), lr=0.001)\n",
        "loss_fn2 = nn.CrossEntropyLoss()\n",
        "#scheduler2 = lr_scheduler.CyclicLR(optimizer1, base_lr=0.0001, max_lr=0.0006, step_size_up=18750)\n",
        "scheduler2 = lr_scheduler.CyclicLR(optimizer1, base_lr=0.001, max_lr=0.006, step_size_up=12500)"
      ],
      "execution_count": 0,
      "outputs": []
    },
    {
      "cell_type": "code",
      "metadata": {
        "id": "xYvDqOFiFP-Q",
        "colab_type": "code",
        "colab": {}
      },
      "source": [
        "mean_train_losses2 = []\n",
        "mean_valid_losses2 = []\n",
        "valid_acc_list2 = []\n",
        "train_acc_list2=[]\n",
        "test_acc_list2=[]\n",
        "start_epoch2=0\n",
        "e2=5"
      ],
      "execution_count": 0,
      "outputs": []
    },
    {
      "cell_type": "code",
      "metadata": {
        "id": "lsJ3Jbd9FViL",
        "colab_type": "code",
        "outputId": "1f3d47f7-9f58-4e5e-8df7-29eea4cdff39",
        "colab": {
          "base_uri": "https://localhost:8080/",
          "height": 390
        }
      },
      "source": [
        "for epoch in range(start_epoch2,25):\n",
        "    scheduler2.step()\n",
        "    model.train()\n",
        "    \n",
        "    train_losses = []\n",
        "    valid_losses = []\n",
        "    model.eval()\n",
        "    correct_t = 0\n",
        "    total_t = 0\n",
        "    for i, data in enumerate(trainloader1):\n",
        "        images,labels=data\n",
        "        images,labels=images.to(device),labels.to(device)\n",
        "        \n",
        "        optimizer2.zero_grad()\n",
        "        \n",
        "        outputs = model(images)\n",
        "        loss = loss_fn2(outputs, labels)\n",
        "        loss.backward()\n",
        "        optimizer2.step()\n",
        "        \n",
        "        train_losses.append(loss.item())\n",
        "        \n",
        "        _, predicted_t = torch.max(outputs.data, 1)\n",
        "        correct_t += (predicted_t == labels).sum().item()\n",
        "        total_t += labels.size(0)\n",
        "        \n",
        "        if (i * 2100) % (2100 * 2100) == 0:\n",
        "            print(i*10, '/ 50000')\n",
        "            \n",
        "    model.eval()\n",
        "    correct_v = 0\n",
        "    total_v = 0\n",
        "    with torch.no_grad():\n",
        "        for i, data in enumerate(validloader):\n",
        "            images,labels=data\n",
        "            images,labels=images.to(device),labels.to(device)\n",
        "            outputs = model(images)\n",
        "            loss = loss_fn2(outputs, labels)\n",
        "            \n",
        "            valid_losses.append(loss.item())\n",
        "            \n",
        "            _, predicted_v = torch.max(outputs.data, 1)\n",
        "            correct_v += (predicted_v == labels).sum().item()\n",
        "            total_v += labels.size(0)\n",
        "                \n",
        "    m_t_l=np.mean(train_losses)\n",
        "    m_v_l=np.mean(valid_losses)\n",
        "            \n",
        "    mean_train_losses2.append(m_t_l)\n",
        "    mean_valid_losses2.append(m_v_l)\n",
        "    \n",
        "    accuracy_v = 100*correct_v/total_v\n",
        "    accuracy_t = 100*correct_t/total_t\n",
        "    valid_acc_list2.append(accuracy_v)\n",
        "    train_acc_list2.append(accuracy_t)\n",
        "    \n",
        "    \n",
        "        #save\n",
        "    #torch.save({'epoch': epoch+1, 'model_state_dict': model.state_dict(),'optimizer_state_dict': optimizer2.state_dict(), 'train loss': mean_train_losses2,'train acc': train_acc_list2, 'valid loss':mean_valid_losses2, 'valid acc': valid_acc_list2}, 'mo2.pth')\n",
        "    torch.save({'epoch': epoch+1, 'model_state_dict': model.state_dict(),'optimizer_state_dict': optimizer2.state_dict(), 'train loss': mean_train_losses2,'train acc': train_acc_list2, 'valid loss':mean_valid_losses2, 'valid acc': valid_acc_list2}, 'mo3.pth')\n",
        "    print('epoch : {}, train loss : {:.4f}, train acc : {:.2f}% valid loss : {:.4f}, valid acc : {:.2f}%'.format(epoch+1, m_t_l, accuracy_t, m_v_l, accuracy_v))\n",
        "b_val_acc2=np.max(valid_acc_list2)\n",
        "b_val_loss2=np.min(mean_valid_losses2)\n",
        "b_train_acc2=np.max(train_acc_list2)\n",
        "b_train_loss2=np.min(mean_train_losses2)\n",
        "#torch.save({'best val acc':b_val_acc2,'best val loss':b_val_loss2,'best train acc':b_train_acc2,'best train loss':b_train_loss2},'bestm2.pth')\n",
        "torch.save({'best val acc':b_val_acc2,'best val loss':b_val_loss2,'best train acc':b_train_acc2,'best train loss':b_train_loss2},'bestm3.pth')\n",
        "print('best val acc: {0}, best train loss: {1}'.format(np.max(valid_acc_list2),np.min(mean_train_losses2)))"
      ],
      "execution_count": 0,
      "outputs": [
        {
          "output_type": "stream",
          "text": [
            "0 / 50000\n",
            "21000 / 50000\n",
            "42000 / 50000\n",
            "epoch : 21, train loss : 0.0448, train acc : 98.33% valid loss : 0.3289, valid acc : 92.22%\n",
            "0 / 50000\n",
            "21000 / 50000\n",
            "42000 / 50000\n",
            "epoch : 22, train loss : 0.0505, train acc : 98.15% valid loss : 0.3553, valid acc : 91.72%\n",
            "0 / 50000\n",
            "21000 / 50000\n",
            "42000 / 50000\n",
            "epoch : 23, train loss : 0.0502, train acc : 98.15% valid loss : 0.3352, valid acc : 92.11%\n",
            "0 / 50000\n",
            "21000 / 50000\n",
            "42000 / 50000\n",
            "epoch : 24, train loss : 0.0402, train acc : 98.54% valid loss : 0.3444, valid acc : 92.30%\n",
            "0 / 50000\n",
            "21000 / 50000\n",
            "42000 / 50000\n",
            "epoch : 25, train loss : 0.0435, train acc : 98.39% valid loss : 0.3165, valid acc : 92.52%\n",
            "best val acc: 92.67, best train loss: 0.040218893885612485\n"
          ],
          "name": "stdout"
        }
      ]
    },
    {
      "cell_type": "code",
      "metadata": {
        "id": "NKn-33I7GO2Z",
        "colab_type": "code",
        "colab": {}
      },
      "source": [
        "#checkpoint = torch.load('mo2.pth')\n",
        "checkpoint = torch.load('mo3.pth')\n",
        "model.load_state_dict(checkpoint['model_state_dict'])\n",
        "optimizer2.load_state_dict(checkpoint['optimizer_state_dict'])\n",
        "start_epoch2 = checkpoint['epoch']\n",
        "mean_train_losses2 = checkpoint['train loss']\n",
        "train_acc_list2=checkpoint['train acc']\n",
        "mean_valid_losses2 = checkpoint['valid loss']\n",
        "valid_acc_list2=checkpoint['valid acc']"
      ],
      "execution_count": 0,
      "outputs": []
    },
    {
      "cell_type": "code",
      "metadata": {
        "id": "yDij8vR-u1uH",
        "colab_type": "code",
        "colab": {}
      },
      "source": [
        "#checkpoint = torch.load('bestm2.pth')\n",
        "checkpoint = torch.load('bestm3.pth')\n",
        "b_val_acc2=checkpoint['best val acc']\n",
        "b_val_loss2=checkpoint['best val loss']\n",
        "b_train_acc2=checkpoint['best train acc']\n",
        "b_train_loss2=checkpoint['best train loss']"
      ],
      "execution_count": 0,
      "outputs": []
    },
    {
      "cell_type": "code",
      "metadata": {
        "id": "g6xXSu280eGb",
        "colab_type": "code",
        "outputId": "b248cc81-500f-486c-e28c-8f37665eaebf",
        "colab": {
          "base_uri": "https://localhost:8080/",
          "height": 612
        }
      },
      "source": [
        "fig, (ax1, ax2) = plt.subplots(nrows=1, ncols=2, figsize=(15, 10))\n",
        "ax1.plot(mean_train_losses2, label='train loss')\n",
        "ax1.plot(mean_valid_losses2, label='valid loss')\n",
        "lines, labels = ax1.get_legend_handles_labels()\n",
        "ax1.legend(lines, labels, loc='best')\n",
        "ax2.plot(train_acc_list2, label='train acc')\n",
        "ax2.plot(valid_acc_list2, label='valid acc')\n",
        "lines, labels = ax2.get_legend_handles_labels()\n",
        "ax2.legend(lines, labels, loc='best')"
      ],
      "execution_count": 0,
      "outputs": [
        {
          "output_type": "execute_result",
          "data": {
            "text/plain": [
              "<matplotlib.legend.Legend at 0x7f5b96451fd0>"
            ]
          },
          "metadata": {
            "tags": []
          },
          "execution_count": 135
        },
        {
          "output_type": "display_data",
          "data": {
            "image/png": "[encoded data removed]",
            "text/plain": [
              "<Figure size 1080x720 with 2 Axes>"
            ]
          },
          "metadata": {
            "tags": []
          }
        }
      ]
    },
    {
      "cell_type": "code",
      "metadata": {
        "id": "nxgKFa4xvC2h",
        "colab_type": "code",
        "outputId": "41c0ef94-2150-4eca-e842-fea42db66df9",
        "colab": {
          "base_uri": "https://localhost:8080/",
          "height": 34
        }
      },
      "source": [
        "correct_te = 0\n",
        "total_te = 0\n",
        "with torch.no_grad():\n",
        "    for i, data in enumerate(testloader):\n",
        "        images,labels=data\n",
        "        images,labels=images.to(device),labels.to(device)\n",
        "        outputs = model(images)\n",
        "        _, predicted_v = torch.max(outputs.data, 1)\n",
        "        correct_te += (predicted_v == labels).sum().item()\n",
        "        total_te += labels.size(0)\n",
        "accuracy_te = 100*correct_te/total_te\n",
        "print(accuracy_te)"
      ],
      "execution_count": 0,
      "outputs": [
        {
          "output_type": "stream",
          "text": [
            "92.62\n"
          ],
          "name": "stdout"
        }
      ]
    },
    {
      "cell_type": "code",
      "metadata": {
        "id": "CB8d7mz00noj",
        "colab_type": "code",
        "colab": {}
      },
      "source": [
        "!cp '/content/mo3.pth' '/content/drive/My Drive/mo3.pth'"
      ],
      "execution_count": 0,
      "outputs": []
    },
    {
      "cell_type": "code",
      "metadata": {
        "id": "NEhx5sFARmiL",
        "colab_type": "code",
        "colab": {}
      },
      "source": [
        "!cp '/content/mo1.pth' '/content/drive/My Drive/mo1.pth'"
      ],
      "execution_count": 0,
      "outputs": []
    },
    {
      "cell_type": "code",
      "metadata": {
        "id": "vX4cv2AuRrX6",
        "colab_type": "code",
        "colab": {}
      },
      "source": [
        "!cp '/content/mo2.pth' '/content/drive/My Drive/mo2.pth'"
      ],
      "execution_count": 0,
      "outputs": []
    },
    {
      "cell_type": "code",
      "metadata": {
        "id": "VmztBGImRv9l",
        "colab_type": "code",
        "colab": {}
      },
      "source": [
        "!cp '/content/dataset.pth' '/content/drive/My Drive/dataset.pth'"
      ],
      "execution_count": 0,
      "outputs": []
    },
    {
      "cell_type": "code",
      "metadata": {
        "id": "vSARD6Q9UguD",
        "colab_type": "code",
        "colab": {}
      },
      "source": [
        "!cp '/content/bestm.pth' '/content/drive/My Drive/bestm.pth'"
      ],
      "execution_count": 0,
      "outputs": []
    },
    {
      "cell_type": "code",
      "metadata": {
        "id": "R2KB22H10Ajt",
        "colab_type": "code",
        "colab": {}
      },
      "source": [
        "!cp '/content/bestm2.pth' '/content/drive/My Drive/bestm2.pth'"
      ],
      "execution_count": 0,
      "outputs": []
    },
    {
      "cell_type": "code",
      "metadata": {
        "id": "v4f3xbmv0Gn0",
        "colab_type": "code",
        "colab": {}
      },
      "source": [
        "!cp '/content/bestm3.pth' '/content/drive/My Drive/bestm3.pth'"
      ],
      "execution_count": 0,
      "outputs": []
    },
    {
      "cell_type": "code",
      "metadata": {
        "id": "xCJiFy_80OaT",
        "colab_type": "code",
        "colab": {}
      },
      "source": [
        ""
      ],
      "execution_count": 0,
      "outputs": []
    }
  ]
}