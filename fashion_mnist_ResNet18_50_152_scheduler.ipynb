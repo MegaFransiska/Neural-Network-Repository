{
  "nbformat": 4,
  "nbformat_minor": 0,
  "metadata": {
    "colab": {
      "name": "fashion mnist ResNet18-50-152-scheduler",
      "version": "0.3.2",
      "provenance": [],
      "collapsed_sections": [],
      "toc_visible": true,
      "include_colab_link": true
    },
    "kernelspec": {
      "name": "python3",
      "display_name": "Python 3"
    },
    "accelerator": "GPU"
  },
  "cells": [
    {
      "cell_type": "markdown",
      "metadata": {
        "id": "view-in-github",
        "colab_type": "text"
      },
      "source": [
        "<a href=\"https://colab.research.google.com/github/megasiska86/Neural-Network-Repository/blob/master/fashion_mnist_ResNet18_50_152_scheduler.ipynb\" target=\"_parent\"><img src=\"https://colab.research.google.com/assets/colab-badge.svg\" alt=\"Open In Colab\"/></a>"
      ]
    },
    {
      "cell_type": "code",
      "metadata": {
        "id": "i32v1xCYdJiB",
        "colab_type": "code",
        "colab": {}
      },
      "source": [
        "!mkdir fashion-mnist-master.zip"
      ],
      "execution_count": 0,
      "outputs": []
    },
    {
      "cell_type": "code",
      "metadata": {
        "id": "gpJR-RhWeGX0",
        "colab_type": "code",
        "colab": {}
      },
      "source": [
        "!rm -rf fashion-mnist-master.zip"
      ],
      "execution_count": 0,
      "outputs": []
    },
    {
      "cell_type": "code",
      "metadata": {
        "id": "2v5LJ4J_eMQI",
        "colab_type": "code",
        "outputId": "ffeee5ba-6d35-4b30-8080-0b2c42092326",
        "colab": {
          "base_uri": "https://localhost:8080/",
          "height": 1154
        }
      },
      "source": [
        "!unzip fashion-mnist-master.zip"
      ],
      "execution_count": 0,
      "outputs": [
        {
          "output_type": "stream",
          "text": [
            "Archive:  fashion-mnist-master.zip\n",
            "629abc0f9a73c2897383a9178e8e38f7141be30d\n",
            "   creating: fashion-mnist-master/\n",
            "  inflating: fashion-mnist-master/.catwatch.yaml  \n",
            " extracting: fashion-mnist-master/.dockerignore  \n",
            "  inflating: fashion-mnist-master/.gitignore  \n",
            "  inflating: fashion-mnist-master/.zappr.yaml  \n",
            "  inflating: fashion-mnist-master/CONTRIBUTING.md  \n",
            "  inflating: fashion-mnist-master/Dockerfile  \n",
            "  inflating: fashion-mnist-master/LICENSE  \n",
            "  inflating: fashion-mnist-master/MAINTAINERS  \n",
            "  inflating: fashion-mnist-master/README.ja.md  \n",
            "  inflating: fashion-mnist-master/README.md  \n",
            "  inflating: fashion-mnist-master/README.zh-CN.md  \n",
            "  inflating: fashion-mnist-master/app.py  \n",
            "   creating: fashion-mnist-master/benchmark/\n",
            " extracting: fashion-mnist-master/benchmark/__init__.py  \n",
            "  inflating: fashion-mnist-master/benchmark/baselines.json  \n",
            "  inflating: fashion-mnist-master/benchmark/convnet.py  \n",
            "  inflating: fashion-mnist-master/benchmark/runner.py  \n",
            "  inflating: fashion-mnist-master/configs.py  \n",
            "   creating: fashion-mnist-master/data/\n",
            "   creating: fashion-mnist-master/data/fashion/\n",
            " extracting: fashion-mnist-master/data/fashion/t10k-images-idx3-ubyte.gz  \n",
            " extracting: fashion-mnist-master/data/fashion/t10k-labels-idx1-ubyte.gz  \n",
            " extracting: fashion-mnist-master/data/fashion/train-images-idx3-ubyte.gz  \n",
            " extracting: fashion-mnist-master/data/fashion/train-labels-idx1-ubyte.gz  \n",
            "   creating: fashion-mnist-master/data/mnist/\n",
            " extracting: fashion-mnist-master/data/mnist/README.md  \n",
            "   creating: fashion-mnist-master/doc/\n",
            "   creating: fashion-mnist-master/doc/img/\n",
            "  inflating: fashion-mnist-master/doc/img/01e0c4be.png  \n",
            "  inflating: fashion-mnist-master/doc/img/34d72c08.png  \n",
            "  inflating: fashion-mnist-master/doc/img/4433f0e1.png  \n",
            "  inflating: fashion-mnist-master/doc/img/853c717e.png  \n",
            "  inflating: fashion-mnist-master/doc/img/ae143b2d.png  \n",
            "  inflating: fashion-mnist-master/doc/img/b6e79fa2.png  \n",
            " extracting: fashion-mnist-master/doc/img/b9b8fb21.png  \n",
            "  inflating: fashion-mnist-master/doc/img/benchmark.gif  \n",
            "  inflating: fashion-mnist-master/doc/img/c60ceb17.png  \n",
            "  inflating: fashion-mnist-master/doc/img/dd83f448.png  \n",
            " extracting: fashion-mnist-master/doc/img/e9514ab1.png  \n",
            "  inflating: fashion-mnist-master/doc/img/embedding.gif  \n",
            "  inflating: fashion-mnist-master/doc/img/f04ba662.png  \n",
            "  inflating: fashion-mnist-master/doc/img/fashion-mnist-sprite.png  \n",
            "  inflating: fashion-mnist-master/doc/img/umap_example_fashion_mnist1.png  \n",
            "  inflating: fashion-mnist-master/doc/img/umap_example_mnist1.png  \n",
            " extracting: fashion-mnist-master/requirements.txt  \n",
            "   creating: fashion-mnist-master/static/\n",
            "   creating: fashion-mnist-master/static/css/\n",
            "  inflating: fashion-mnist-master/static/css/main.css  \n",
            "   creating: fashion-mnist-master/static/img/\n",
            "  inflating: fashion-mnist-master/static/img/research_logo.png  \n",
            "  inflating: fashion-mnist-master/static/index.html  \n",
            "   creating: fashion-mnist-master/static/js/\n",
            "  inflating: fashion-mnist-master/static/js/vue-binding.js  \n",
            "   creating: fashion-mnist-master/utils/\n",
            " extracting: fashion-mnist-master/utils/__init__.py  \n",
            "  inflating: fashion-mnist-master/utils/argparser.py  \n",
            "  inflating: fashion-mnist-master/utils/helper.py  \n",
            "  inflating: fashion-mnist-master/utils/mnist_reader.py  \n",
            "   creating: fashion-mnist-master/visualization/\n",
            " extracting: fashion-mnist-master/visualization/__init__.py  \n",
            "  inflating: fashion-mnist-master/visualization/project_zalando.py  \n"
          ],
          "name": "stdout"
        }
      ]
    },
    {
      "cell_type": "code",
      "metadata": {
        "id": "gZ_Z2ju6fHWm",
        "colab_type": "code",
        "colab": {}
      },
      "source": [
        "%matplotlib inline "
      ],
      "execution_count": 0,
      "outputs": []
    },
    {
      "cell_type": "code",
      "metadata": {
        "id": "2v5_OV3SeUsw",
        "colab_type": "code",
        "colab": {}
      },
      "source": [
        "from __future__ import print_function, division\n",
        "\n",
        "import torch\n",
        "import torch.nn as nn\n",
        "import torch.optim as optim\n",
        "from torch.optim import lr_scheduler\n",
        "import numpy as np\n",
        "import torchvision\n",
        "from torchvision import datasets, models, transforms\n",
        "import matplotlib.pyplot as plt\n",
        "import time\n",
        "import os\n",
        "import copy\n",
        "\n",
        "plt.ion()   # interactive mode"
      ],
      "execution_count": 0,
      "outputs": []
    },
    {
      "cell_type": "code",
      "metadata": {
        "id": "qu1EibnGgh11",
        "colab_type": "code",
        "colab": {
          "base_uri": "https://localhost:8080/",
          "height": 285
        },
        "outputId": "b656ae5d-2280-4299-a978-78d3e7529451"
      },
      "source": [
        "transform = transforms.Compose([transforms.Resize(64), transforms.RandomHorizontalFlip(), transforms.Grayscale(num_output_channels=3),transforms.ToTensor(),transforms.Normalize((0.5, 0.5, 0.5), (0.5, 0.5, 0.5))]) \n",
        "\n",
        "trainset = torchvision.datasets.FashionMNIST(root='fashion-mnist-master', train=True, transform=transform,\n",
        "                                        download=True)\n",
        "trainloader = torch.utils.data.DataLoader(trainset, batch_size=8,\n",
        "                                          shuffle=True, num_workers=0)\n",
        "\n",
        "testset = torchvision.datasets.FashionMNIST(root='fashion-mnist-master', train=False, transform=transform,\n",
        "                                       download=False)\n",
        "testloader = torch.utils.data.DataLoader(testset, batch_size=8,\n",
        "                                         shuffle=False, num_workers=0)\n",
        "trainset1,validset = torch.utils.data.random_split(trainset, [50000,10000])\n",
        "trainloader1=torch.utils.data.DataLoader(trainset1, batch_size=8,shuffle=True, num_workers=0)\n",
        "validloader=torch.utils.data.DataLoader(validset, batch_size=8,shuffle=True, num_workers=0)\n",
        "\n",
        "classes = ('T-shirt/top','Trouser','Pullover','Dress','Coat','Sandal','Shirt','Sneaker','Bag','Ankle boot')\n",
        "device = torch.device(\"cuda:0\" if torch.cuda.is_available() else \"cpu\")\n"
      ],
      "execution_count": 3,
      "outputs": [
        {
          "output_type": "stream",
          "text": [
            "\r0it [00:00, ?it/s]"
          ],
          "name": "stderr"
        },
        {
          "output_type": "stream",
          "text": [
            "Downloading http://fashion-mnist.s3-website.eu-central-1.amazonaws.com/train-images-idx3-ubyte.gz to fashion-mnist-master/FashionMNIST/raw/train-images-idx3-ubyte.gz\n"
          ],
          "name": "stdout"
        },
        {
          "output_type": "stream",
          "text": [
            "26427392it [00:04, 5819232.92it/s]                              \n"
          ],
          "name": "stderr"
        },
        {
          "output_type": "stream",
          "text": [
            "Extracting fashion-mnist-master/FashionMNIST/raw/train-images-idx3-ubyte.gz\n"
          ],
          "name": "stdout"
        },
        {
          "output_type": "stream",
          "text": [
            "\r0it [00:00, ?it/s]"
          ],
          "name": "stderr"
        },
        {
          "output_type": "stream",
          "text": [
            "Downloading http://fashion-mnist.s3-website.eu-central-1.amazonaws.com/train-labels-idx1-ubyte.gz to fashion-mnist-master/FashionMNIST/raw/train-labels-idx1-ubyte.gz\n"
          ],
          "name": "stdout"
        },
        {
          "output_type": "stream",
          "text": [
            "32768it [00:00, 39122.95it/s]                           \n",
            "0it [00:00, ?it/s]"
          ],
          "name": "stderr"
        },
        {
          "output_type": "stream",
          "text": [
            "Extracting fashion-mnist-master/FashionMNIST/raw/train-labels-idx1-ubyte.gz\n",
            "Downloading http://fashion-mnist.s3-website.eu-central-1.amazonaws.com/t10k-images-idx3-ubyte.gz to fashion-mnist-master/FashionMNIST/raw/t10k-images-idx3-ubyte.gz\n"
          ],
          "name": "stdout"
        },
        {
          "output_type": "stream",
          "text": [
            "4423680it [00:02, 1685428.80it/s]                            \n",
            "0it [00:00, ?it/s]"
          ],
          "name": "stderr"
        },
        {
          "output_type": "stream",
          "text": [
            "Extracting fashion-mnist-master/FashionMNIST/raw/t10k-images-idx3-ubyte.gz\n",
            "Downloading http://fashion-mnist.s3-website.eu-central-1.amazonaws.com/t10k-labels-idx1-ubyte.gz to fashion-mnist-master/FashionMNIST/raw/t10k-labels-idx1-ubyte.gz\n"
          ],
          "name": "stdout"
        },
        {
          "output_type": "stream",
          "text": [
            "8192it [00:00, 15102.09it/s]            \n"
          ],
          "name": "stderr"
        },
        {
          "output_type": "stream",
          "text": [
            "Extracting fashion-mnist-master/FashionMNIST/raw/t10k-labels-idx1-ubyte.gz\n",
            "Processing...\n",
            "Done!\n"
          ],
          "name": "stdout"
        }
      ]
    },
    {
      "cell_type": "code",
      "metadata": {
        "id": "mO5H_nxOoxgV",
        "colab_type": "code",
        "colab": {}
      },
      "source": [
        "#model=models.vgg16(pretrained=False, progress=False)\n",
        "#model.features[0]=nn.Conv2d(1,64,kernel_size=3, stride=1, padding=1)\n",
        "#model=model.to(device)\n",
        "#print(model)"
      ],
      "execution_count": 0,
      "outputs": []
    },
    {
      "cell_type": "code",
      "metadata": {
        "id": "1xw8ze93ypzc",
        "colab_type": "code",
        "colab": {}
      },
      "source": [
        "import torch.nn as nn\n",
        "from torch.utils.model_zoo import load_url as load_state_dict_from_url\n",
        "\n",
        "model_urls = {\n",
        "    'resnet18': 'https://download.pytorch.org/models/resnet18-5c106cde.pth',\n",
        "    'resnet34': 'https://download.pytorch.org/models/resnet34-333f7ec4.pth',\n",
        "    'resnet50': 'https://download.pytorch.org/models/resnet50-19c8e357.pth',\n",
        "    'resnet101': 'https://download.pytorch.org/models/resnet101-5d3b4d8f.pth',\n",
        "    'resnet152': 'https://download.pytorch.org/models/resnet152-b121ed2d.pth',\n",
        "    'resnext50_32x4d': 'https://download.pytorch.org/models/resnext50_32x4d-7cdf4587.pth',\n",
        "    'resnext101_32x8d': 'https://download.pytorch.org/models/resnext101_32x8d-8ba56ff5.pth',\n",
        "}\n",
        "\n",
        "\n",
        "def conv3x3(in_planes, out_planes, stride=1, groups=1, dilation=1):\n",
        "    \"\"\"3x3 convolution with padding\"\"\"\n",
        "    return nn.Conv2d(in_planes, out_planes, kernel_size=3, stride=stride,\n",
        "                     padding=dilation, groups=groups, bias=False, dilation=dilation)\n",
        "\n",
        "\n",
        "def conv1x1(in_planes, out_planes, stride=1):\n",
        "    \"\"\"1x1 convolution\"\"\"\n",
        "    return nn.Conv2d(in_planes, out_planes, kernel_size=1, stride=stride, bias=False)\n",
        "\n",
        "\n",
        "class BasicBlock(nn.Module):\n",
        "    expansion = 1\n",
        "\n",
        "    def __init__(self, inplanes, planes, stride=1, downsample=None, groups=1,\n",
        "                 base_width=64, dilation=1, norm_layer=None):\n",
        "        super(BasicBlock, self).__init__()\n",
        "        if norm_layer is None:\n",
        "            norm_layer = nn.BatchNorm2d\n",
        "        if groups != 1 or base_width != 64:\n",
        "            raise ValueError('BasicBlock only supports groups=1 and base_width=64')\n",
        "        if dilation > 1:\n",
        "            raise NotImplementedError(\"Dilation > 1 not supported in BasicBlock\")\n",
        "        # Both self.conv1 and self.downsample layers downsample the input when stride != 1\n",
        "        self.conv1 = conv3x3(inplanes, planes, stride)\n",
        "        self.bn1 = norm_layer(planes)\n",
        "        self.relu = nn.ReLU(inplace=True)\n",
        "        self.conv2 = conv3x3(planes, planes)\n",
        "        self.bn2 = norm_layer(planes)\n",
        "        self.downsample = downsample\n",
        "        self.stride = stride\n",
        "\n",
        "    def forward(self, x):\n",
        "        identity = x\n",
        "\n",
        "        out = self.conv1(x)\n",
        "        out = self.bn1(out)\n",
        "        out = self.relu(out)\n",
        "\n",
        "        out = self.conv2(out)\n",
        "        out = self.bn2(out)\n",
        "\n",
        "        if self.downsample is not None:\n",
        "            identity = self.downsample(x)\n",
        "\n",
        "        out += identity\n",
        "        out = self.relu(out)\n",
        "\n",
        "        return out\n",
        "\n",
        "\n",
        "class Bottleneck(nn.Module):\n",
        "    expansion = 4\n",
        "\n",
        "    def __init__(self, inplanes, planes, stride=1, downsample=None, groups=1,\n",
        "                 base_width=64, dilation=1, norm_layer=None):\n",
        "        super(Bottleneck, self).__init__()\n",
        "        if norm_layer is None:\n",
        "            norm_layer = nn.BatchNorm2d\n",
        "        width = int(planes * (base_width / 64.)) * groups\n",
        "        # Both self.conv2 and self.downsample layers downsample the input when stride != 1\n",
        "        self.conv1 = conv1x1(inplanes, width)\n",
        "        self.bn1 = norm_layer(width)\n",
        "        self.conv2 = conv3x3(width, width, stride, groups, dilation)\n",
        "        self.bn2 = norm_layer(width)\n",
        "        self.conv3 = conv1x1(width, planes * self.expansion)\n",
        "        self.bn3 = norm_layer(planes * self.expansion)\n",
        "        self.relu = nn.ReLU(inplace=True)\n",
        "        self.downsample = downsample\n",
        "        self.stride = stride\n",
        "\n",
        "    def forward(self, x):\n",
        "        identity = x\n",
        "\n",
        "        out = self.conv1(x)\n",
        "        out = self.bn1(out)\n",
        "        out = self.relu(out)\n",
        "\n",
        "        out = self.conv2(out)\n",
        "        out = self.bn2(out)\n",
        "        out = self.relu(out)\n",
        "\n",
        "        out = self.conv3(out)\n",
        "        out = self.bn3(out)\n",
        "\n",
        "        if self.downsample is not None:\n",
        "            identity = self.downsample(x)\n",
        "\n",
        "        out += identity\n",
        "        out = self.relu(out)\n",
        "\n",
        "        return out\n",
        "\n",
        "\n",
        "class ResNet(nn.Module):\n",
        "\n",
        "    def __init__(self, block, layers, num_classes=10, zero_init_residual=False,\n",
        "                 groups=1, width_per_group=64, replace_stride_with_dilation=None,\n",
        "                 norm_layer=None):\n",
        "        super(ResNet, self).__init__()\n",
        "        if norm_layer is None:\n",
        "            norm_layer = nn.BatchNorm2d\n",
        "        self._norm_layer = norm_layer\n",
        "\n",
        "        self.inplanes = 64\n",
        "        self.dilation = 1\n",
        "        if replace_stride_with_dilation is None:\n",
        "            # each element in the tuple indicates if we should replace\n",
        "            # the 2x2 stride with a dilated convolution instead\n",
        "            replace_stride_with_dilation = [False, False, False]\n",
        "        if len(replace_stride_with_dilation) != 3:\n",
        "            raise ValueError(\"replace_stride_with_dilation should be None \"\n",
        "                             \"or a 3-element tuple, got {}\".format(replace_stride_with_dilation))\n",
        "        self.groups = groups\n",
        "        self.base_width = width_per_group\n",
        "        self.conv1 = nn.Conv2d(3, self.inplanes, kernel_size=7, stride=2, padding=3,\n",
        "                               bias=False)\n",
        "        self.bn1 = norm_layer(self.inplanes)\n",
        "        self.relu = nn.ReLU(inplace=True)\n",
        "        self.maxpool = nn.MaxPool2d(kernel_size=3, stride=2, padding=1)\n",
        "        self.layer1 = self._make_layer(block, 64, layers[0])\n",
        "        self.layer2 = self._make_layer(block, 128, layers[1], stride=2,\n",
        "                                       dilate=replace_stride_with_dilation[0])\n",
        "        self.layer3 = self._make_layer(block, 256, layers[2], stride=2,\n",
        "                                       dilate=replace_stride_with_dilation[1])\n",
        "        self.layer4 = self._make_layer(block, 512, layers[3], stride=2,\n",
        "                                       dilate=replace_stride_with_dilation[2])\n",
        "        self.avgpool = nn.AdaptiveAvgPool2d((1, 1))\n",
        "        self.fc = nn.Linear(512 * block.expansion, num_classes)\n",
        "        self.soft=nn.Softmax(1)\n",
        "\n",
        "        for m in self.modules():\n",
        "            if isinstance(m, nn.Conv2d):\n",
        "                nn.init.kaiming_normal_(m.weight, mode='fan_out', nonlinearity='relu')\n",
        "            elif isinstance(m, (nn.BatchNorm2d, nn.GroupNorm)):\n",
        "                nn.init.constant_(m.weight, 1)\n",
        "                nn.init.constant_(m.bias, 0)\n",
        "\n",
        "        # Zero-initialize the last BN in each residual branch,\n",
        "        # so that the residual branch starts with zeros, and each residual block behaves like an identity.\n",
        "        # This improves the model by 0.2~0.3% according to https://arxiv.org/abs/1706.02677\n",
        "        if zero_init_residual:\n",
        "            for m in self.modules():\n",
        "                if isinstance(m, Bottleneck):\n",
        "                    nn.init.constant_(m.bn3.weight, 0)\n",
        "                elif isinstance(m, BasicBlock):\n",
        "                    nn.init.constant_(m.bn2.weight, 0)\n",
        "\n",
        "    def _make_layer(self, block, planes, blocks, stride=1, dilate=False):\n",
        "        norm_layer = self._norm_layer\n",
        "        downsample = None\n",
        "        previous_dilation = self.dilation\n",
        "        if dilate:\n",
        "            self.dilation *= stride\n",
        "            stride = 1\n",
        "        if stride != 1 or self.inplanes != planes * block.expansion:\n",
        "            downsample = nn.Sequential(\n",
        "                conv1x1(self.inplanes, planes * block.expansion, stride),\n",
        "                norm_layer(planes * block.expansion),\n",
        "            )\n",
        "\n",
        "        layers = []\n",
        "        layers.append(block(self.inplanes, planes, stride, downsample, self.groups,\n",
        "                            self.base_width, previous_dilation, norm_layer))\n",
        "        self.inplanes = planes * block.expansion\n",
        "        for _ in range(1, blocks):\n",
        "            layers.append(block(self.inplanes, planes, groups=self.groups,\n",
        "                                base_width=self.base_width, dilation=self.dilation,\n",
        "                                norm_layer=norm_layer))\n",
        "\n",
        "        return nn.Sequential(*layers)\n",
        "\n",
        "    def forward(self, x):\n",
        "        x = self.conv1(x)\n",
        "        x = self.bn1(x)\n",
        "        x = self.relu(x)\n",
        "        x = self.maxpool(x)\n",
        "\n",
        "        x = self.layer1(x)\n",
        "        x = self.layer2(x)\n",
        "        x = self.layer3(x)\n",
        "        x = self.layer4(x)\n",
        "\n",
        "        x = self.avgpool(x)\n",
        "        x = x.reshape(x.size(0), -1)\n",
        "        x = self.fc(x)\n",
        "        return x\n",
        "\n",
        "\n",
        "def _resnet(arch, block, layers, pretrained, progress, **kwargs):\n",
        "    model = ResNet(block, layers, **kwargs)\n",
        "    if pretrained:\n",
        "        state_dict = load_state_dict_from_url(model_urls[arch],\n",
        "                                              progress=progress)\n",
        "        model.load_state_dict(state_dict)\n",
        "    return model"
      ],
      "execution_count": 0,
      "outputs": []
    },
    {
      "cell_type": "markdown",
      "metadata": {
        "id": "EOkqYdhCKwne",
        "colab_type": "text"
      },
      "source": [
        "#Resnet18"
      ]
    },
    {
      "cell_type": "code",
      "metadata": {
        "id": "FSisviEkKkIB",
        "colab_type": "code",
        "colab": {}
      },
      "source": [
        "def resnet18(pretrained=False, progress=True, **kwargs):\n",
        "    \"\"\"Constructs a ResNet-18 model.\n",
        "    Args:\n",
        "        pretrained (bool): If True, returns a model pre-trained on ImageNet\n",
        "        progress (bool): If True, displays a progress bar of the download to stderr\n",
        "    \"\"\"\n",
        "    return _resnet('resnet18', BasicBlock, [2, 2, 2, 2], pretrained, progress,\n",
        "                   **kwargs)\n",
        "model18=resnet18().to(device)"
      ],
      "execution_count": 0,
      "outputs": []
    },
    {
      "cell_type": "code",
      "metadata": {
        "id": "0UUyfJBEMROb",
        "colab_type": "code",
        "colab": {}
      },
      "source": [
        "optimizer=optim.SGD(model18.parameters(), lr=0.001, momentum=0.9)\n",
        "#optimizer = torch.optim.Adam(model.parameters(), lr=0.001)\n",
        "loss_fn = nn.CrossEntropyLoss()\n",
        "#loss_fn = nn.NLLLoss()\n",
        "#exp_lr_scheduler = lr_scheduler.StepLR(optimizer, step_size=7, gamma=0.1)"
      ],
      "execution_count": 0,
      "outputs": []
    },
    {
      "cell_type": "code",
      "metadata": {
        "id": "cP4g8xy1M4IR",
        "colab_type": "code",
        "colab": {}
      },
      "source": [
        "mean_train_losses = []\n",
        "mean_valid_losses = []\n",
        "valid_acc_list = []\n",
        "train_acc_list=[]\n",
        "start_epoch=0\n",
        "e=5"
      ],
      "execution_count": 0,
      "outputs": []
    },
    {
      "cell_type": "code",
      "metadata": {
        "id": "2vUVM42SM76j",
        "colab_type": "code",
        "outputId": "c6abdaaa-11ea-4ed8-8b73-aa78b14bb6d2",
        "colab": {
          "base_uri": "https://localhost:8080/",
          "height": 567
        }
      },
      "source": [
        "for epoch in range(start_epoch,20):\n",
        "    #exp_lr_scheduler.step()\n",
        "    model18.train()\n",
        "    \n",
        "    train_losses = []\n",
        "    valid_losses = []\n",
        "    model18.eval()\n",
        "    correct_t = 0\n",
        "    total_t = 0\n",
        "    for i, data in enumerate(trainloader1):\n",
        "        images,labels=data\n",
        "        images,labels=images.to(device),labels.to(device)\n",
        "        \n",
        "        optimizer.zero_grad()\n",
        "        \n",
        "        outputs = model18(images)\n",
        "        loss = loss_fn(outputs, labels)\n",
        "        loss.backward()\n",
        "        optimizer.step()\n",
        "        \n",
        "        train_losses.append(loss.item())\n",
        "        \n",
        "        _, predicted_t = torch.max(outputs.data, 1)\n",
        "        correct_t += (predicted_t == labels).sum().item()\n",
        "        total_t += labels.size(0)\n",
        "        \n",
        "        if (i * 1600) % (1600 * 1600) == 0:\n",
        "            print(i*10, '/ 50000')\n",
        "            \n",
        "    model18.eval()\n",
        "    correct_v = 0\n",
        "    total_v = 0\n",
        "    with torch.no_grad():\n",
        "        for i, data in enumerate(validloader):\n",
        "            images,labels=data\n",
        "            images,labels=images.to(device),labels.to(device)\n",
        "            outputs = model18(images)\n",
        "            loss = loss_fn(outputs, labels)\n",
        "            \n",
        "            valid_losses.append(loss.item())\n",
        "            \n",
        "            _, predicted_v = torch.max(outputs.data, 1)\n",
        "            correct_v += (predicted_v == labels).sum().item()\n",
        "            total_v += labels.size(0)\n",
        "            \n",
        "    m_t_l=np.mean(train_losses)\n",
        "    m_v_l=np.mean(valid_losses)\n",
        "            \n",
        "    mean_train_losses.append(m_t_l)\n",
        "    mean_valid_losses.append(m_v_l)\n",
        "    \n",
        "    accuracy_v = 100*correct_v/total_v\n",
        "    accuracy_t = 100*correct_t/total_t\n",
        "    valid_acc_list.append(accuracy_v)\n",
        "    train_acc_list.append(accuracy_t)\n",
        "    \n",
        "        #save\n",
        "    torch.save({'epoch': epoch+1, 'model_state_dict': model18.state_dict(),'optimizer_state_dict': optimizer.state_dict(), 'train loss': mean_train_losses,'train acc': train_acc_list, 'valid loss':mean_valid_losses, 'valid acc': valid_acc_list}, 'res18sch.pth')\n",
        "    print('epoch : {}, train loss : {:.4f}, train acc : {:.2f} valid loss : {:.4f}, valid acc : {:.2f}%'.format(epoch+1, m_t_l, accuracy_t, m_v_l, accuracy_v))\n",
        "print('best val acc: {0}, best train loss: {1}'.format(np.max(valid_acc_list),np.min(mean_train_losses)))"
      ],
      "execution_count": 0,
      "outputs": [
        {
          "output_type": "stream",
          "text": [
            "0 / 50000\n",
            "epoch : 6, train loss : 0.3339, train acc : 87.90 valid loss : 0.2855, valid acc : 89.85%\n",
            "0 / 50000\n",
            "epoch : 7, train loss : 0.2706, train acc : 90.06 valid loss : 0.2624, valid acc : 90.26%\n",
            "0 / 50000\n",
            "epoch : 8, train loss : 0.2384, train acc : 91.26 valid loss : 0.2660, valid acc : 90.19%\n",
            "0 / 50000\n",
            "epoch : 9, train loss : 0.2160, train acc : 92.01 valid loss : 0.2381, valid acc : 90.88%\n",
            "0 / 50000\n",
            "epoch : 10, train loss : 0.1939, train acc : 92.71 valid loss : 0.2326, valid acc : 91.25%\n",
            "0 / 50000\n",
            "epoch : 11, train loss : 0.1773, train acc : 93.44 valid loss : 0.2425, valid acc : 91.15%\n",
            "0 / 50000\n",
            "epoch : 12, train loss : 0.1602, train acc : 94.04 valid loss : 0.2208, valid acc : 91.81%\n",
            "0 / 50000\n",
            "epoch : 13, train loss : 0.1465, train acc : 94.56 valid loss : 0.2699, valid acc : 91.15%\n",
            "0 / 50000\n",
            "epoch : 14, train loss : 0.1364, train acc : 94.87 valid loss : 0.2460, valid acc : 91.41%\n",
            "0 / 50000\n",
            "epoch : 15, train loss : 0.1226, train acc : 95.43 valid loss : 0.2286, valid acc : 92.04%\n",
            "0 / 50000\n",
            "epoch : 16, train loss : 0.1130, train acc : 95.79 valid loss : 0.2542, valid acc : 92.06%\n",
            "0 / 50000\n",
            "epoch : 17, train loss : 0.1009, train acc : 96.29 valid loss : 0.2463, valid acc : 92.16%\n",
            "0 / 50000\n",
            "epoch : 18, train loss : 0.0920, train acc : 96.52 valid loss : 0.2477, valid acc : 92.07%\n",
            "0 / 50000\n",
            "epoch : 19, train loss : 0.0881, train acc : 96.69 valid loss : 0.2662, valid acc : 91.92%\n",
            "0 / 50000\n",
            "epoch : 20, train loss : 0.0799, train acc : 97.10 valid loss : 0.2911, valid acc : 91.50%\n",
            "best val acc: 92.16, best train loss: 0.07986528503417968\n"
          ],
          "name": "stdout"
        }
      ]
    },
    {
      "cell_type": "code",
      "metadata": {
        "id": "-KS8mJXcNz63",
        "colab_type": "code",
        "colab": {}
      },
      "source": [
        "checkpoint = torch.load('res18sch.pth')\n",
        "model18.load_state_dict(checkpoint['model_state_dict'])\n",
        "optimizer.load_state_dict(checkpoint['optimizer_state_dict'])\n",
        "start_epoch = checkpoint['epoch']\n",
        "mean_train_losses = checkpoint['train loss']\n",
        "train_acc_list=checkpoint['train acc']\n",
        "mean_valid_losses = checkpoint['valid loss']\n",
        "valid_acc_list=checkpoint['valid acc']"
      ],
      "execution_count": 0,
      "outputs": []
    },
    {
      "cell_type": "code",
      "metadata": {
        "id": "KOf_9u_nQVhO",
        "colab_type": "code",
        "outputId": "804144aa-7e20-49ab-ff13-17e01bb5f365",
        "colab": {
          "base_uri": "https://localhost:8080/",
          "height": 612
        }
      },
      "source": [
        "fig, (ax1, ax2) = plt.subplots(nrows=1, ncols=2, figsize=(15, 10))\n",
        "ax1.plot(mean_train_losses, label='train')\n",
        "ax1.plot(mean_valid_losses, label='valid')\n",
        "lines, labels = ax1.get_legend_handles_labels()\n",
        "ax1.legend(lines, labels, loc='best')\n",
        "ax2.plot(valid_acc_list, label='valid acc')\n",
        "ax2.plot(train_acc_list, label='train acc')\n",
        "lines, labels = ax2.get_legend_handles_labels()\n",
        "ax2.legend(lines, labels, loc='best')"
      ],
      "execution_count": 0,
      "outputs": [
        {
          "output_type": "execute_result",
          "data": {
            "text/plain": [
              "<matplotlib.legend.Legend at 0x7f93a03e9eb8>"
            ]
          },
          "metadata": {
            "tags": []
          },
          "execution_count": 24
        },
        {
          "output_type": "display_data",
          "data": {
            "image/png": "[encoded data removed]",
            "text/plain": [
              "<Figure size 1080x720 with 2 Axes>"
            ]
          },
          "metadata": {
            "tags": []
          }
        }
      ]
    },
    {
      "cell_type": "code",
      "metadata": {
        "id": "WvMjsDNbu7zS",
        "colab_type": "code",
        "colab": {}
      },
      "source": [
        "test_acc_list=[]"
      ],
      "execution_count": 0,
      "outputs": []
    },
    {
      "cell_type": "code",
      "metadata": {
        "id": "X3dMWxm2tfId",
        "colab_type": "code",
        "outputId": "aad6cd18-0cba-4d1a-c687-7fbaf4df40de",
        "colab": {
          "base_uri": "https://localhost:8080/",
          "height": 372
        }
      },
      "source": [
        "for epoch in range (start_epoch):\n",
        "    correct_te = 0\n",
        "    total_te = 0\n",
        "    with torch.no_grad():\n",
        "        for i, data in enumerate(testloader):\n",
        "            images,labels=data\n",
        "            images,labels=images.to(device),labels.to(device)\n",
        "            outputs = model18(images)\n",
        "            _, predicted_v = torch.max(outputs.data, 1)\n",
        "            correct_te += (predicted_v == labels).sum().item()\n",
        "            total_te += labels.size(0)\n",
        "    accuracy_te = 100*correct_te/total_te\n",
        "    test_acc_list.append(accuracy_te)\n",
        "    print('epoch: {0}, test accuracy: {1}%'.format(epoch+1,accuracy_te))"
      ],
      "execution_count": 0,
      "outputs": [
        {
          "output_type": "stream",
          "text": [
            "epoch: 1, test accuracy: 91.26%\n",
            "epoch: 2, test accuracy: 91.24%\n",
            "epoch: 3, test accuracy: 91.24%\n",
            "epoch: 4, test accuracy: 91.21%\n",
            "epoch: 5, test accuracy: 91.31%\n",
            "epoch: 6, test accuracy: 91.12%\n",
            "epoch: 7, test accuracy: 91.31%\n",
            "epoch: 8, test accuracy: 91.23%\n",
            "epoch: 9, test accuracy: 91.13%\n",
            "epoch: 10, test accuracy: 91.2%\n",
            "epoch: 11, test accuracy: 91.2%\n",
            "epoch: 12, test accuracy: 91.28%\n",
            "epoch: 13, test accuracy: 91.12%\n",
            "epoch: 14, test accuracy: 91.42%\n",
            "epoch: 15, test accuracy: 91.19%\n",
            "epoch: 16, test accuracy: 91.33%\n",
            "epoch: 17, test accuracy: 91.2%\n",
            "epoch: 18, test accuracy: 91.2%\n",
            "epoch: 19, test accuracy: 91.27%\n",
            "epoch: 20, test accuracy: 91.23%\n"
          ],
          "name": "stdout"
        }
      ]
    },
    {
      "cell_type": "markdown",
      "metadata": {
        "id": "l28hxvK3QrQJ",
        "colab_type": "text"
      },
      "source": [
        "#Resnet50"
      ]
    },
    {
      "cell_type": "code",
      "metadata": {
        "id": "xJV8c8MXrrR5",
        "colab_type": "code",
        "colab": {}
      },
      "source": [
        "def resnet50(pretrained=False, progress=True, **kwargs):\n",
        "    \"\"\"Constructs a ResNet-50 model.\n",
        "    Args:\n",
        "        pretrained (bool): If True, returns a model pre-trained on ImageNet\n",
        "        progress (bool): If True, displays a progress bar of the download to stderr\n",
        "    \"\"\"\n",
        "    return _resnet('resnet50', Bottleneck, [3, 4, 6, 3], pretrained, progress,\n",
        "                   **kwargs)\n",
        "model50=resnet50().to(device)"
      ],
      "execution_count": 0,
      "outputs": []
    },
    {
      "cell_type": "code",
      "metadata": {
        "id": "wwR7TccxQ3PJ",
        "colab_type": "code",
        "colab": {}
      },
      "source": [
        "optimizer1=optim.SGD(model50.parameters(), lr=0.001, momentum=0.9)\n",
        "#optimizer = torch.optim.Adam(model.parameters(), lr=0.001)\n",
        "loss_fn1 = nn.CrossEntropyLoss()\n",
        "#loss_fn = nn.NLLLoss()\n",
        "#exp_lr_scheduler = lr_scheduler.StepLR(optimizer, step_size=7, gamma=0.1)"
      ],
      "execution_count": 0,
      "outputs": []
    },
    {
      "cell_type": "code",
      "metadata": {
        "id": "Hl_H4I0KRMzP",
        "colab_type": "code",
        "colab": {}
      },
      "source": [
        "mean_train_losses1 = []\n",
        "mean_valid_losses1 = []\n",
        "valid_acc_list1 = []\n",
        "train_acc_list1 =[]\n",
        "start_epoch1=0\n",
        "e1=5"
      ],
      "execution_count": 0,
      "outputs": []
    },
    {
      "cell_type": "code",
      "metadata": {
        "id": "qqZxoIp6RWAW",
        "colab_type": "code",
        "colab": {}
      },
      "source": [
        "for epoch in range(start_epoch1,20):\n",
        "    #exp_lr_scheduler.step()\n",
        "    model50.train()\n",
        "    \n",
        "    train_losses1 = []\n",
        "    valid_losses1 = []\n",
        "    model50.eval()\n",
        "    correct_t = 0\n",
        "    total_t = 0\n",
        "    for i, data in enumerate(trainloader1):\n",
        "        images,labels=data\n",
        "        images,labels=images.to(device),labels.to(device)\n",
        "        \n",
        "        optimizer1.zero_grad()\n",
        "        \n",
        "        outputs = model50(images)\n",
        "        loss = loss_fn1(outputs, labels)\n",
        "        loss.backward()\n",
        "        optimizer1.step()\n",
        "        \n",
        "        train_losses.append(loss.item())\n",
        "        \n",
        "        _, predicted_t = torch.max(outputs.data, 1)\n",
        "        correct_t += (predicted_t == labels).sum().item()\n",
        "        total_t += labels.size(0)\n",
        "        if (i * 100) % (100 * 100) == 0:\n",
        "            print(f'{i * 100} / 50000')\n",
        "            \n",
        "    model50.eval()\n",
        "    correct_v = 0\n",
        "    total_v = 0\n",
        "    with torch.no_grad():\n",
        "        for i, data in enumerate(validloader):\n",
        "            images,labels=data\n",
        "            images,labels=images.to(device),labels.to(device)\n",
        "            outputs = model50(images)\n",
        "            loss = loss_fn1(outputs, labels)\n",
        "            \n",
        "            valid_losses.append(loss.item())\n",
        "            \n",
        "            _, predicted_v = torch.max(outputs.data, 1)\n",
        "            correct_v += (predicted_v == labels).sum().item()\n",
        "            total_v += labels.size(0)\n",
        "            \n",
        "    m_t_l=np.mean(train_losses)\n",
        "    m_v_l=np.mean(valid_losses)\n",
        "            \n",
        "    mean_train_losses1.append(m_t_l)\n",
        "    mean_valid_losses1.append(m_v_l)\n",
        "    \n",
        "    accuracy_v = 100*correct_v/total_v\n",
        "    accuracy_t = 100*correct_t/total_t\n",
        "    valid_acc_list1.append(accuracy_v)\n",
        "    train_acc_list1.append(accuracy_t)\n",
        "    \n",
        "        #save\n",
        "    torch.save({'epoch': epoch+1, 'model_state_dict': model50.state_dict(),'optimizer_state_dict': optimizer1.state_dict(), 'train loss': mean_train_losses1,'train acc': train_acc_list1, 'valid loss':mean_valid_losses1, 'valid acc': valid_acc_list1}, 'res50sch.pth')\n",
        "    print('epoch : {}, train loss : {:.4f}, train acc : {:.2f} valid loss : {:.4f}, valid acc : {:.2f}%'.format(epoch+1, m_t_l, accuracy_t, m_v_l, accuracy_v))\n",
        "print('best val acc: {0}, best train loss: {1}'.format(np.max(valid_acc_list1),np.min( mean_train_losses1)))"
      ],
      "execution_count": 0,
      "outputs": []
    },
    {
      "cell_type": "code",
      "metadata": {
        "id": "bYR_dZy5TTW2",
        "colab_type": "code",
        "colab": {}
      },
      "source": [
        "checkpoint = torch.load('res50sch.pth')\n",
        "model50.load_state_dict(checkpoint['model_state_dict'])\n",
        "optimizer1.load_state_dict(checkpoint['optimizer_state_dict'])\n",
        "start_epoch1 = checkpoint['epoch']\n",
        "mean_train_losses1 = checkpoint['train loss']\n",
        "train_acc_list1=checkpoint['train acc']\n",
        "mean_valid_losses1 = checkpoint['valid loss']\n",
        "valid_acc_list1=checkpoint['valid acc']"
      ],
      "execution_count": 0,
      "outputs": []
    },
    {
      "cell_type": "code",
      "metadata": {
        "id": "EMsVMBosUHaT",
        "colab_type": "code",
        "outputId": "2828d33c-a176-4a08-a756-4fb6ecfa8920",
        "colab": {
          "base_uri": "https://localhost:8080/",
          "height": 612
        }
      },
      "source": [
        "fig, (ax1, ax2) = plt.subplots(nrows=1, ncols=2, figsize=(15, 10))\n",
        "ax1.plot(mean_train_losses1, label='train')\n",
        "ax1.plot(mean_valid_losses1, label='valid')\n",
        "lines, labels = ax1.get_legend_handles_labels()\n",
        "ax1.legend(lines, labels, loc='best')\n",
        "ax2.plot(valid_acc_list1, label='valid acc')\n",
        "ax2.plot(train_acc_list1, label='train acc')\n",
        "lines, labels = ax2.get_legend_handles_labels()\n",
        "ax2.legend(lines, labels, loc='best')"
      ],
      "execution_count": 0,
      "outputs": [
        {
          "output_type": "execute_result",
          "data": {
            "text/plain": [
              "<matplotlib.legend.Legend at 0x7f6ca2f82668>"
            ]
          },
          "metadata": {
            "tags": []
          },
          "execution_count": 48
        },
        {
          "output_type": "display_data",
          "data": {
            "image/png": "[encoded data removed]",
            "text/plain": [
              "<Figure size 1080x720 with 2 Axes>"
            ]
          },
          "metadata": {
            "tags": []
          }
        }
      ]
    },
    {
      "cell_type": "markdown",
      "metadata": {
        "id": "BysFF20Fyzx_",
        "colab_type": "text"
      },
      "source": [
        "#Resnet50 sch"
      ]
    },
    {
      "cell_type": "code",
      "metadata": {
        "id": "Qno5-PDhy5Ax",
        "colab_type": "code",
        "colab": {}
      },
      "source": [
        "optimizer1=optim.SGD(model50.parameters(), lr=0.001, momentum=0.9)\n",
        "#optimizer = torch.optim.Adam(model.parameters(), lr=0.001)\n",
        "loss_fn1 = nn.CrossEntropyLoss()\n",
        "#loss_fn = nn.NLLLoss()\n",
        "exp_lr_scheduler = lr_scheduler.StepLR(optimizer1, step_size=10, gamma=0.1)"
      ],
      "execution_count": 0,
      "outputs": []
    },
    {
      "cell_type": "code",
      "metadata": {
        "id": "VzAK60_XzIDA",
        "colab_type": "code",
        "colab": {}
      },
      "source": [
        "mean_train_losses1 = []\n",
        "mean_valid_losses1 = []\n",
        "valid_acc_list1 = []\n",
        "train_acc_list1 =[]\n",
        "start_epoch1=0\n",
        "e1=5"
      ],
      "execution_count": 0,
      "outputs": []
    },
    {
      "cell_type": "code",
      "metadata": {
        "id": "2txaBiljzQtm",
        "colab_type": "code",
        "outputId": "c9970e79-482b-435c-e074-2a37d02eefee",
        "colab": {
          "base_uri": "https://localhost:8080/",
          "height": 567
        }
      },
      "source": [
        "for epoch in range(start_epoch1,20):\n",
        "    exp_lr_scheduler.step()\n",
        "    model50.train()\n",
        "    \n",
        "    train_losses1 = []\n",
        "    valid_losses1 = []\n",
        "    model50.eval()\n",
        "    correct_t = 0\n",
        "    total_t = 0\n",
        "    for i, data in enumerate(trainloader1):\n",
        "        images,labels=data\n",
        "        images,labels=images.to(device),labels.to(device)\n",
        "        \n",
        "        optimizer1.zero_grad()\n",
        "        \n",
        "        outputs = model50(images)\n",
        "        loss = loss_fn1(outputs, labels)\n",
        "        loss.backward()\n",
        "        optimizer1.step()\n",
        "        \n",
        "        train_losses.append(loss.item())\n",
        "        \n",
        "        _, predicted_t = torch.max(outputs.data, 1)\n",
        "        correct_t += (predicted_t == labels).sum().item()\n",
        "        total_t += labels.size(0)\n",
        "        \n",
        "        if (i * 100) % (100 * 100) == 0:\n",
        "            print(f'{i * 100} / 50000')\n",
        "            \n",
        "    model50.eval()\n",
        "    correct_v = 0\n",
        "    total_v = 0\n",
        "    with torch.no_grad():\n",
        "        for i, data in enumerate(validloader):\n",
        "            images,labels=data\n",
        "            images,labels=images.to(device),labels.to(device)\n",
        "            outputs = model50(images)\n",
        "            loss = loss_fn1(outputs, labels)\n",
        "            \n",
        "            valid_losses.append(loss.item())\n",
        "            \n",
        "            _, predicted_v = torch.max(outputs.data, 1)\n",
        "            correct_v += (predicted_v == labels).sum().item()\n",
        "            total_v += labels.size(0)\n",
        "            \n",
        "    m_t_l=np.mean(train_losses)\n",
        "    m_v_l=np.mean(valid_losses)\n",
        "            \n",
        "    mean_train_losses1.append(m_t_l)\n",
        "    mean_valid_losses1.append(m_v_l)\n",
        "    \n",
        "    accuracy_v = 100*correct_v/total_v\n",
        "    accuracy_t = 100*correct_t/total_t\n",
        "    valid_acc_list1.append(accuracy_v)\n",
        "    train_acc_list1.append(accuracy_t)\n",
        "    \n",
        "        #save\n",
        "    torch.save({'epoch': epoch+1, 'model_state_dict': model50.state_dict(),'optimizer_state_dict': optimizer1.state_dict(), 'train loss': mean_train_losses1,'train acc': train_acc_list1, 'valid loss':mean_valid_losses1, 'valid acc': valid_acc_list1}, 'res50sch.pth')\n",
        "    print('epoch : {}, train loss : {:.4f}, train acc : {:.2f} valid loss : {:.4f}, valid acc : {:.2f}%'.format(epoch+1, m_t_l, accuracy_t, m_v_l, accuracy_v))\n",
        "print('best val acc: {0}, best train loss: {1}'.format(np.max(valid_acc_list1),np.min( mean_train_losses1)))"
      ],
      "execution_count": 0,
      "outputs": [
        {
          "output_type": "stream",
          "text": [
            "0 / 50000\n",
            "10000 / 50000\n",
            "20000 / 50000\n",
            "30000 / 50000\n",
            "40000 / 50000\n",
            "epoch : 16, train loss : 0.3755, train acc : 95.54 valid loss : 0.3589, valid acc : 91.69%\n",
            "0 / 50000\n",
            "10000 / 50000\n",
            "20000 / 50000\n",
            "30000 / 50000\n",
            "40000 / 50000\n",
            "epoch : 17, train loss : 0.3713, train acc : 95.87 valid loss : 0.3568, valid acc : 91.79%\n",
            "0 / 50000\n",
            "10000 / 50000\n",
            "20000 / 50000\n",
            "30000 / 50000\n",
            "40000 / 50000\n",
            "epoch : 18, train loss : 0.3671, train acc : 96.06 valid loss : 0.3548, valid acc : 91.78%\n",
            "0 / 50000\n",
            "10000 / 50000\n",
            "20000 / 50000\n",
            "30000 / 50000\n",
            "40000 / 50000\n",
            "epoch : 19, train loss : 0.3631, train acc : 96.19 valid loss : 0.3528, valid acc : 91.94%\n",
            "0 / 50000\n",
            "10000 / 50000\n",
            "20000 / 50000\n",
            "30000 / 50000\n",
            "40000 / 50000\n",
            "epoch : 20, train loss : 0.3590, train acc : 96.56 valid loss : 0.3509, valid acc : 92.02%\n",
            "best val acc: 92.03, best train loss: 0.3589940136902011\n"
          ],
          "name": "stdout"
        }
      ]
    },
    {
      "cell_type": "code",
      "metadata": {
        "id": "lZh8mCGY4JSV",
        "colab_type": "code",
        "colab": {}
      },
      "source": [
        "checkpoint = torch.load('res50sch.pth')\n",
        "model50.load_state_dict(checkpoint['model_state_dict'])\n",
        "optimizer1.load_state_dict(checkpoint['optimizer_state_dict'])\n",
        "start_epoch1 = checkpoint['epoch']\n",
        "mean_train_losses1 = checkpoint['train loss']\n",
        "train_acc_list1=checkpoint['train acc']\n",
        "mean_valid_losses1 = checkpoint['valid loss']\n",
        "valid_acc_list1=checkpoint['valid acc']"
      ],
      "execution_count": 0,
      "outputs": []
    },
    {
      "cell_type": "code",
      "metadata": {
        "id": "0m5eFBR04P5P",
        "colab_type": "code",
        "outputId": "f701d293-4667-41d7-bbf5-d725451c4719",
        "colab": {
          "base_uri": "https://localhost:8080/",
          "height": 612
        }
      },
      "source": [
        "fig, (ax1, ax2) = plt.subplots(nrows=1, ncols=2, figsize=(15, 10))\n",
        "ax1.plot(mean_train_losses1, label='train')\n",
        "ax1.plot(mean_valid_losses1, label='valid')\n",
        "lines, labels = ax1.get_legend_handles_labels()\n",
        "ax1.legend(lines, labels, loc='best')\n",
        "ax2.plot(valid_acc_list1, label='valid acc')\n",
        "ax2.plot(train_acc_list1, label='train acc')\n",
        "lines, labels = ax2.get_legend_handles_labels()\n",
        "ax2.legend(lines, labels, loc='best')"
      ],
      "execution_count": 0,
      "outputs": [
        {
          "output_type": "execute_result",
          "data": {
            "text/plain": [
              "<matplotlib.legend.Legend at 0x7f6ca2a04e10>"
            ]
          },
          "metadata": {
            "tags": []
          },
          "execution_count": 84
        },
        {
          "output_type": "display_data",
          "data": {
            "image/png": "[encoded data removed]",
            "text/plain": [
              "<Figure size 1080x720 with 2 Axes>"
            ]
          },
          "metadata": {
            "tags": []
          }
        }
      ]
    },
    {
      "cell_type": "markdown",
      "metadata": {
        "id": "M-IEFD2-WlWn",
        "colab_type": "text"
      },
      "source": [
        "#Resnet50 sch lr momen"
      ]
    },
    {
      "cell_type": "code",
      "metadata": {
        "id": "zafLYUj-WjjJ",
        "colab_type": "code",
        "colab": {}
      },
      "source": [
        "optimizer1a=optim.SGD(model50.parameters(), lr=0.001, momentum=0.8, weight_decay=0.003)\n",
        "#optimizer = torch.optim.Adam(model.parameters(), lr=0.001)\n",
        "loss_fn1a = nn.CrossEntropyLoss()\n",
        "#loss_fn = nn.NLLLoss()\n",
        "exp_lr_scheduler1a = lr_scheduler.StepLR(optimizer1a, step_size=10, gamma=0.1)"
      ],
      "execution_count": 0,
      "outputs": []
    },
    {
      "cell_type": "code",
      "metadata": {
        "id": "UHowkwtsWxFr",
        "colab_type": "code",
        "colab": {}
      },
      "source": [
        "mean_train_losses1a = []\n",
        "mean_valid_losses1a = []\n",
        "valid_acc_list1a = []\n",
        "train_acc_list1a =[]\n",
        "start_epoch1a=0\n",
        "e1a=5"
      ],
      "execution_count": 0,
      "outputs": []
    },
    {
      "cell_type": "code",
      "metadata": {
        "id": "yfFrQu_OXPej",
        "colab_type": "code",
        "outputId": "ddc6e8bf-b80e-4a76-ff95-521c71791b28",
        "colab": {
          "base_uri": "https://localhost:8080/",
          "height": 1000
        }
      },
      "source": [
        "for epoch in range(start_epoch1a,20):\n",
        "    exp_lr_scheduler1a.step()\n",
        "    model50.train()\n",
        "    \n",
        "    train_losses = []\n",
        "    valid_losses = []\n",
        "    model50.eval()\n",
        "    correct_t = 0\n",
        "    total_t = 0\n",
        "    for i, data in enumerate(trainloader1):\n",
        "        images,labels=data\n",
        "        images,labels=images.to(device),labels.to(device)\n",
        "        \n",
        "        optimizer1a.zero_grad()\n",
        "        \n",
        "        outputs = model50(images)\n",
        "        loss = loss_fn1a(outputs, labels)\n",
        "        loss.backward()\n",
        "        optimizer1a.step()\n",
        "        \n",
        "        train_losses.append(loss.item())\n",
        "        \n",
        "        _, predicted_t = torch.max(outputs.data, 1)\n",
        "        correct_t += (predicted_t == labels).sum().item()\n",
        "        total_t += labels.size(0)\n",
        "        \n",
        "        if (i * 1500) % (1500* 1500) == 0:\n",
        "            print(f'{i * 10} / 50000')\n",
        "            \n",
        "    model50.eval()\n",
        "    correct_v = 0\n",
        "    total_v = 0\n",
        "    with torch.no_grad():\n",
        "        for i, data in enumerate(validloader):\n",
        "            images,labels=data\n",
        "            images,labels=images.to(device),labels.to(device)\n",
        "            outputs = model50(images)\n",
        "            loss = loss_fn1a(outputs, labels)\n",
        "            \n",
        "            valid_losses.append(loss.item())\n",
        "            \n",
        "            _, predicted_v = torch.max(outputs.data, 1)\n",
        "            correct_v += (predicted_v == labels).sum().item()\n",
        "            total_v += labels.size(0)\n",
        "            \n",
        "    m_t_l=np.mean(train_losses)\n",
        "    m_v_l=np.mean(valid_losses)\n",
        "            \n",
        "    mean_train_losses1a.append(m_t_l)\n",
        "    mean_valid_losses1a.append(m_v_l)\n",
        "    \n",
        "    accuracy_v = 100*correct_v/total_v\n",
        "    accuracy_t = 100*correct_t/total_t\n",
        "    valid_acc_list1a.append(accuracy_v)\n",
        "    train_acc_list1a.append(accuracy_t)\n",
        "    \n",
        "        #save\n",
        "    torch.save({'epoch': epoch+1, 'model_state_dict': model50.state_dict(),'optimizer_state_dict': optimizer1a.state_dict(), 'train loss': mean_train_losses1a,'train acc': train_acc_list1a, 'valid loss':mean_valid_losses1a, 'valid acc': valid_acc_list1a}, 'res50schwm.pth')\n",
        "    print('epoch : {}, train loss : {:.4f}, train acc : {:.2f} valid loss : {:.4f}, valid acc : {:.2f}%'.format(epoch+1, m_t_l, accuracy_t, m_v_l, accuracy_v))\n",
        "print('best val acc: {0}, best train loss: {1}'.format(np.max(valid_acc_list1a),np.min( mean_train_losses1a)))"
      ],
      "execution_count": 0,
      "outputs": [
        {
          "output_type": "stream",
          "text": [
            "0 / 50000\n",
            "15000 / 50000\n",
            "30000 / 50000\n",
            "45000 / 50000\n",
            "60000 / 50000\n",
            "epoch : 1, train loss : 0.6819, train acc : 75.75 valid loss : 0.5595, valid acc : 79.64%\n",
            "0 / 50000\n",
            "15000 / 50000\n",
            "30000 / 50000\n",
            "45000 / 50000\n",
            "60000 / 50000\n",
            "epoch : 2, train loss : 0.5209, train acc : 81.08 valid loss : 0.4633, valid acc : 83.30%\n",
            "0 / 50000\n",
            "15000 / 50000\n",
            "30000 / 50000\n",
            "45000 / 50000\n",
            "60000 / 50000\n",
            "epoch : 3, train loss : 0.4465, train acc : 83.74 valid loss : 0.4390, valid acc : 83.72%\n",
            "0 / 50000\n",
            "15000 / 50000\n",
            "30000 / 50000\n",
            "45000 / 50000\n",
            "60000 / 50000\n",
            "epoch : 4, train loss : 0.4067, train acc : 85.13 valid loss : 0.3903, valid acc : 86.14%\n",
            "0 / 50000\n",
            "15000 / 50000\n",
            "30000 / 50000\n",
            "45000 / 50000\n",
            "60000 / 50000\n",
            "epoch : 5, train loss : 0.3726, train acc : 86.42 valid loss : 0.4249, valid acc : 84.59%\n",
            "0 / 50000\n",
            "15000 / 50000\n",
            "30000 / 50000\n",
            "45000 / 50000\n",
            "60000 / 50000\n",
            "epoch : 6, train loss : 0.3449, train acc : 87.41 valid loss : 0.3829, valid acc : 86.21%\n",
            "0 / 50000\n",
            "15000 / 50000\n",
            "30000 / 50000\n",
            "45000 / 50000\n",
            "60000 / 50000\n",
            "epoch : 7, train loss : 0.3277, train acc : 88.03 valid loss : 0.3512, valid acc : 87.15%\n",
            "0 / 50000\n",
            "15000 / 50000\n",
            "30000 / 50000\n",
            "45000 / 50000\n",
            "60000 / 50000\n",
            "epoch : 8, train loss : 0.3067, train acc : 88.78 valid loss : 0.3398, valid acc : 87.58%\n",
            "0 / 50000\n",
            "15000 / 50000\n",
            "30000 / 50000\n",
            "45000 / 50000\n",
            "60000 / 50000\n",
            "epoch : 9, train loss : 0.2618, train acc : 90.49 valid loss : 0.3094, valid acc : 88.70%\n",
            "0 / 50000\n",
            "15000 / 50000\n",
            "30000 / 50000\n",
            "45000 / 50000\n",
            "60000 / 50000\n",
            "epoch : 10, train loss : 0.2499, train acc : 90.87 valid loss : 0.3093, valid acc : 88.66%\n",
            "0 / 50000\n",
            "15000 / 50000\n",
            "30000 / 50000\n",
            "45000 / 50000\n",
            "60000 / 50000\n",
            "epoch : 11, train loss : 0.2422, train acc : 91.26 valid loss : 0.3079, valid acc : 88.84%\n",
            "0 / 50000\n",
            "15000 / 50000\n",
            "30000 / 50000\n",
            "45000 / 50000\n",
            "60000 / 50000\n",
            "epoch : 12, train loss : 0.2386, train acc : 91.36 valid loss : 0.3062, valid acc : 88.89%\n",
            "0 / 50000\n",
            "15000 / 50000\n",
            "30000 / 50000\n",
            "45000 / 50000\n",
            "60000 / 50000\n",
            "epoch : 13, train loss : 0.2343, train acc : 91.52 valid loss : 0.3021, valid acc : 88.85%\n",
            "0 / 50000\n",
            "15000 / 50000\n",
            "30000 / 50000\n",
            "45000 / 50000\n",
            "60000 / 50000\n",
            "epoch : 14, train loss : 0.2295, train acc : 91.73 valid loss : 0.3030, valid acc : 88.98%\n",
            "0 / 50000\n",
            "15000 / 50000\n",
            "30000 / 50000\n",
            "45000 / 50000\n",
            "60000 / 50000\n",
            "epoch : 15, train loss : 0.2266, train acc : 91.90 valid loss : 0.3041, valid acc : 89.04%\n",
            "0 / 50000\n",
            "15000 / 50000\n",
            "30000 / 50000\n",
            "45000 / 50000\n",
            "60000 / 50000\n",
            "epoch : 16, train loss : 0.2234, train acc : 92.08 valid loss : 0.2994, valid acc : 88.82%\n",
            "0 / 50000\n",
            "15000 / 50000\n",
            "30000 / 50000\n",
            "45000 / 50000\n",
            "60000 / 50000\n",
            "epoch : 17, train loss : 0.2190, train acc : 92.20 valid loss : 0.3014, valid acc : 89.03%\n",
            "0 / 50000\n",
            "15000 / 50000\n",
            "30000 / 50000\n",
            "45000 / 50000\n",
            "60000 / 50000\n",
            "epoch : 18, train loss : 0.2166, train acc : 92.24 valid loss : 0.2999, valid acc : 88.94%\n",
            "0 / 50000\n",
            "15000 / 50000\n",
            "30000 / 50000\n",
            "45000 / 50000\n",
            "60000 / 50000\n",
            "epoch : 19, train loss : 0.2094, train acc : 92.61 valid loss : 0.3011, valid acc : 88.86%\n",
            "0 / 50000\n",
            "15000 / 50000\n",
            "30000 / 50000\n",
            "45000 / 50000\n",
            "60000 / 50000\n",
            "epoch : 20, train loss : 0.2097, train acc : 92.62 valid loss : 0.2973, valid acc : 89.05%\n",
            "best val acc: 89.05, best train loss: 0.20940907218456267\n"
          ],
          "name": "stdout"
        }
      ]
    },
    {
      "cell_type": "code",
      "metadata": {
        "id": "H535E_OPYh1E",
        "colab_type": "code",
        "colab": {}
      },
      "source": [
        "checkpoint = torch.load('res50schwm.pth')\n",
        "model50.load_state_dict(checkpoint['model_state_dict'])\n",
        "optimizer1a.load_state_dict(checkpoint['optimizer_state_dict'])\n",
        "start_epoch1a = checkpoint['epoch']\n",
        "mean_train_losses1a = checkpoint['train loss']\n",
        "train_acc_list1a=checkpoint['train acc']\n",
        "mean_valid_losses1a = checkpoint['valid loss']\n",
        "valid_acc_list1a=checkpoint['valid acc']"
      ],
      "execution_count": 0,
      "outputs": []
    },
    {
      "cell_type": "code",
      "metadata": {
        "id": "93axLxVNYy-G",
        "colab_type": "code",
        "outputId": "9c4ac1ef-68ff-4618-a3a7-91a40283f6b8",
        "colab": {
          "base_uri": "https://localhost:8080/",
          "height": 612
        }
      },
      "source": [
        "fig, (ax1, ax2) = plt.subplots(nrows=1, ncols=2, figsize=(15, 10))\n",
        "ax1.plot(mean_train_losses1a, label='train')\n",
        "ax1.plot(mean_valid_losses1a, label='valid')\n",
        "lines, labels = ax1.get_legend_handles_labels()\n",
        "ax1.legend(lines, labels, loc='best')\n",
        "ax2.plot(valid_acc_list1a, label='valid acc')\n",
        "ax2.plot(train_acc_list1a, label='train acc')\n",
        "lines, labels = ax2.get_legend_handles_labels()\n",
        "ax2.legend(lines, labels, loc='best')"
      ],
      "execution_count": 0,
      "outputs": [
        {
          "output_type": "execute_result",
          "data": {
            "text/plain": [
              "<matplotlib.legend.Legend at 0x7f939862b9b0>"
            ]
          },
          "metadata": {
            "tags": []
          },
          "execution_count": 60
        },
        {
          "output_type": "display_data",
          "data": {
            "image/png": "[encoded data removed]",
            "text/plain": [
              "<Figure size 1080x720 with 2 Axes>"
            ]
          },
          "metadata": {
            "tags": []
          }
        }
      ]
    },
    {
      "cell_type": "code",
      "metadata": {
        "id": "oc7RIk9D7EoY",
        "colab_type": "code",
        "colab": {}
      },
      "source": [
        "test_acc_list1a=[]"
      ],
      "execution_count": 0,
      "outputs": []
    },
    {
      "cell_type": "code",
      "metadata": {
        "id": "nyDh4J5t1wW6",
        "colab_type": "code",
        "outputId": "79990af6-aa0a-40f1-dc79-d33bca197438",
        "colab": {
          "base_uri": "https://localhost:8080/",
          "height": 390
        }
      },
      "source": [
        "for epoch in range (start_epoch1a):\n",
        "    correct_te = 0\n",
        "    total_te = 0\n",
        "    model50.eval()\n",
        "    with torch.no_grad():\n",
        "        for i, data in enumerate(testloader):\n",
        "            images,labels=data\n",
        "            images,labels=images.to(device),labels.to(device)\n",
        "            outputs = model50(images)\n",
        "            _, predicted_te = torch.max(outputs.data, 1)\n",
        "            correct_te += (predicted_te == labels).sum().item()\n",
        "            total_te += labels.size(0)\n",
        "    accuracy_te = 100*correct_te/total_te\n",
        "    test_acc_list1a.append(accuracy_te)\n",
        "    print('epoch: {0}, test accuracy: {1}%'.format(epoch+1,accuracy_te))\n",
        "print('rata2 : {}'.format(np.mean(test_acc_list1a)))"
      ],
      "execution_count": 0,
      "outputs": [
        {
          "output_type": "stream",
          "text": [
            "epoch: 1, test accuracy: 88.55%\n",
            "epoch: 2, test accuracy: 88.5%\n",
            "epoch: 3, test accuracy: 88.17%\n",
            "epoch: 4, test accuracy: 88.32%\n",
            "epoch: 5, test accuracy: 88.27%\n",
            "epoch: 6, test accuracy: 88.34%\n",
            "epoch: 7, test accuracy: 88.31%\n",
            "epoch: 8, test accuracy: 88.4%\n",
            "epoch: 9, test accuracy: 88.14%\n",
            "epoch: 10, test accuracy: 88.6%\n",
            "epoch: 11, test accuracy: 88.37%\n",
            "epoch: 12, test accuracy: 88.3%\n",
            "epoch: 13, test accuracy: 88.26%\n",
            "epoch: 14, test accuracy: 88.41%\n",
            "epoch: 15, test accuracy: 88.15%\n",
            "epoch: 16, test accuracy: 88.33%\n",
            "epoch: 17, test accuracy: 88.44%\n",
            "epoch: 18, test accuracy: 88.33%\n",
            "epoch: 19, test accuracy: 88.24%\n",
            "epoch: 20, test accuracy: 88.22%\n",
            "rata2 : 88.33250000000001\n"
          ],
          "name": "stdout"
        }
      ]
    },
    {
      "cell_type": "markdown",
      "metadata": {
        "id": "5O5A0mdHIJoQ",
        "colab_type": "text"
      },
      "source": [
        "#weight decay 0.04"
      ]
    },
    {
      "cell_type": "code",
      "metadata": {
        "id": "Z58eeUYpIbVW",
        "colab_type": "code",
        "colab": {}
      },
      "source": [
        "optimizer1b=optim.SGD(model50.parameters(), lr=0.001, momentum=0.8, weight_decay=0.004)\n",
        "#optimizer = torch.optim.Adam(model.parameters(), lr=0.001)\n",
        "loss_fn1b = nn.CrossEntropyLoss()\n",
        "#loss_fn = nn.NLLLoss()\n",
        "exp_lr_scheduler1b = lr_scheduler.StepLR(optimizer1b, step_size=10, gamma=0.1)"
      ],
      "execution_count": 0,
      "outputs": []
    },
    {
      "cell_type": "code",
      "metadata": {
        "id": "QfVJfFZYJALj",
        "colab_type": "code",
        "colab": {}
      },
      "source": [
        "mean_train_losses1b = []\n",
        "mean_valid_losses1b = []\n",
        "valid_acc_list1b = []\n",
        "train_acc_list1b =[]\n",
        "start_epoch1b =0\n",
        "e1b =5"
      ],
      "execution_count": 0,
      "outputs": []
    },
    {
      "cell_type": "code",
      "metadata": {
        "id": "pwpdnRT3JKwv",
        "colab_type": "code",
        "outputId": "0e9f2f3d-4078-4cc9-8039-fc0e9f72ad4c",
        "colab": {
          "base_uri": "https://localhost:8080/",
          "height": 1000
        }
      },
      "source": [
        "for epoch in range(start_epoch1b,20):\n",
        "    exp_lr_scheduler1b.step()\n",
        "    model50.train()\n",
        "    \n",
        "    train_losses = []\n",
        "    valid_losses = []\n",
        "    model50.eval()\n",
        "    correct_t = 0\n",
        "    total_t = 0\n",
        "    for i, data in enumerate(trainloader1):\n",
        "        images,labels=data\n",
        "        images,labels=images.to(device),labels.to(device)\n",
        "        \n",
        "        optimizer1b.zero_grad()\n",
        "        \n",
        "        outputs = model50(images)\n",
        "        loss = loss_fn1b(outputs, labels)\n",
        "        loss.backward()\n",
        "        optimizer1b.step()\n",
        "        \n",
        "        train_losses.append(loss.item())\n",
        "        \n",
        "        _, predicted_t = torch.max(outputs.data, 1)\n",
        "        correct_t += (predicted_t == labels).sum().item()\n",
        "        total_t += labels.size(0)\n",
        "        \n",
        "        if (i * 100) % (100 * 100) == 0:\n",
        "            print(f'{i * 100} / 50000')\n",
        "            \n",
        "    model50.eval()\n",
        "    correct_v = 0\n",
        "    total_v = 0\n",
        "    with torch.no_grad():\n",
        "        for i, data in enumerate(validloader):\n",
        "            images,labels=data\n",
        "            images,labels=images.to(device),labels.to(device)\n",
        "            outputs = model50(images)\n",
        "            loss = loss_fn1b(outputs, labels)\n",
        "            \n",
        "            valid_losses.append(loss.item())\n",
        "            \n",
        "            _, predicted_v = torch.max(outputs.data, 1)\n",
        "            correct_v += (predicted_v == labels).sum().item()\n",
        "            total_v += labels.size(0)\n",
        "            \n",
        "    m_t_l=np.mean(train_losses)\n",
        "    m_v_l=np.mean(valid_losses)\n",
        "            \n",
        "    mean_train_losses1b.append(m_t_l)\n",
        "    mean_valid_losses1b.append(m_v_l)\n",
        "    \n",
        "    accuracy_v = 100*correct_v/total_v\n",
        "    accuracy_t = 100*correct_t/total_t\n",
        "    valid_acc_list1b.append(accuracy_v)\n",
        "    train_acc_list1b.append(accuracy_t)\n",
        "    \n",
        "        #save\n",
        "    torch.save({'epoch': epoch+1, 'model_state_dict': model50.state_dict(),'optimizer_state_dict': optimizer1b.state_dict(), 'train loss': mean_train_losses1b,'train acc': train_acc_list1b, 'valid loss':mean_valid_losses1b, 'valid acc': valid_acc_list1b}, 'res50schwm.pth')\n",
        "    print('epoch : {}, train loss : {:.4f}, train acc : {:.2f} valid loss : {:.4f}, valid acc : {:.2f}%'.format(epoch+1, m_t_l, accuracy_t, m_v_l, accuracy_v))\n",
        "print('best val acc: {0}, best train loss: {1}'.format(np.max(valid_acc_list1b),np.min( mean_train_losses1b)))"
      ],
      "execution_count": 0,
      "outputs": [
        {
          "output_type": "stream",
          "text": [
            "0 / 50000\n",
            "10000 / 50000\n",
            "20000 / 50000\n",
            "30000 / 50000\n",
            "40000 / 50000\n",
            "epoch : 1, train loss : 2.2672, train acc : 17.87 valid loss : 2.0020, valid acc : 28.29%\n",
            "0 / 50000\n",
            "10000 / 50000\n",
            "20000 / 50000\n",
            "30000 / 50000\n",
            "40000 / 50000\n",
            "epoch : 2, train loss : 1.4747, train acc : 50.27 valid loss : 1.0518, valid acc : 64.74%\n",
            "0 / 50000\n",
            "10000 / 50000\n",
            "20000 / 50000\n",
            "30000 / 50000\n",
            "40000 / 50000\n",
            "epoch : 3, train loss : 0.7615, train acc : 74.28 valid loss : 0.4871, valid acc : 82.24%\n",
            "0 / 50000\n",
            "10000 / 50000\n",
            "20000 / 50000\n",
            "30000 / 50000\n",
            "40000 / 50000\n",
            "epoch : 4, train loss : 0.4494, train acc : 83.60 valid loss : 0.4118, valid acc : 85.29%\n",
            "0 / 50000\n",
            "10000 / 50000\n",
            "20000 / 50000\n",
            "30000 / 50000\n",
            "40000 / 50000\n",
            "epoch : 5, train loss : 0.3772, train acc : 86.40 valid loss : 0.3531, valid acc : 87.00%\n",
            "0 / 50000\n",
            "10000 / 50000\n",
            "20000 / 50000\n",
            "30000 / 50000\n",
            "40000 / 50000\n",
            "epoch : 6, train loss : 0.3423, train acc : 87.50 valid loss : 0.3436, valid acc : 87.36%\n",
            "0 / 50000\n",
            "10000 / 50000\n",
            "20000 / 50000\n",
            "30000 / 50000\n",
            "40000 / 50000\n",
            "epoch : 7, train loss : 0.3198, train acc : 88.29 valid loss : 0.3196, valid acc : 88.40%\n",
            "0 / 50000\n",
            "10000 / 50000\n",
            "20000 / 50000\n",
            "30000 / 50000\n",
            "40000 / 50000\n",
            "epoch : 8, train loss : 0.3092, train acc : 88.79 valid loss : 0.3039, valid acc : 88.57%\n",
            "0 / 50000\n",
            "10000 / 50000\n",
            "20000 / 50000\n",
            "30000 / 50000\n",
            "40000 / 50000\n",
            "epoch : 9, train loss : 0.2934, train acc : 89.29 valid loss : 0.2903, valid acc : 89.56%\n",
            "0 / 50000\n",
            "10000 / 50000\n",
            "20000 / 50000\n",
            "30000 / 50000\n",
            "40000 / 50000\n",
            "epoch : 10, train loss : 0.2511, train acc : 90.92 valid loss : 0.2632, valid acc : 90.47%\n",
            "0 / 50000\n",
            "10000 / 50000\n",
            "20000 / 50000\n",
            "30000 / 50000\n",
            "40000 / 50000\n",
            "epoch : 11, train loss : 0.2431, train acc : 91.14 valid loss : 0.2589, valid acc : 90.64%\n",
            "0 / 50000\n",
            "10000 / 50000\n",
            "20000 / 50000\n",
            "30000 / 50000\n",
            "40000 / 50000\n",
            "epoch : 12, train loss : 0.2418, train acc : 91.15 valid loss : 0.2601, valid acc : 90.68%\n",
            "0 / 50000\n",
            "10000 / 50000\n",
            "20000 / 50000\n",
            "30000 / 50000\n",
            "40000 / 50000\n",
            "epoch : 13, train loss : 0.2410, train acc : 91.31 valid loss : 0.2654, valid acc : 90.29%\n",
            "0 / 50000\n",
            "10000 / 50000\n",
            "20000 / 50000\n",
            "30000 / 50000\n",
            "40000 / 50000\n",
            "epoch : 14, train loss : 0.2379, train acc : 91.53 valid loss : 0.2601, valid acc : 90.48%\n",
            "0 / 50000\n",
            "10000 / 50000\n",
            "20000 / 50000\n",
            "30000 / 50000\n",
            "40000 / 50000\n",
            "epoch : 15, train loss : 0.2369, train acc : 91.47 valid loss : 0.2588, valid acc : 90.59%\n",
            "0 / 50000\n",
            "10000 / 50000\n",
            "20000 / 50000\n",
            "30000 / 50000\n",
            "40000 / 50000\n",
            "epoch : 16, train loss : 0.2370, train acc : 91.42 valid loss : 0.2502, valid acc : 90.96%\n",
            "0 / 50000\n",
            "10000 / 50000\n",
            "20000 / 50000\n",
            "30000 / 50000\n",
            "40000 / 50000\n",
            "epoch : 17, train loss : 0.2352, train acc : 91.39 valid loss : 0.2546, valid acc : 90.80%\n",
            "0 / 50000\n",
            "10000 / 50000\n",
            "20000 / 50000\n",
            "30000 / 50000\n",
            "40000 / 50000\n",
            "epoch : 18, train loss : 0.2330, train acc : 91.55 valid loss : 0.2544, valid acc : 90.85%\n",
            "0 / 50000\n",
            "10000 / 50000\n",
            "20000 / 50000\n",
            "30000 / 50000\n",
            "40000 / 50000\n",
            "epoch : 19, train loss : 0.2317, train acc : 91.60 valid loss : 0.2556, valid acc : 90.56%\n",
            "0 / 50000\n",
            "10000 / 50000\n",
            "20000 / 50000\n",
            "30000 / 50000\n",
            "40000 / 50000\n",
            "epoch : 20, train loss : 0.2260, train acc : 91.81 valid loss : 0.2502, valid acc : 90.78%\n",
            "best val acc: 90.96, best train loss: 0.2259643138051033\n"
          ],
          "name": "stdout"
        }
      ]
    },
    {
      "cell_type": "code",
      "metadata": {
        "id": "OdJOP4b6Jut2",
        "colab_type": "code",
        "colab": {}
      },
      "source": [
        "checkpoint = torch.load('res50schwm.pth')\n",
        "model50.load_state_dict(checkpoint['model_state_dict'])\n",
        "optimizer1b.load_state_dict(checkpoint['optimizer_state_dict'])\n",
        "start_epoch1b = checkpoint['epoch']\n",
        "mean_train_losses1b = checkpoint['train loss']\n",
        "train_acc_list1b=checkpoint['train acc']\n",
        "mean_valid_losses1b = checkpoint['valid loss']\n",
        "valid_acc_list1b=checkpoint['valid acc']"
      ],
      "execution_count": 0,
      "outputs": []
    },
    {
      "cell_type": "code",
      "metadata": {
        "id": "ax_IwbHTJ56L",
        "colab_type": "code",
        "outputId": "a7654881-3caf-4820-faca-3ccda2aadd1e",
        "colab": {
          "base_uri": "https://localhost:8080/",
          "height": 612
        }
      },
      "source": [
        "fig, (ax1, ax2) = plt.subplots(nrows=1, ncols=2, figsize=(15, 10))\n",
        "ax1.plot(mean_train_losses1b, label='train')\n",
        "ax1.plot(mean_valid_losses1b, label='valid')\n",
        "lines, labels = ax1.get_legend_handles_labels()\n",
        "ax1.legend(lines, labels, loc='best')\n",
        "ax2.plot(valid_acc_list1b, label='valid acc')\n",
        "ax2.plot(train_acc_list1b, label='train acc')\n",
        "lines, labels = ax2.get_legend_handles_labels()\n",
        "ax2.legend(lines, labels, loc='best')"
      ],
      "execution_count": 0,
      "outputs": [
        {
          "output_type": "execute_result",
          "data": {
            "text/plain": [
              "<matplotlib.legend.Legend at 0x7fe2225a5e80>"
            ]
          },
          "metadata": {
            "tags": []
          },
          "execution_count": 12
        },
        {
          "output_type": "display_data",
          "data": {
            "image/png": "[encoded data removed]",
            "text/plain": [
              "<Figure size 1080x720 with 2 Axes>"
            ]
          },
          "metadata": {
            "tags": []
          }
        }
      ]
    },
    {
      "cell_type": "markdown",
      "metadata": {
        "id": "Gckl4wXVNfiJ",
        "colab_type": "text"
      },
      "source": [
        "#ResNet101"
      ]
    },
    {
      "cell_type": "code",
      "metadata": {
        "id": "Acieb5noNzE5",
        "colab_type": "code",
        "colab": {}
      },
      "source": [
        "def resnet101(pretrained=False, progress=True, **kwargs):\n",
        "    \"\"\"Constructs a ResNet-101 model.\n",
        "    Args:\n",
        "        pretrained (bool): If True, returns a model pre-trained on ImageNet\n",
        "        progress (bool): If True, displays a progress bar of the download to stderr\n",
        "    \"\"\"\n",
        "    return _resnet('resnet101', Bottleneck, [3, 4, 23, 3], pretrained, progress,\n",
        "                   **kwargs)\n",
        "model101=resnet101().to(device)"
      ],
      "execution_count": 0,
      "outputs": []
    },
    {
      "cell_type": "code",
      "metadata": {
        "id": "qoN_mzC0ONBY",
        "colab_type": "code",
        "colab": {}
      },
      "source": [
        "#optimizer2=optim.SGD(model101.parameters(), lr=0.001, momentum=0.8)\n",
        "optimizer2 = torch.optim.Adam(model101.parameters(), lr=0.001)\n",
        "loss_fn2 = nn.CrossEntropyLoss()\n",
        "#loss_fn = nn.NLLLoss()\n",
        "#loss_fn2 = nn.MSELoss()\n",
        "exp_lr_scheduler = lr_scheduler.StepLR(optimizer2, step_size=2, gamma=0.01)"
      ],
      "execution_count": 0,
      "outputs": []
    },
    {
      "cell_type": "code",
      "metadata": {
        "id": "XkBhHzDZOfu9",
        "colab_type": "code",
        "colab": {}
      },
      "source": [
        "mean_train_losses2 = []\n",
        "mean_valid_losses2 = []\n",
        "valid_acc_list2 = []\n",
        "train_acc_list2=[]\n",
        "start_epoch2=0\n",
        "e2=5"
      ],
      "execution_count": 0,
      "outputs": []
    },
    {
      "cell_type": "code",
      "metadata": {
        "id": "5LGew66vOpux",
        "colab_type": "code",
        "outputId": "0b8db094-3932-4ce9-e077-5fada6f5cd68",
        "colab": {
          "base_uri": "https://localhost:8080/",
          "height": 123
        }
      },
      "source": [
        "for epoch in range(start_epoch2,10):\n",
        "    exp_lr_scheduler.step()\n",
        "    model101.train()\n",
        "    \n",
        "    train_losses = []\n",
        "    valid_losses = []\n",
        "    #model101.eval()\n",
        "    correct_t = 0\n",
        "    total_t = 0\n",
        "    for i, data in enumerate(trainloader1):\n",
        "        images,labels=data\n",
        "        images,labels=images.to(device),labels.to(device)\n",
        "        \n",
        "        optimizer2.zero_grad()\n",
        "        \n",
        "        outputs = model101(images)\n",
        "        loss = loss_fn2(outputs, labels)\n",
        "        loss.backward()\n",
        "        optimizer2.step()\n",
        "        \n",
        "        train_losses.append(loss.item())\n",
        "        \n",
        "        _, predicted_t = torch.max(outputs.data, 1)\n",
        "        correct_t += (predicted_t == labels).sum().item()\n",
        "        total_t += labels.size(0)\n",
        "        \n",
        "        if i%8000==0:\n",
        "            print(i)\n",
        "\n",
        "            \n",
        "    #model101.eval()\n",
        "    correct_v = 0\n",
        "    total_v = 0\n",
        "    with torch.no_grad():\n",
        "        for i, data in enumerate(validloader):\n",
        "            images,labels=data\n",
        "            images,labels=images.to(device),labels.to(device)\n",
        "            outputs = model101(images)\n",
        "            loss = loss_fn2(outputs, labels)\n",
        "            \n",
        "            valid_losses.append(loss.item())\n",
        "            \n",
        "            _, predicted_v = torch.max(outputs.data, 1)\n",
        "            correct_v += (predicted_v == labels).sum().item()\n",
        "            total_v += labels.size(0)\n",
        "            \n",
        "    m_t_l=np.mean(train_losses)\n",
        "    m_v_l=np.mean(valid_losses)\n",
        "            \n",
        "    mean_train_losses2.append(m_t_l)\n",
        "    mean_valid_losses2.append(m_v_l)\n",
        "    \n",
        "    accuracy_v = 100*correct_v/total_v\n",
        "    accuracy_t = 100*correct_t/total_t\n",
        "    valid_acc_list2.append(accuracy_v)\n",
        "    train_acc_list2.append(accuracy_t)\n",
        "    \n",
        "        #save\n",
        "    torch.save({'epoch': epoch+1, 'model_state_dict': model101.state_dict(),'optimizer_state_dict': optimizer2.state_dict(), 'train loss': mean_train_losses2,'train acc': train_acc_list2, 'valid loss':mean_valid_losses2, 'valid acc': valid_acc_list2}, 'resnet101.pth')\n",
        "    print('epoch : {}, train loss : {:.4f}, train acc : {:.2f} valid loss : {:.4f}, valid acc : {:.2f}%'.format(epoch+1, m_t_l, accuracy_t, m_v_l, accuracy_v))\n",
        "print('best val acc: {0}, best train loss: {1}'.format(np.max(valid_acc_list2),np.min(mean_train_losses2)))"
      ],
      "execution_count": 0,
      "outputs": [
        {
          "output_type": "stream",
          "text": [
            "epoch : 6, train loss : 0.4847, train acc : 82.35 valid loss : 0.5069, valid acc : 81.53%\n",
            "epoch : 7, train loss : 0.4823, train acc : 82.59 valid loss : 0.5033, valid acc : 82.07%\n",
            "epoch : 8, train loss : 0.4815, train acc : 82.59 valid loss : 0.5120, valid acc : 81.29%\n",
            "epoch : 9, train loss : 0.4771, train acc : 82.54 valid loss : 0.5078, valid acc : 81.58%\n",
            "epoch : 10, train loss : 0.4818, train acc : 82.48 valid loss : 0.5020, valid acc : 81.94%\n",
            "best val acc: 82.07, best train loss: 0.47712267370224\n"
          ],
          "name": "stdout"
        }
      ]
    },
    {
      "cell_type": "code",
      "metadata": {
        "id": "XOrt1qSqSGdK",
        "colab_type": "code",
        "colab": {}
      },
      "source": [
        "!cp '/content/drive/My Drive/Colab Notebooks/resnet101.pth' '/content/resnet101.pth'"
      ],
      "execution_count": 0,
      "outputs": []
    },
    {
      "cell_type": "code",
      "metadata": {
        "id": "X6gWQr0EPYgY",
        "colab_type": "code",
        "colab": {}
      },
      "source": [
        "checkpoint = torch.load('resnet101.pth')\n",
        "model101.load_state_dict(checkpoint['model_state_dict'])\n",
        "optimizer2.load_state_dict(checkpoint['optimizer_state_dict'])\n",
        "start_epoch2 = checkpoint['epoch']\n",
        "mean_train_losses2 = checkpoint['train loss']\n",
        "train_acc_list2=checkpoint['train acc']\n",
        "mean_valid_losses2 = checkpoint['valid loss']\n",
        "valid_acc_list2=checkpoint['valid acc']"
      ],
      "execution_count": 0,
      "outputs": []
    },
    {
      "cell_type": "code",
      "metadata": {
        "id": "o5skNp77QOEq",
        "colab_type": "code",
        "outputId": "35980a23-733f-4545-9eb2-9423077eb54c",
        "colab": {
          "base_uri": "https://localhost:8080/",
          "height": 612
        }
      },
      "source": [
        "fig, (ax1, ax2) = plt.subplots(nrows=1, ncols=2, figsize=(15, 10))\n",
        "ax1.plot(mean_train_losses2, label='train')\n",
        "ax1.plot(mean_valid_losses2, label='valid')\n",
        "lines, labels = ax1.get_legend_handles_labels()\n",
        "ax1.legend(lines, labels, loc='best')\n",
        "ax2.plot(valid_acc_list2, label='valid acc')\n",
        "ax2.plot(train_acc_list2, label='train acc')\n",
        "ax2.legend(lines, labels, loc='best')"
      ],
      "execution_count": 0,
      "outputs": [
        {
          "output_type": "execute_result",
          "data": {
            "text/plain": [
              "<matplotlib.legend.Legend at 0x7f38eef33550>"
            ]
          },
          "metadata": {
            "tags": []
          },
          "execution_count": 68
        },
        {
          "output_type": "display_data",
          "data": {
            "image/png": "[encoded data removed]",
            "text/plain": [
              "<Figure size 1080x720 with 2 Axes>"
            ]
          },
          "metadata": {
            "tags": []
          }
        }
      ]
    },
    {
      "cell_type": "code",
      "metadata": {
        "id": "1EJa2IrfS1Mv",
        "colab_type": "code",
        "colab": {}
      },
      "source": [
        "test_acc_list2=[]"
      ],
      "execution_count": 0,
      "outputs": []
    },
    {
      "cell_type": "code",
      "metadata": {
        "id": "DDcmvfWxSsAk",
        "colab_type": "code",
        "outputId": "37d20021-5258-40e9-ca55-e1f343a248ea",
        "colab": {
          "base_uri": "https://localhost:8080/",
          "height": 212
        }
      },
      "source": [
        "for epoch in range (start_epoch2):\n",
        "    correct_te = 0\n",
        "    total_te = 0\n",
        "    model101.eval()\n",
        "    with torch.no_grad():\n",
        "        for i, data in enumerate(testloader):\n",
        "            images,labels=data\n",
        "            images,labels=images.to(device),labels.to(device)\n",
        "            outputs = model101(images)\n",
        "            _, predicted_te = torch.max(outputs.data, 1)\n",
        "            correct_te += (predicted_te == labels).sum().item()\n",
        "            total_te += labels.size(0)\n",
        "    accuracy_te = 100*correct_te/total_te\n",
        "    test_acc_list2.append(accuracy_te)\n",
        "    print('epoch: {0}, test accuracy: {1}%'.format(epoch+1,accuracy_te))\n",
        "print('rata2 : {}'.format(np.mean(test_acc_list2)))"
      ],
      "execution_count": 0,
      "outputs": [
        {
          "output_type": "stream",
          "text": [
            "epoch: 1, test accuracy: 82.98%\n",
            "epoch: 2, test accuracy: 82.92%\n",
            "epoch: 3, test accuracy: 82.97%\n",
            "epoch: 4, test accuracy: 82.96%\n",
            "epoch: 5, test accuracy: 82.99%\n",
            "epoch: 6, test accuracy: 83.01%\n",
            "epoch: 7, test accuracy: 83.05%\n",
            "epoch: 8, test accuracy: 83.11%\n",
            "epoch: 9, test accuracy: 83.01%\n",
            "epoch: 10, test accuracy: 83.06%\n",
            "rata2 : 83.88916666666667\n"
          ],
          "name": "stdout"
        }
      ]
    },
    {
      "cell_type": "markdown",
      "metadata": {
        "id": "tz4lF4S3UU6h",
        "colab_type": "text"
      },
      "source": [
        "#Resnet152"
      ]
    },
    {
      "cell_type": "code",
      "metadata": {
        "id": "e3ncQhRh7yJ-",
        "colab_type": "code",
        "colab": {}
      },
      "source": [
        "def resnet152(pretrained=False, progress=True, **kwargs):\n",
        "    \"\"\"Constructs a ResNet-152 model.\n",
        "    Args:\n",
        "        pretrained (bool): If True, returns a model pre-trained on ImageNet\n",
        "        progress (bool): If True, displays a progress bar of the download to stderr\n",
        "    \"\"\"\n",
        "    return _resnet('resnet152', Bottleneck, [3, 8, 36, 3], pretrained, progress,\n",
        "                   **kwargs)\n",
        "model152=resnet152().to(device)"
      ],
      "execution_count": 0,
      "outputs": []
    },
    {
      "cell_type": "code",
      "metadata": {
        "id": "RkhOlpk2346H",
        "colab_type": "code",
        "colab": {}
      },
      "source": [
        "#optimizer3=optim.SGD(model152.parameters(), lr=0.00001)\n",
        "optimizer3 = torch.optim.Adam(model152.parameters(), lr=0.00001)\n",
        "loss_fn3 = nn.CrossEntropyLoss()\n",
        "#loss_fn = nn.NLLLoss()\n",
        "#exp_lr_scheduler = lr_scheduler.StepLR(optimizer3, step_size=2, gamma=0.1)"
      ],
      "execution_count": 0,
      "outputs": []
    },
    {
      "cell_type": "code",
      "metadata": {
        "id": "1N1ANcfmRpaK",
        "colab_type": "code",
        "colab": {}
      },
      "source": [
        "mean_train_losses3 = []\n",
        "mean_valid_losses3 = []\n",
        "valid_acc_list3 = []\n",
        "train_acc_list3=[]\n",
        "start_epoch3=0\n",
        "e3=5"
      ],
      "execution_count": 0,
      "outputs": []
    },
    {
      "cell_type": "code",
      "metadata": {
        "id": "-1Q88Kzj7iEI",
        "colab_type": "code",
        "outputId": "8f9d1782-138b-4efb-dc8d-2b188d341301",
        "colab": {
          "base_uri": "https://localhost:8080/",
          "height": 1000
        }
      },
      "source": [
        "for epoch in range(start_epoch3,20):\n",
        "    exp_lr_scheduler.step()\n",
        "    model152.train()\n",
        "    \n",
        "    train_losses = []\n",
        "    valid_losses = []\n",
        "    model152.eval()\n",
        "    correct_t = 0\n",
        "    total_t = 0\n",
        "    for i, data in enumerate(trainloader1):\n",
        "        images,labels=data\n",
        "        images,labels=images.to(device),labels.to(device)\n",
        "                \n",
        "        optimizer3.zero_grad()\n",
        "        \n",
        "        outputs = model152(images)\n",
        "        loss = loss_fn3(outputs, labels)\n",
        "        loss.backward()\n",
        "        optimizer3.step()\n",
        "        \n",
        "        train_losses.append(loss.item())\n",
        "        \n",
        "        _, predicted_t = torch.max(outputs.data, 1)\n",
        "        correct_t += (predicted_t == labels).sum().item()\n",
        "        total_t += labels.size(0)\n",
        "               \n",
        "        if (i * 1600) % (1600 * 1600) == 0:\n",
        "            print(f'{i * 10} / 50000')\n",
        "            \n",
        "    model152.eval()\n",
        "    correct_v = 0\n",
        "    total_v = 0\n",
        "    with torch.no_grad():\n",
        "        for i, data in enumerate(validloader):\n",
        "            images,labels=data\n",
        "            images,labels=images.to(device),labels.to(device)\n",
        "            outputs = model152(images)\n",
        "            loss = loss_fn3(outputs, labels)\n",
        "            \n",
        "            valid_losses.append(loss.item())\n",
        "            \n",
        "            _, predicted_v = torch.max(outputs.data, 1)\n",
        "            correct_v += (predicted_v == labels).sum().item()\n",
        "            total_v += labels.size(0)\n",
        "            \n",
        "    m_t_l=np.mean(train_losses)\n",
        "    m_v_l=np.mean(valid_losses)\n",
        "            \n",
        "    mean_train_losses3.append(m_t_l)\n",
        "    mean_valid_losses3.append(m_v_l)\n",
        "    \n",
        "    accuracy_v = 100*correct_v/total_v\n",
        "    accuracy_t = 100*correct_t/total_t\n",
        "    valid_acc_list3.append(accuracy_v)\n",
        "    train_acc_list3.append(accuracy_t)\n",
        "    \n",
        "        #save\n",
        "    torch.save({'epoch': epoch+1, 'model_state_dict': model152.state_dict(),'optimizer_state_dict': optimizer3.state_dict(), 'train loss': mean_train_losses3,'train acc': train_acc_list3, 'valid loss':mean_valid_losses3, 'valid acc': valid_acc_list3}, 'resnet152.pth')\n",
        "    print('epoch : {}, train loss : {:.4f}, train acc : {:.2f} valid loss : {:.4f}, valid acc : {:.2f}%'.format(epoch+1, m_t_l, accuracy_t, m_v_l, accuracy_v))\n",
        "print('best val acc: {0}, best train loss: {1}'.format(np.max(valid_acc_list3),np.min(mean_train_losses3)))"
      ],
      "execution_count": 0,
      "outputs": [
        {
          "output_type": "stream",
          "text": [
            "0 / 50000\n",
            "16000 / 50000\n",
            "32000 / 50000\n",
            "48000 / 50000\n",
            "epoch : 2, train loss : 0.3194, train acc : 87.92 valid loss : 0.3131, valid acc : 88.48%\n",
            "0 / 50000\n",
            "16000 / 50000\n",
            "32000 / 50000\n",
            "48000 / 50000\n",
            "epoch : 3, train loss : 0.2899, train acc : 88.97 valid loss : 0.3084, valid acc : 88.39%\n",
            "0 / 50000\n",
            "16000 / 50000\n",
            "32000 / 50000\n",
            "48000 / 50000\n",
            "epoch : 4, train loss : 0.2678, train acc : 89.86 valid loss : 0.2922, valid acc : 89.27%\n",
            "0 / 50000\n",
            "16000 / 50000\n",
            "32000 / 50000\n",
            "48000 / 50000\n",
            "epoch : 5, train loss : 0.2503, train acc : 90.63 valid loss : 0.2864, valid acc : 89.54%\n",
            "0 / 50000\n",
            "16000 / 50000\n",
            "32000 / 50000\n",
            "48000 / 50000\n",
            "epoch : 6, train loss : 0.2353, train acc : 91.09 valid loss : 0.2831, valid acc : 89.46%\n",
            "0 / 50000\n",
            "16000 / 50000\n",
            "32000 / 50000\n",
            "48000 / 50000\n",
            "epoch : 7, train loss : 0.2207, train acc : 91.72 valid loss : 0.2814, valid acc : 89.74%\n",
            "0 / 50000\n",
            "16000 / 50000\n",
            "32000 / 50000\n",
            "48000 / 50000\n",
            "epoch : 8, train loss : 0.2084, train acc : 92.12 valid loss : 0.2798, valid acc : 89.83%\n",
            "0 / 50000\n",
            "16000 / 50000\n",
            "32000 / 50000\n",
            "48000 / 50000\n",
            "epoch : 9, train loss : 0.1963, train acc : 92.65 valid loss : 0.2819, valid acc : 89.94%\n",
            "0 / 50000\n",
            "16000 / 50000\n",
            "32000 / 50000\n",
            "48000 / 50000\n",
            "epoch : 10, train loss : 0.1866, train acc : 92.84 valid loss : 0.2635, valid acc : 90.35%\n",
            "0 / 50000\n",
            "16000 / 50000\n",
            "32000 / 50000\n",
            "48000 / 50000\n",
            "epoch : 11, train loss : 0.1737, train acc : 93.40 valid loss : 0.2887, valid acc : 89.87%\n",
            "0 / 50000\n",
            "16000 / 50000\n",
            "32000 / 50000\n",
            "48000 / 50000\n",
            "epoch : 12, train loss : 0.1640, train acc : 93.77 valid loss : 0.2829, valid acc : 90.06%\n",
            "0 / 50000\n",
            "16000 / 50000\n",
            "32000 / 50000\n",
            "48000 / 50000\n",
            "epoch : 13, train loss : 0.1566, train acc : 94.09 valid loss : 0.2926, valid acc : 90.69%\n",
            "0 / 50000\n"
          ],
          "name": "stdout"
        },
        {
          "output_type": "error",
          "ename": "KeyboardInterrupt",
          "evalue": "ignored",
          "traceback": [
            "\u001b[0;31m---------------------------------------------------------------------------\u001b[0m",
            "\u001b[0;31mKeyboardInterrupt\u001b[0m                         Traceback (most recent call last)",
            "\u001b[0;32m<ipython-input-61-528370cd00d7>\u001b[0m in \u001b[0;36m<module>\u001b[0;34m()\u001b[0m\n\u001b[1;32m     17\u001b[0m         \u001b[0mloss\u001b[0m \u001b[0;34m=\u001b[0m \u001b[0mloss_fn3\u001b[0m\u001b[0;34m(\u001b[0m\u001b[0moutputs\u001b[0m\u001b[0;34m,\u001b[0m \u001b[0mlabels\u001b[0m\u001b[0;34m)\u001b[0m\u001b[0;34m\u001b[0m\u001b[0;34m\u001b[0m\u001b[0m\n\u001b[1;32m     18\u001b[0m         \u001b[0mloss\u001b[0m\u001b[0;34m.\u001b[0m\u001b[0mbackward\u001b[0m\u001b[0;34m(\u001b[0m\u001b[0;34m)\u001b[0m\u001b[0;34m\u001b[0m\u001b[0;34m\u001b[0m\u001b[0m\n\u001b[0;32m---> 19\u001b[0;31m         \u001b[0moptimizer3\u001b[0m\u001b[0;34m.\u001b[0m\u001b[0mstep\u001b[0m\u001b[0;34m(\u001b[0m\u001b[0;34m)\u001b[0m\u001b[0;34m\u001b[0m\u001b[0;34m\u001b[0m\u001b[0m\n\u001b[0m\u001b[1;32m     20\u001b[0m \u001b[0;34m\u001b[0m\u001b[0m\n\u001b[1;32m     21\u001b[0m         \u001b[0mtrain_losses\u001b[0m\u001b[0;34m.\u001b[0m\u001b[0mappend\u001b[0m\u001b[0;34m(\u001b[0m\u001b[0mloss\u001b[0m\u001b[0;34m.\u001b[0m\u001b[0mitem\u001b[0m\u001b[0;34m(\u001b[0m\u001b[0;34m)\u001b[0m\u001b[0;34m)\u001b[0m\u001b[0;34m\u001b[0m\u001b[0;34m\u001b[0m\u001b[0m\n",
            "\u001b[0;32m/usr/local/lib/python3.6/dist-packages/torch/optim/adam.py\u001b[0m in \u001b[0;36mstep\u001b[0;34m(self, closure)\u001b[0m\n\u001b[1;32m    101\u001b[0m                     \u001b[0mdenom\u001b[0m \u001b[0;34m=\u001b[0m \u001b[0mexp_avg_sq\u001b[0m\u001b[0;34m.\u001b[0m\u001b[0msqrt\u001b[0m\u001b[0;34m(\u001b[0m\u001b[0;34m)\u001b[0m\u001b[0;34m.\u001b[0m\u001b[0madd_\u001b[0m\u001b[0;34m(\u001b[0m\u001b[0mgroup\u001b[0m\u001b[0;34m[\u001b[0m\u001b[0;34m'eps'\u001b[0m\u001b[0;34m]\u001b[0m\u001b[0;34m)\u001b[0m\u001b[0;34m\u001b[0m\u001b[0;34m\u001b[0m\u001b[0m\n\u001b[1;32m    102\u001b[0m \u001b[0;34m\u001b[0m\u001b[0m\n\u001b[0;32m--> 103\u001b[0;31m                 \u001b[0mbias_correction1\u001b[0m \u001b[0;34m=\u001b[0m \u001b[0;36m1\u001b[0m \u001b[0;34m-\u001b[0m \u001b[0mbeta1\u001b[0m \u001b[0;34m**\u001b[0m \u001b[0mstate\u001b[0m\u001b[0;34m[\u001b[0m\u001b[0;34m'step'\u001b[0m\u001b[0;34m]\u001b[0m\u001b[0;34m\u001b[0m\u001b[0;34m\u001b[0m\u001b[0m\n\u001b[0m\u001b[1;32m    104\u001b[0m                 \u001b[0mbias_correction2\u001b[0m \u001b[0;34m=\u001b[0m \u001b[0;36m1\u001b[0m \u001b[0;34m-\u001b[0m \u001b[0mbeta2\u001b[0m \u001b[0;34m**\u001b[0m \u001b[0mstate\u001b[0m\u001b[0;34m[\u001b[0m\u001b[0;34m'step'\u001b[0m\u001b[0;34m]\u001b[0m\u001b[0;34m\u001b[0m\u001b[0;34m\u001b[0m\u001b[0m\n\u001b[1;32m    105\u001b[0m                 \u001b[0mstep_size\u001b[0m \u001b[0;34m=\u001b[0m \u001b[0mgroup\u001b[0m\u001b[0;34m[\u001b[0m\u001b[0;34m'lr'\u001b[0m\u001b[0;34m]\u001b[0m \u001b[0;34m*\u001b[0m \u001b[0mmath\u001b[0m\u001b[0;34m.\u001b[0m\u001b[0msqrt\u001b[0m\u001b[0;34m(\u001b[0m\u001b[0mbias_correction2\u001b[0m\u001b[0;34m)\u001b[0m \u001b[0;34m/\u001b[0m \u001b[0mbias_correction1\u001b[0m\u001b[0;34m\u001b[0m\u001b[0;34m\u001b[0m\u001b[0m\n",
            "\u001b[0;31mKeyboardInterrupt\u001b[0m: "
          ]
        }
      ]
    },
    {
      "cell_type": "code",
      "metadata": {
        "id": "ervTcmmnxncY",
        "colab_type": "code",
        "colab": {}
      },
      "source": [
        "checkpoint = torch.load('resnet152.pth')\n",
        "model152.load_state_dict(checkpoint['model_state_dict'])\n",
        "optimizer3.load_state_dict(checkpoint['optimizer_state_dict'])\n",
        "start_epoch3 = checkpoint['epoch']\n",
        "mean_train_losses3 = checkpoint['train loss']\n",
        "train_acc_list3=checkpoint['train acc']\n",
        "mean_valid_losses3 = checkpoint['valid loss']\n",
        "valid_acc_list3=checkpoint['valid acc']"
      ],
      "execution_count": 0,
      "outputs": []
    },
    {
      "cell_type": "code",
      "metadata": {
        "id": "DgEj0_3klzNB",
        "colab_type": "code",
        "outputId": "ba4481a2-14af-4d4a-8e57-ff8bfb8da625",
        "colab": {
          "base_uri": "https://localhost:8080/",
          "height": 612
        }
      },
      "source": [
        "fig, (ax1, ax2) = plt.subplots(nrows=1, ncols=2, figsize=(15, 10))\n",
        "ax1.plot(mean_train_losses3, label='train')\n",
        "ax1.plot(mean_valid_losses3, label='valid')\n",
        "lines, labels = ax1.get_legend_handles_labels()\n",
        "ax1.legend(lines, labels, loc='best')\n",
        "ax2.plot(valid_acc_list3, label='valid acc')\n",
        "ax2.plot(train_acc_list3, label='train acc')\n",
        "ax2.legend(lines, labels, loc='best')"
      ],
      "execution_count": 0,
      "outputs": [
        {
          "output_type": "execute_result",
          "data": {
            "text/plain": [
              "<matplotlib.legend.Legend at 0x7f4e1556acf8>"
            ]
          },
          "metadata": {
            "tags": []
          },
          "execution_count": 64
        },
        {
          "output_type": "display_data",
          "data": {
            "image/png": "[encoded data removed]",
            "text/plain": [
              "<Figure size 1080x720 with 2 Axes>"
            ]
          },
          "metadata": {
            "tags": []
          }
        }
      ]
    },
    {
      "cell_type": "code",
      "metadata": {
        "id": "EHJZca2xh7Vm",
        "colab_type": "code",
        "colab": {}
      },
      "source": [
        "test_acc_list3=[]"
      ],
      "execution_count": 0,
      "outputs": []
    },
    {
      "cell_type": "code",
      "metadata": {
        "id": "3FcvvyZFh3_-",
        "colab_type": "code",
        "colab": {
          "base_uri": "https://localhost:8080/",
          "height": 434
        },
        "outputId": "f3d3eaf5-d0f4-42af-95a3-3819f7f414e9"
      },
      "source": [
        "for epoch in range (start_epoch3):\n",
        "    correct_te = 0\n",
        "    total_te = 0\n",
        "    model152.eval()\n",
        "    with torch.no_grad():\n",
        "        for i, data in enumerate(testloader):\n",
        "            images,labels=data\n",
        "            images,labels=images.to(device),labels.to(device)\n",
        "            outputs = model152(images)\n",
        "            _, predicted_te = torch.max(outputs.data, 1)\n",
        "            correct_te += (predicted_te == labels).sum().item()\n",
        "            total_te += labels.size(0)\n",
        "    accuracy_te = 100*correct_te/total_te\n",
        "    test_acc_list3.append(accuracy_te)\n",
        "    print('epoch: {0}, test accuracy: {1}%'.format(epoch+1,accuracy_te))\n",
        "print('rata2 : {}'.format(np.mean(test_acc_list3)))"
      ],
      "execution_count": 13,
      "outputs": [
        {
          "output_type": "stream",
          "text": [
            "epoch: 1, test accuracy: 90.43%\n",
            "epoch: 2, test accuracy: 90.39%\n",
            "epoch: 3, test accuracy: 90.24%\n",
            "epoch: 4, test accuracy: 90.62%\n",
            "epoch: 5, test accuracy: 90.25%\n",
            "epoch: 6, test accuracy: 90.43%\n",
            "epoch: 7, test accuracy: 90.04%\n",
            "epoch: 8, test accuracy: 90.52%\n",
            "epoch: 9, test accuracy: 90.42%\n",
            "epoch: 10, test accuracy: 90.41%\n",
            "epoch: 11, test accuracy: 90.15%\n",
            "epoch: 12, test accuracy: 90.33%\n",
            "epoch: 13, test accuracy: 90.39%\n"
          ],
          "name": "stdout"
        },
        {
          "output_type": "error",
          "ename": "NameError",
          "evalue": "ignored",
          "traceback": [
            "\u001b[0;31m---------------------------------------------------------------------------\u001b[0m",
            "\u001b[0;31mNameError\u001b[0m                                 Traceback (most recent call last)",
            "\u001b[0;32m<ipython-input-13-b298e10ff1de>\u001b[0m in \u001b[0;36m<module>\u001b[0;34m()\u001b[0m\n\u001b[1;32m     14\u001b[0m     \u001b[0mtest_acc_list3\u001b[0m\u001b[0;34m.\u001b[0m\u001b[0mappend\u001b[0m\u001b[0;34m(\u001b[0m\u001b[0maccuracy_te\u001b[0m\u001b[0;34m)\u001b[0m\u001b[0;34m\u001b[0m\u001b[0;34m\u001b[0m\u001b[0m\n\u001b[1;32m     15\u001b[0m     \u001b[0mprint\u001b[0m\u001b[0;34m(\u001b[0m\u001b[0;34m'epoch: {0}, test accuracy: {1}%'\u001b[0m\u001b[0;34m.\u001b[0m\u001b[0mformat\u001b[0m\u001b[0;34m(\u001b[0m\u001b[0mepoch\u001b[0m\u001b[0;34m+\u001b[0m\u001b[0;36m1\u001b[0m\u001b[0;34m,\u001b[0m\u001b[0maccuracy_te\u001b[0m\u001b[0;34m)\u001b[0m\u001b[0;34m)\u001b[0m\u001b[0;34m\u001b[0m\u001b[0;34m\u001b[0m\u001b[0m\n\u001b[0;32m---> 16\u001b[0;31m \u001b[0mprint\u001b[0m\u001b[0;34m(\u001b[0m\u001b[0;34m'rata2 : {}'\u001b[0m\u001b[0;34m.\u001b[0m\u001b[0mformat\u001b[0m\u001b[0;34m(\u001b[0m\u001b[0mnp\u001b[0m\u001b[0;34m.\u001b[0m\u001b[0mmean\u001b[0m\u001b[0;34m(\u001b[0m\u001b[0mtest_acc_list2\u001b[0m\u001b[0;34m)\u001b[0m\u001b[0;34m)\u001b[0m\u001b[0;34m)\u001b[0m\u001b[0;34m\u001b[0m\u001b[0;34m\u001b[0m\u001b[0m\n\u001b[0m",
            "\u001b[0;31mNameError\u001b[0m: name 'test_acc_list2' is not defined"
          ]
        }
      ]
    },
    {
      "cell_type": "code",
      "metadata": {
        "id": "g_tM4un7l0bk",
        "colab_type": "code",
        "outputId": "ce7dae5e-7ccf-4f50-d006-c097997bf088",
        "colab": {
          "base_uri": "https://localhost:8080/",
          "height": 125
        }
      },
      "source": [
        "# Run this cell to mount your Google Drive.\n",
        "from google.colab import drive\n",
        "drive.mount('/content/drive')"
      ],
      "execution_count": 7,
      "outputs": [
        {
          "output_type": "stream",
          "text": [
            "Go to this URL in a browser: https://accounts.google.com/o/oauth2/auth?client_id=947318989803-6bn6qk8qdgf4n4g3pfee6491hc0brc4i.apps.googleusercontent.com&redirect_uri=urn%3Aietf%3Awg%3Aoauth%3A2.0%3Aoob&scope=email%20https%3A%2F%2Fwww.googleapis.com%2Fauth%2Fdocs.test%20https%3A%2F%2Fwww.googleapis.com%2Fauth%2Fdrive%20https%3A%2F%2Fwww.googleapis.com%2Fauth%2Fdrive.photos.readonly%20https%3A%2F%2Fwww.googleapis.com%2Fauth%2Fpeopleapi.readonly&response_type=code\n",
            "\n",
            "Enter your authorization code:\n",
            "··········\n",
            "Mounted at /content/drive\n"
          ],
          "name": "stdout"
        }
      ]
    },
    {
      "cell_type": "code",
      "metadata": {
        "id": "wLXTh4DCoZdO",
        "colab_type": "code",
        "colab": {}
      },
      "source": [
        "!cp '/content/resnet152.pth' '/content/drive/My Drive/Colab Notebooks'"
      ],
      "execution_count": 0,
      "outputs": []
    },
    {
      "cell_type": "code",
      "metadata": {
        "id": "hJtkFTHI2CjJ",
        "colab_type": "code",
        "colab": {}
      },
      "source": [
        "!cp '/content/drive/My Drive/Colab Notebooks/resnet152.pth' '/content/resnet152.pth'"
      ],
      "execution_count": 0,
      "outputs": []
    },
    {
      "cell_type": "code",
      "metadata": {
        "id": "nddYO3uA2mNt",
        "colab_type": "code",
        "colab": {}
      },
      "source": [
        ""
      ],
      "execution_count": 0,
      "outputs": []
    }
  ]
}